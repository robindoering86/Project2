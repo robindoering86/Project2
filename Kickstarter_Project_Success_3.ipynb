{
 "cells": [
  {
   "cell_type": "markdown",
   "metadata": {
    "colab_type": "text",
    "id": "view-in-github"
   },
   "source": [
    "<a href=\"https://colab.research.google.com/github/robindoering86/Project2-Kickstarter_success/blob/master/Kickstarter_Project_Success_3.ipynb\" target=\"_parent\"><img src=\"https://colab.research.google.com/assets/colab-badge.svg\" alt=\"Open In Colab\"/></a>"
   ]
  },
  {
   "cell_type": "markdown",
   "metadata": {
    "colab_type": "text",
    "id": "fr80xeApxjlo"
   },
   "source": [
    "3. Kickstarter Project Success - Robin & Peter, Manuel & Simon\n",
    "\n",
    "\n",
    "In recent years, the range of funding options for projects created by individuals and small companies has expanded considerably. In addition to savings, bank loans, friends & family funding and other traditional options, crowdfunding has become a popular and readily available alternative. \n",
    "\n",
    "Kickstarter, founded in 2009, is one particularly well-known and popular crowdfunding platform. It has an all-or-nothing funding model, whereby a project is only funded if it meets its goal amount; otherwise no money is given by backers to a project.\n",
    "A huge variety of factors contribute to the success or failure of a project — in general, and also on Kickstarter. Some of these are able to be quantified or categorized, which allows for the construction of a model to attempt to predict whether a project will succeed or not. The aim of this project is to construct such a model and also to analyse Kickstarter project data more generally, in order to help potential project creators assess whether or not Kickstarter is a good funding option for them, and what their chances of success are.\n"
   ]
  },
  {
   "cell_type": "markdown",
   "metadata": {
    "colab_type": "text",
    "id": "TOauJb7jxjlq"
   },
   "source": [
    "# Project 2: Kickstarter Project Success"
   ]
  },
  {
   "cell_type": "markdown",
   "metadata": {
    "colab_type": "text",
    "id": "gnHrg3ZQxjlr"
   },
   "source": [
    "## Import libraries"
   ]
  },
  {
   "cell_type": "code",
   "execution_count": 1,
   "metadata": {
    "colab": {},
    "colab_type": "code",
    "id": "R6kpBKdIxjlr"
   },
   "outputs": [],
   "source": [
    "# Pandas as NumPy\n",
    "import pandas as pd\n",
    "import numpy as np\n",
    "\n",
    "# Scikit-Learn\n",
    "from sklearn.tree import DecisionTreeClassifier\n",
    "from sklearn.model_selection import train_test_split\n",
    "from sklearn.metrics import accuracy_score, precision_score, roc_curve, confusion_matrix \n",
    "\n",
    "# Pyplot\n",
    "import matplotlib.pyplot as plt\n",
    "import seaborn as sns\n",
    "\n",
    "\n",
    "from sklearn.model_selection import train_test_split\n",
    "\n",
    "\n",
    "# Others\n",
    "from os import listdir\n",
    "import time\n",
    "import pickle\n",
    "\n"
   ]
  },
  {
   "cell_type": "markdown",
   "metadata": {
    "colab_type": "text",
    "id": "8nA6mzssxjlu"
   },
   "source": [
    "## Read in the data"
   ]
  },
  {
   "cell_type": "code",
   "execution_count": 62,
   "metadata": {
    "colab": {},
    "colab_type": "code",
    "id": "ytMD_g1cxtzC"
   },
   "outputs": [],
   "source": [
    "#from google.colab import drive\n",
    "#drive.mount('/content/drive')"
   ]
  },
  {
   "cell_type": "code",
   "execution_count": 63,
   "metadata": {
    "colab": {},
    "colab_type": "code",
    "id": "H5U1Bz5Sxjlu"
   },
   "outputs": [],
   "source": [
    "# For local execution\n",
    "#base_path = './data/'\n",
    "\n",
    "# For google colab execution\n",
    "#base_path = '/content/drive/My Drive/Colab Notebooks/data/' # peter\n",
    "base_path = 'data/'\n",
    "#base_path = '/content/drive/My Drive/Kickstarter_data/data/' # robin\n",
    "data = pd.concat([pd.read_csv(base_path+x) for x in sorted(listdir(base_path))], axis=0)\n",
    "data_cp = data.copy()"
   ]
  },
  {
   "cell_type": "code",
   "execution_count": 64,
   "metadata": {
    "colab": {},
    "colab_type": "code",
    "id": "BgHjaee_xjlw"
   },
   "outputs": [],
   "source": [
    "# Create df for the second half of colu,ns\n",
    "data_sh = data.iloc[:, 17:]"
   ]
  },
  {
   "cell_type": "code",
   "execution_count": 65,
   "metadata": {
    "colab": {},
    "colab_type": "code",
    "id": "nuT5rbEuxjly",
    "outputId": "fe0cf1b0-c1ec-4274-ee22-e8305a110323"
   },
   "outputs": [
    {
     "data": {
      "text/plain": [
       "(209222, 37)"
      ]
     },
     "execution_count": 65,
     "metadata": {},
     "output_type": "execute_result"
    }
   ],
   "source": [
    "data.shape"
   ]
  },
  {
   "cell_type": "code",
   "execution_count": 66,
   "metadata": {
    "colab": {},
    "colab_type": "code",
    "id": "5ogpaZwQxjl0",
    "outputId": "2ee11551-2e0d-4a58-a723-4fb4bc3705d2"
   },
   "outputs": [
    {
     "data": {
      "text/plain": [
       "backers_count                    0\n",
       "blurb                            8\n",
       "category                         0\n",
       "converted_pledged_amount         0\n",
       "country                          0\n",
       "created_at                       0\n",
       "creator                          0\n",
       "currency                         0\n",
       "currency_symbol                  0\n",
       "currency_trailing_code           0\n",
       "current_currency                 0\n",
       "deadline                         0\n",
       "disable_communication            0\n",
       "friends                     208922\n",
       "fx_rate                          0\n",
       "goal                             0\n",
       "id                               0\n",
       "is_backing                  208922\n",
       "is_starrable                     0\n",
       "is_starred                  208922\n",
       "launched_at                      0\n",
       "location                       226\n",
       "name                             0\n",
       "permissions                 208922\n",
       "photo                            0\n",
       "pledged                          0\n",
       "profile                          0\n",
       "slug                             0\n",
       "source_url                       0\n",
       "spotlight                        0\n",
       "staff_pick                       0\n",
       "state                            0\n",
       "state_changed_at                 0\n",
       "static_usd_rate                  0\n",
       "urls                             0\n",
       "usd_pledged                      0\n",
       "usd_type                       480\n",
       "dtype: int64"
      ]
     },
     "execution_count": 66,
     "metadata": {},
     "output_type": "execute_result"
    }
   ],
   "source": [
    "data.isna().sum()"
   ]
  },
  {
   "cell_type": "code",
   "execution_count": 67,
   "metadata": {
    "colab": {},
    "colab_type": "code",
    "id": "yflPw6rNxjl2",
    "outputId": "5d69e934-ef53-4bf4-aa7c-10b99a3f79e1"
   },
   "outputs": [
    {
     "data": {
      "text/plain": [
       "Index(['backers_count', 'blurb', 'category', 'converted_pledged_amount',\n",
       "       'country', 'created_at', 'creator', 'currency', 'currency_symbol',\n",
       "       'currency_trailing_code', 'current_currency', 'deadline',\n",
       "       'disable_communication', 'friends', 'fx_rate', 'goal', 'id',\n",
       "       'is_backing', 'is_starrable', 'is_starred', 'launched_at', 'location',\n",
       "       'name', 'permissions', 'photo', 'pledged', 'profile', 'slug',\n",
       "       'source_url', 'spotlight', 'staff_pick', 'state', 'state_changed_at',\n",
       "       'static_usd_rate', 'urls', 'usd_pledged', 'usd_type'],\n",
       "      dtype='object')"
      ]
     },
     "execution_count": 67,
     "metadata": {},
     "output_type": "execute_result"
    }
   ],
   "source": [
    "data.columns"
   ]
  },
  {
   "cell_type": "code",
   "execution_count": 68,
   "metadata": {
    "colab": {},
    "colab_type": "code",
    "id": "2qZFf7Eaxjl4",
    "outputId": "388e96ee-41d5-4922-fadd-65ec4263160c"
   },
   "outputs": [
    {
     "data": {
      "text/html": [
       "<div>\n",
       "<style scoped>\n",
       "    .dataframe tbody tr th:only-of-type {\n",
       "        vertical-align: middle;\n",
       "    }\n",
       "\n",
       "    .dataframe tbody tr th {\n",
       "        vertical-align: top;\n",
       "    }\n",
       "\n",
       "    .dataframe thead th {\n",
       "        text-align: right;\n",
       "    }\n",
       "</style>\n",
       "<table border=\"1\" class=\"dataframe\">\n",
       "  <thead>\n",
       "    <tr style=\"text-align: right;\">\n",
       "      <th></th>\n",
       "      <th>backers_count</th>\n",
       "      <th>converted_pledged_amount</th>\n",
       "      <th>created_at</th>\n",
       "      <th>deadline</th>\n",
       "      <th>fx_rate</th>\n",
       "      <th>goal</th>\n",
       "      <th>id</th>\n",
       "      <th>launched_at</th>\n",
       "      <th>pledged</th>\n",
       "      <th>state_changed_at</th>\n",
       "      <th>static_usd_rate</th>\n",
       "      <th>usd_pledged</th>\n",
       "    </tr>\n",
       "  </thead>\n",
       "  <tbody>\n",
       "    <tr>\n",
       "      <th>count</th>\n",
       "      <td>209222.000000</td>\n",
       "      <td>2.092220e+05</td>\n",
       "      <td>2.092220e+05</td>\n",
       "      <td>2.092220e+05</td>\n",
       "      <td>209222.000000</td>\n",
       "      <td>2.092220e+05</td>\n",
       "      <td>2.092220e+05</td>\n",
       "      <td>2.092220e+05</td>\n",
       "      <td>2.092220e+05</td>\n",
       "      <td>2.092220e+05</td>\n",
       "      <td>209222.000000</td>\n",
       "      <td>2.092220e+05</td>\n",
       "    </tr>\n",
       "    <tr>\n",
       "      <th>mean</th>\n",
       "      <td>145.419057</td>\n",
       "      <td>1.289290e+04</td>\n",
       "      <td>1.456089e+09</td>\n",
       "      <td>1.463033e+09</td>\n",
       "      <td>0.994857</td>\n",
       "      <td>4.917604e+04</td>\n",
       "      <td>1.073222e+09</td>\n",
       "      <td>1.460206e+09</td>\n",
       "      <td>1.881403e+04</td>\n",
       "      <td>1.462838e+09</td>\n",
       "      <td>1.010757</td>\n",
       "      <td>1.289213e+04</td>\n",
       "    </tr>\n",
       "    <tr>\n",
       "      <th>std</th>\n",
       "      <td>885.967976</td>\n",
       "      <td>8.889414e+04</td>\n",
       "      <td>6.339711e+07</td>\n",
       "      <td>6.305618e+07</td>\n",
       "      <td>0.211654</td>\n",
       "      <td>1.179427e+06</td>\n",
       "      <td>6.198051e+08</td>\n",
       "      <td>6.309029e+07</td>\n",
       "      <td>3.229596e+05</td>\n",
       "      <td>6.290421e+07</td>\n",
       "      <td>0.231893</td>\n",
       "      <td>8.890124e+04</td>\n",
       "    </tr>\n",
       "    <tr>\n",
       "      <th>min</th>\n",
       "      <td>0.000000</td>\n",
       "      <td>0.000000e+00</td>\n",
       "      <td>1.240366e+09</td>\n",
       "      <td>1.241334e+09</td>\n",
       "      <td>0.008966</td>\n",
       "      <td>1.000000e-02</td>\n",
       "      <td>8.624000e+03</td>\n",
       "      <td>1.240603e+09</td>\n",
       "      <td>0.000000e+00</td>\n",
       "      <td>1.241334e+09</td>\n",
       "      <td>0.008771</td>\n",
       "      <td>0.000000e+00</td>\n",
       "    </tr>\n",
       "    <tr>\n",
       "      <th>25%</th>\n",
       "      <td>4.000000</td>\n",
       "      <td>1.060000e+02</td>\n",
       "      <td>1.413317e+09</td>\n",
       "      <td>1.420607e+09</td>\n",
       "      <td>1.000000</td>\n",
       "      <td>1.500000e+03</td>\n",
       "      <td>5.351054e+08</td>\n",
       "      <td>1.417639e+09</td>\n",
       "      <td>1.100000e+02</td>\n",
       "      <td>1.420485e+09</td>\n",
       "      <td>1.000000</td>\n",
       "      <td>1.060014e+02</td>\n",
       "    </tr>\n",
       "    <tr>\n",
       "      <th>50%</th>\n",
       "      <td>27.000000</td>\n",
       "      <td>1.537000e+03</td>\n",
       "      <td>1.457895e+09</td>\n",
       "      <td>1.464754e+09</td>\n",
       "      <td>1.000000</td>\n",
       "      <td>5.000000e+03</td>\n",
       "      <td>1.074579e+09</td>\n",
       "      <td>1.461924e+09</td>\n",
       "      <td>1.556000e+03</td>\n",
       "      <td>1.464709e+09</td>\n",
       "      <td>1.000000</td>\n",
       "      <td>1.537358e+03</td>\n",
       "    </tr>\n",
       "    <tr>\n",
       "      <th>75%</th>\n",
       "      <td>89.000000</td>\n",
       "      <td>6.548000e+03</td>\n",
       "      <td>1.511595e+09</td>\n",
       "      <td>1.519437e+09</td>\n",
       "      <td>1.000000</td>\n",
       "      <td>1.500000e+04</td>\n",
       "      <td>1.609369e+09</td>\n",
       "      <td>1.516694e+09</td>\n",
       "      <td>6.887200e+03</td>\n",
       "      <td>1.519366e+09</td>\n",
       "      <td>1.000000</td>\n",
       "      <td>6.550000e+03</td>\n",
       "    </tr>\n",
       "    <tr>\n",
       "      <th>max</th>\n",
       "      <td>105857.000000</td>\n",
       "      <td>8.596474e+06</td>\n",
       "      <td>1.552527e+09</td>\n",
       "      <td>1.557721e+09</td>\n",
       "      <td>1.876033</td>\n",
       "      <td>1.000000e+08</td>\n",
       "      <td>2.147476e+09</td>\n",
       "      <td>1.552537e+09</td>\n",
       "      <td>8.103074e+07</td>\n",
       "      <td>1.552537e+09</td>\n",
       "      <td>1.716408</td>\n",
       "      <td>8.596475e+06</td>\n",
       "    </tr>\n",
       "  </tbody>\n",
       "</table>\n",
       "</div>"
      ],
      "text/plain": [
       "       backers_count  converted_pledged_amount    created_at      deadline  \\\n",
       "count  209222.000000              2.092220e+05  2.092220e+05  2.092220e+05   \n",
       "mean      145.419057              1.289290e+04  1.456089e+09  1.463033e+09   \n",
       "std       885.967976              8.889414e+04  6.339711e+07  6.305618e+07   \n",
       "min         0.000000              0.000000e+00  1.240366e+09  1.241334e+09   \n",
       "25%         4.000000              1.060000e+02  1.413317e+09  1.420607e+09   \n",
       "50%        27.000000              1.537000e+03  1.457895e+09  1.464754e+09   \n",
       "75%        89.000000              6.548000e+03  1.511595e+09  1.519437e+09   \n",
       "max    105857.000000              8.596474e+06  1.552527e+09  1.557721e+09   \n",
       "\n",
       "             fx_rate          goal            id   launched_at       pledged  \\\n",
       "count  209222.000000  2.092220e+05  2.092220e+05  2.092220e+05  2.092220e+05   \n",
       "mean        0.994857  4.917604e+04  1.073222e+09  1.460206e+09  1.881403e+04   \n",
       "std         0.211654  1.179427e+06  6.198051e+08  6.309029e+07  3.229596e+05   \n",
       "min         0.008966  1.000000e-02  8.624000e+03  1.240603e+09  0.000000e+00   \n",
       "25%         1.000000  1.500000e+03  5.351054e+08  1.417639e+09  1.100000e+02   \n",
       "50%         1.000000  5.000000e+03  1.074579e+09  1.461924e+09  1.556000e+03   \n",
       "75%         1.000000  1.500000e+04  1.609369e+09  1.516694e+09  6.887200e+03   \n",
       "max         1.876033  1.000000e+08  2.147476e+09  1.552537e+09  8.103074e+07   \n",
       "\n",
       "       state_changed_at  static_usd_rate   usd_pledged  \n",
       "count      2.092220e+05    209222.000000  2.092220e+05  \n",
       "mean       1.462838e+09         1.010757  1.289213e+04  \n",
       "std        6.290421e+07         0.231893  8.890124e+04  \n",
       "min        1.241334e+09         0.008771  0.000000e+00  \n",
       "25%        1.420485e+09         1.000000  1.060014e+02  \n",
       "50%        1.464709e+09         1.000000  1.537358e+03  \n",
       "75%        1.519366e+09         1.000000  6.550000e+03  \n",
       "max        1.552537e+09         1.716408  8.596475e+06  "
      ]
     },
     "execution_count": 68,
     "metadata": {},
     "output_type": "execute_result"
    }
   ],
   "source": [
    "data.describe()"
   ]
  },
  {
   "cell_type": "markdown",
   "metadata": {
    "colab_type": "text",
    "id": "Vhd4OyUxxjl6"
   },
   "source": [
    "Description of columns would be helpful!"
   ]
  },
  {
   "cell_type": "code",
   "execution_count": 69,
   "metadata": {
    "colab": {},
    "colab_type": "code",
    "id": "BJdAUtFhxjl6",
    "outputId": "0d9cc531-800d-4344-eb22-a8e2dc88baef"
   },
   "outputs": [
    {
     "name": "stdout",
     "output_type": "stream",
     "text": [
      "<class 'pandas.core.frame.DataFrame'>\n",
      "Int64Index: 209222 entries, 0 to 964\n",
      "Data columns (total 37 columns):\n",
      "backers_count               209222 non-null int64\n",
      "blurb                       209214 non-null object\n",
      "category                    209222 non-null object\n",
      "converted_pledged_amount    209222 non-null int64\n",
      "country                     209222 non-null object\n",
      "created_at                  209222 non-null int64\n",
      "creator                     209222 non-null object\n",
      "currency                    209222 non-null object\n",
      "currency_symbol             209222 non-null object\n",
      "currency_trailing_code      209222 non-null bool\n",
      "current_currency            209222 non-null object\n",
      "deadline                    209222 non-null int64\n",
      "disable_communication       209222 non-null bool\n",
      "friends                     300 non-null object\n",
      "fx_rate                     209222 non-null float64\n",
      "goal                        209222 non-null float64\n",
      "id                          209222 non-null int64\n",
      "is_backing                  300 non-null object\n",
      "is_starrable                209222 non-null bool\n",
      "is_starred                  300 non-null object\n",
      "launched_at                 209222 non-null int64\n",
      "location                    208996 non-null object\n",
      "name                        209222 non-null object\n",
      "permissions                 300 non-null object\n",
      "photo                       209222 non-null object\n",
      "pledged                     209222 non-null float64\n",
      "profile                     209222 non-null object\n",
      "slug                        209222 non-null object\n",
      "source_url                  209222 non-null object\n",
      "spotlight                   209222 non-null bool\n",
      "staff_pick                  209222 non-null bool\n",
      "state                       209222 non-null object\n",
      "state_changed_at            209222 non-null int64\n",
      "static_usd_rate             209222 non-null float64\n",
      "urls                        209222 non-null object\n",
      "usd_pledged                 209222 non-null float64\n",
      "usd_type                    208742 non-null object\n",
      "dtypes: bool(5), float64(5), int64(7), object(20)\n",
      "memory usage: 53.7+ MB\n"
     ]
    }
   ],
   "source": [
    "data.info()"
   ]
  },
  {
   "cell_type": "code",
   "execution_count": 70,
   "metadata": {
    "colab": {},
    "colab_type": "code",
    "id": "bVhuQCIgxjl_"
   },
   "outputs": [],
   "source": [
    "# significant amout of missing data in these columns, ignore for now\n",
    "# Define a list columns to drop\n",
    "droplist = []\n",
    "droplist = droplist+['friends', 'is_backing', 'is_starred', 'permissions']"
   ]
  },
  {
   "cell_type": "markdown",
   "metadata": {
    "colab_type": "text",
    "id": "_7x0SeiDxjmA"
   },
   "source": [
    "### The predicted variable: 'state'"
   ]
  },
  {
   "cell_type": "code",
   "execution_count": 71,
   "metadata": {
    "colab": {},
    "colab_type": "code",
    "id": "pJB8sY9hxjmB",
    "outputId": "286f161f-b6d2-4fcb-8aea-63eaeb966509"
   },
   "outputs": [
    {
     "data": {
      "text/plain": [
       "count         209222\n",
       "unique             5\n",
       "top       successful\n",
       "freq          117465\n",
       "Name: state, dtype: object"
      ]
     },
     "execution_count": 71,
     "metadata": {},
     "output_type": "execute_result"
    }
   ],
   "source": [
    "data_sh['state'].describe()"
   ]
  },
  {
   "cell_type": "code",
   "execution_count": 72,
   "metadata": {
    "colab": {},
    "colab_type": "code",
    "id": "pAWW8LC2xjmD",
    "outputId": "d6af3931-c7a1-474e-9f79-63dd14d0a513"
   },
   "outputs": [
    {
     "data": {
      "text/plain": [
       "successful    117465\n",
       "failed         75199\n",
       "canceled        8624\n",
       "live            7311\n",
       "suspended        623\n",
       "Name: state, dtype: int64"
      ]
     },
     "execution_count": 72,
     "metadata": {},
     "output_type": "execute_result"
    }
   ],
   "source": [
    "data_sh['state'].value_counts()"
   ]
  },
  {
   "cell_type": "code",
   "execution_count": 73,
   "metadata": {
    "colab": {},
    "colab_type": "code",
    "id": "SGUwxxfaxjmE",
    "outputId": "e89b0f60-0844-4ef5-ea3e-b1d17b1c5e78"
   },
   "outputs": [
    {
     "data": {
      "text/plain": [
       "0.07914081693129786"
      ]
     },
     "execution_count": 73,
     "metadata": {},
     "output_type": "execute_result"
    }
   ],
   "source": [
    "# Calculate percentage of 'state' value that are not either 'successful' or 'failed'\n",
    "abs(len(data_sh[(data_sh['state'] == 'successful') | (data_sh['state'] == 'failed')]) - len(data_sh)) / len(data_sh)"
   ]
  },
  {
   "cell_type": "markdown",
   "metadata": {
    "colab_type": "text",
    "id": "E4m7htCQxjmG"
   },
   "source": [
    "'state' has 5 different values: 'successful', 'failed', 'canceled', 'live', and 'suspended'. If we want binary target class to be binary, we would loose approx 8% of the dataset."
   ]
  },
  {
   "cell_type": "code",
   "execution_count": 74,
   "metadata": {
    "colab": {},
    "colab_type": "code",
    "id": "Ju22qM49xjmH",
    "outputId": "88cfcf21-bc48-4edb-92de-7fc570b29b87"
   },
   "outputs": [
    {
     "name": "stdout",
     "output_type": "stream",
     "text": [
      "<class 'pandas.core.frame.DataFrame'>\n",
      "Int64Index: 192664 entries, 0 to 964\n",
      "Data columns (total 20 columns):\n",
      "is_backing          0 non-null object\n",
      "is_starrable        192664 non-null bool\n",
      "is_starred          0 non-null object\n",
      "launched_at         192664 non-null int64\n",
      "location            192449 non-null object\n",
      "name                192664 non-null object\n",
      "permissions         0 non-null object\n",
      "photo               192664 non-null object\n",
      "pledged             192664 non-null float64\n",
      "profile             192664 non-null object\n",
      "slug                192664 non-null object\n",
      "source_url          192664 non-null object\n",
      "spotlight           192664 non-null bool\n",
      "staff_pick          192664 non-null bool\n",
      "state               192664 non-null object\n",
      "state_changed_at    192664 non-null int64\n",
      "static_usd_rate     192664 non-null float64\n",
      "urls                192664 non-null object\n",
      "usd_pledged         192664 non-null float64\n",
      "usd_type            192626 non-null object\n",
      "dtypes: bool(3), float64(3), int64(2), object(12)\n",
      "memory usage: 27.0+ MB\n"
     ]
    }
   ],
   "source": [
    "data_sh[(data_sh['state'] == 'successful') | (data_sh['state'] == 'failed')].info()"
   ]
  },
  {
   "cell_type": "code",
   "execution_count": 75,
   "metadata": {
    "colab": {},
    "colab_type": "code",
    "id": "2BJdigM8xjmI"
   },
   "outputs": [],
   "source": [
    "# New dataframe which contains only entries which have the state 'successful' or 'failed'\n",
    "filtered_df = data[(data['state'] == 'successful') | (data['state'] == 'failed')].copy()\n",
    "filtered_df.reset_index(inplace=True)"
   ]
  },
  {
   "cell_type": "code",
   "execution_count": 76,
   "metadata": {
    "colab": {},
    "colab_type": "code",
    "id": "_2GPDs89xjmK",
    "outputId": "899cb264-8aac-4302-dbff-7a57aa8da64c"
   },
   "outputs": [
    {
     "data": {
      "text/plain": [
       "Index(['index', 'backers_count', 'blurb', 'category',\n",
       "       'converted_pledged_amount', 'country', 'created_at', 'creator',\n",
       "       'currency', 'currency_symbol', 'currency_trailing_code',\n",
       "       'current_currency', 'deadline', 'disable_communication', 'friends',\n",
       "       'fx_rate', 'goal', 'id', 'is_backing', 'is_starrable', 'is_starred',\n",
       "       'launched_at', 'location', 'name', 'permissions', 'photo', 'pledged',\n",
       "       'profile', 'slug', 'source_url', 'spotlight', 'staff_pick', 'state',\n",
       "       'state_changed_at', 'static_usd_rate', 'urls', 'usd_pledged',\n",
       "       'usd_type'],\n",
       "      dtype='object')"
      ]
     },
     "execution_count": 76,
     "metadata": {},
     "output_type": "execute_result"
    }
   ],
   "source": [
    "filtered_df.columns"
   ]
  },
  {
   "cell_type": "markdown",
   "metadata": {
    "colab_type": "text",
    "id": "egrkVRGexjmM"
   },
   "source": [
    "### The 'is_starrable' column\n",
    "is_starrable - whether or not a project can be starred (liked and saved) by users"
   ]
  },
  {
   "cell_type": "code",
   "execution_count": 77,
   "metadata": {
    "colab": {},
    "colab_type": "code",
    "id": "AtQr_gICxjmM"
   },
   "outputs": [],
   "source": [
    "col = 'is_starrable'"
   ]
  },
  {
   "cell_type": "code",
   "execution_count": 78,
   "metadata": {
    "colab": {},
    "colab_type": "code",
    "id": "irZ_MpBXxjmO",
    "outputId": "4e505f3f-23fa-418c-e4b3-f18f2954701d"
   },
   "outputs": [
    {
     "data": {
      "text/plain": [
       "0    False\n",
       "1    False\n",
       "2    False\n",
       "3    False\n",
       "4    False\n",
       "Name: is_starrable, dtype: bool"
      ]
     },
     "execution_count": 78,
     "metadata": {},
     "output_type": "execute_result"
    }
   ],
   "source": [
    "filtered_df[col].head()"
   ]
  },
  {
   "cell_type": "code",
   "execution_count": 79,
   "metadata": {
    "colab": {},
    "colab_type": "code",
    "id": "kHSUNrJzxjmP"
   },
   "outputs": [],
   "source": [
    "filtered_df[col] = filtered_df[col].astype(bool)"
   ]
  },
  {
   "cell_type": "code",
   "execution_count": 80,
   "metadata": {
    "colab": {},
    "colab_type": "code",
    "id": "5NPcK3ETxjmS",
    "outputId": "29bb98bf-138c-44e3-a578-f7a360f56428"
   },
   "outputs": [
    {
     "data": {
      "text/plain": [
       "count     192664\n",
       "unique         1\n",
       "top        False\n",
       "freq      192664\n",
       "Name: is_starrable, dtype: object"
      ]
     },
     "execution_count": 80,
     "metadata": {},
     "output_type": "execute_result"
    }
   ],
   "source": [
    "filtered_df[col].describe()"
   ]
  },
  {
   "cell_type": "code",
   "execution_count": 81,
   "metadata": {
    "colab": {},
    "colab_type": "code",
    "id": "drF57Nj0xjmU",
    "outputId": "63c98141-1c2c-4ecf-e64a-f66dd51695de"
   },
   "outputs": [
    {
     "data": {
      "text/plain": [
       "False    192664\n",
       "Name: is_starrable, dtype: int64"
      ]
     },
     "execution_count": 81,
     "metadata": {},
     "output_type": "execute_result"
    }
   ],
   "source": [
    "filtered_df[col].value_counts()"
   ]
  },
  {
   "cell_type": "code",
   "execution_count": 82,
   "metadata": {
    "colab": {},
    "colab_type": "code",
    "id": "6HXuixMwxjmW",
    "outputId": "d73c32c1-3b12-4a56-8684-f2e0cff60c1f"
   },
   "outputs": [
    {
     "data": {
      "text/plain": [
       "0"
      ]
     },
     "execution_count": 82,
     "metadata": {},
     "output_type": "execute_result"
    }
   ],
   "source": [
    "# Any missing values?\n",
    "filtered_df[col].isnull().sum()"
   ]
  },
  {
   "cell_type": "markdown",
   "metadata": {
    "colab_type": "text",
    "id": "y36tYPZhxjmY"
   },
   "source": [
    "### The 'launched_at' column\n",
    "\n",
    "launched_at - date and time of when the project was launched for funding"
   ]
  },
  {
   "cell_type": "code",
   "execution_count": 83,
   "metadata": {
    "colab": {},
    "colab_type": "code",
    "id": "9lzXxqzVxjmY",
    "outputId": "ea64b86a-3502-411e-9e09-4dcb422f9f93"
   },
   "outputs": [
    {
     "data": {
      "text/plain": [
       "0    1388011046\n",
       "1    1550073611\n",
       "2    1478012330\n",
       "3    1540684582\n",
       "4    1425919017\n",
       "Name: launched_at, dtype: int64"
      ]
     },
     "execution_count": 83,
     "metadata": {},
     "output_type": "execute_result"
    }
   ],
   "source": [
    "col = 'launched_at'\n",
    "filtered_df[col].head()"
   ]
  },
  {
   "cell_type": "code",
   "execution_count": 84,
   "metadata": {
    "colab": {},
    "colab_type": "code",
    "id": "H2W-iKtYxjma"
   },
   "outputs": [],
   "source": [
    "# Make human-readable dates out of timestamp\n",
    "filtered_df[col] = pd.to_datetime(filtered_df[col], unit='s')"
   ]
  },
  {
   "cell_type": "code",
   "execution_count": 85,
   "metadata": {
    "colab": {},
    "colab_type": "code",
    "id": "UfqMEQ_Xxjmc",
    "outputId": "fd6f3209-e029-49a5-f20a-49cede7b7fcc"
   },
   "outputs": [
    {
     "data": {
      "text/plain": [
       "dtype('O')"
      ]
     },
     "execution_count": 85,
     "metadata": {},
     "output_type": "execute_result"
    }
   ],
   "source": [
    "#data_sh['launched_at'].iloc[0].dayofweek\n",
    "\n",
    "filtered_df['launch_weekday'] = [x.day_name() for x in filtered_df['launched_at']]\n",
    "filtered_df['launch_weekday'] = filtered_df['launch_weekday'].astype(str)\n",
    "filtered_df['launch_weekday'].dtype"
   ]
  },
  {
   "cell_type": "code",
   "execution_count": 86,
   "metadata": {
    "colab": {},
    "colab_type": "code",
    "id": "e2T5rnklxjmd",
    "outputId": "42faf011-3c95-4d67-8393-25be97771c5e"
   },
   "outputs": [
    {
     "data": {
      "text/plain": [
       "dtype('int64')"
      ]
     },
     "execution_count": 86,
     "metadata": {},
     "output_type": "execute_result"
    }
   ],
   "source": [
    "filtered_df['launch_year'] = [x.year for x in filtered_df['launched_at']]\n",
    "filtered_df['launch_year'] = filtered_df['launch_year'].astype(int)\n",
    "filtered_df['launch_year'].dtype"
   ]
  },
  {
   "cell_type": "code",
   "execution_count": 87,
   "metadata": {
    "colab": {},
    "colab_type": "code",
    "id": "Kq4yWzZzxjmf",
    "outputId": "a14a990b-27a5-4a0b-e2dc-3daab2c166a1"
   },
   "outputs": [
    {
     "data": {
      "text/plain": [
       "dtype('int64')"
      ]
     },
     "execution_count": 87,
     "metadata": {},
     "output_type": "execute_result"
    }
   ],
   "source": [
    "filtered_df['launch_month'] = [x.month for x in filtered_df['launched_at']]\n",
    "filtered_df['launch_month'] = filtered_df['launch_month'].astype(int)\n",
    "filtered_df['launch_month'].dtype"
   ]
  },
  {
   "cell_type": "code",
   "execution_count": 88,
   "metadata": {
    "colab": {},
    "colab_type": "code",
    "id": "LG2cYoiLxjmg",
    "outputId": "5bf940b9-8448-4a50-8853-b35cd58aa9bb"
   },
   "outputs": [
    {
     "data": {
      "text/plain": [
       "dtype('int64')"
      ]
     },
     "execution_count": 88,
     "metadata": {},
     "output_type": "execute_result"
    }
   ],
   "source": [
    "filtered_df['launch_day'] = [x.day for x in filtered_df['launched_at']]\n",
    "filtered_df['launch_day'] = filtered_df['launch_day'].astype(int)\n",
    "filtered_df['launch_day'].dtype"
   ]
  },
  {
   "cell_type": "code",
   "execution_count": 89,
   "metadata": {
    "colab": {},
    "colab_type": "code",
    "id": "S2ZPLkAaxjmi",
    "outputId": "31f2ca3c-7411-4545-f1b1-14999a33d747"
   },
   "outputs": [
    {
     "data": {
      "text/plain": [
       "dtype('int64')"
      ]
     },
     "execution_count": 89,
     "metadata": {},
     "output_type": "execute_result"
    }
   ],
   "source": [
    "# Create a new column for launch hour\n",
    "filtered_df['launch_hour'] = [x.hour for x in filtered_df['launched_at']]\n",
    "filtered_df['launch_hour'] = filtered_df['launch_hour'].astype(int)\n",
    "filtered_df['launch_hour'].dtype"
   ]
  },
  {
   "cell_type": "code",
   "execution_count": 90,
   "metadata": {
    "colab": {},
    "colab_type": "code",
    "id": "C6rw5ok3xjmk"
   },
   "outputs": [],
   "source": [
    "# TODO: Create bins for launch time"
   ]
  },
  {
   "cell_type": "code",
   "execution_count": 91,
   "metadata": {
    "colab": {},
    "colab_type": "code",
    "id": "kpTEK0n6xjmm"
   },
   "outputs": [],
   "source": [
    "# Compare launch hour of successfull and failed projects\n",
    "#plt.hist(filtered_df[filtered_df['state'] == 'successful']['hour'], bins=12, alpha=0.6)\n",
    "#plt.hist(filtered_df[filtered_df['state'] == 'failed']['hour'], bins=12, alpha=0.6, color='r')"
   ]
  },
  {
   "cell_type": "code",
   "execution_count": 92,
   "metadata": {
    "colab": {},
    "colab_type": "code",
    "id": "YS2_k4RJxjmn",
    "outputId": "675a43b9-e236-4369-aea9-8404a5b8ce23"
   },
   "outputs": [
    {
     "data": {
      "text/plain": [
       "array([2013, 2019, 2016, 2018, 2015, 2014, 2012, 2017, 2010, 2011, 2009])"
      ]
     },
     "execution_count": 92,
     "metadata": {},
     "output_type": "execute_result"
    }
   ],
   "source": [
    "filtered_df['launch_year'].unique()"
   ]
  },
  {
   "cell_type": "code",
   "execution_count": 93,
   "metadata": {
    "colab": {},
    "colab_type": "code",
    "id": "H4N45T2qxjmp"
   },
   "outputs": [],
   "source": [
    "# TODO: check whether launch time has changed over years, see whether it changes over the months"
   ]
  },
  {
   "cell_type": "markdown",
   "metadata": {
    "colab_type": "text",
    "id": "XFWgcllCxjmr"
   },
   "source": [
    "### The 'location' column"
   ]
  },
  {
   "cell_type": "code",
   "execution_count": 94,
   "metadata": {
    "colab": {},
    "colab_type": "code",
    "id": "dkv8Z-ZLxjms"
   },
   "outputs": [
    {
     "data": {
      "text/plain": [
       "dtype('O')"
      ]
     },
     "execution_count": 94,
     "metadata": {},
     "output_type": "execute_result"
    }
   ],
   "source": [
    "col = 'location'\n",
    "\n",
    "filtered_df[col].dtype"
   ]
  },
  {
   "cell_type": "code",
   "execution_count": 95,
   "metadata": {
    "colab": {},
    "colab_type": "code",
    "id": "R4KapM6Vxjmt"
   },
   "outputs": [
    {
     "data": {
      "text/plain": [
       "0    {\"id\":2379574,\"name\":\"Chicago\",\"slug\":\"chicago...\n",
       "1    {\"id\":2486340,\"name\":\"Sacramento\",\"slug\":\"sacr...\n",
       "2    {\"id\":2383660,\"name\":\"Columbus\",\"slug\":\"columb...\n",
       "3    {\"id\":725746,\"name\":\"Venice\",\"slug\":\"venice-ve...\n",
       "4    {\"id\":2479651,\"name\":\"Redmond\",\"slug\":\"redmond...\n",
       "5    {\"id\":15129,\"name\":\"Cardigan\",\"slug\":\"cardigan...\n",
       "6    {\"id\":2442047,\"name\":\"Los Angeles\",\"slug\":\"los...\n",
       "7    {\"id\":2405641,\"name\":\"Fort Collins\",\"slug\":\"fo...\n",
       "8    {\"id\":2478307,\"name\":\"Raleigh\",\"slug\":\"raleigh...\n",
       "9    {\"id\":2442047,\"name\":\"Los Angeles\",\"slug\":\"los...\n",
       "Name: location, dtype: object"
      ]
     },
     "execution_count": 95,
     "metadata": {},
     "output_type": "execute_result"
    }
   ],
   "source": [
    "filtered_df[col].head(10)"
   ]
  },
  {
   "cell_type": "markdown",
   "metadata": {
    "colab_type": "text",
    "id": "lEU53n8Yxjmu"
   },
   "source": [
    "Looks like str representantion of a dictionary, turn into dict first."
   ]
  },
  {
   "cell_type": "code",
   "execution_count": 96,
   "metadata": {
    "colab": {},
    "colab_type": "code",
    "id": "586oSlwyxjmv"
   },
   "outputs": [],
   "source": [
    "#start =time.time()\n",
    "del_idx = []\n",
    "count = 0\n",
    "\n",
    "for idx, x in enumerate(filtered_df[col]):\n",
    "\n",
    "    try:\n",
    "        filtered_df.at[idx, col] = eval(x.replace('false', 'False').replace('true', 'True').replace('null', 'None'))\n",
    "        #eval(x.replace('false', 'False').replace('true', 'True').replace('null', 'None'))\n",
    "\n",
    "    except:\n",
    "        filtered_df.drop(idx, axis=0, inplace=True)\n",
    "        del_idx.append(idx)\n",
    "#end = time.time()\n",
    "#print(end-start)\n",
    "filtered_df.reset_index(inplace=True)"
   ]
  },
  {
   "cell_type": "code",
   "execution_count": 97,
   "metadata": {
    "colab": {},
    "colab_type": "code",
    "id": "H9joKezdxjmx"
   },
   "outputs": [
    {
     "data": {
      "text/plain": [
       "{'id': 2379574,\n",
       " 'name': 'Chicago',\n",
       " 'slug': 'chicago-il',\n",
       " 'short_name': 'Chicago, IL',\n",
       " 'displayable_name': 'Chicago, IL',\n",
       " 'localized_name': 'Chicago',\n",
       " 'country': 'US',\n",
       " 'state': 'IL',\n",
       " 'type': 'Town',\n",
       " 'is_root': False,\n",
       " 'urls': {'web': {'discover': 'https://www.kickstarter.com/discover/places/chicago-il',\n",
       "   'location': 'https://www.kickstarter.com/locations/chicago-il'},\n",
       "  'api': {'nearby_projects': 'https://api.kickstarter.com/v1/discover?signature=1552595044.c1041c6bca69b0b72738f3b9504ebf921b3e5e0e&woe_id=2379574'}}}"
      ]
     },
     "execution_count": 97,
     "metadata": {},
     "output_type": "execute_result"
    }
   ],
   "source": [
    "filtered_df[col][0]"
   ]
  },
  {
   "cell_type": "code",
   "execution_count": 98,
   "metadata": {
    "colab": {},
    "colab_type": "code",
    "id": "AIK7N44txjmy"
   },
   "outputs": [],
   "source": [
    "# Count number of unique locations\n",
    "\n",
    "#len(set([x['name'] for x in filtered_df[col]]))\n",
    "\n",
    "filtered_df['city'] = [x['name'] for x in filtered_df[col]]"
   ]
  },
  {
   "cell_type": "code",
   "execution_count": 99,
   "metadata": {
    "colab": {},
    "colab_type": "code",
    "id": "JwNVJXgfxjmz"
   },
   "outputs": [
    {
     "data": {
      "text/plain": [
       "<matplotlib.axes._subplots.AxesSubplot at 0x1a9adb2ef0>"
      ]
     },
     "execution_count": 99,
     "metadata": {},
     "output_type": "execute_result"
    },
    {
     "data": {
      "image/png": "[encoded data removed]",
      "text/plain": [
       "<Figure size 432x288 with 1 Axes>"
      ]
     },
     "metadata": {
      "needs_background": "light"
     },
     "output_type": "display_data"
    }
   ],
   "source": [
    "# Top 20 cities by project frequency\n",
    "\n",
    "filtered_df['city'].value_counts().head(20).plot(kind='bar')"
   ]
  },
  {
   "cell_type": "code",
   "execution_count": 100,
   "metadata": {
    "colab": {},
    "colab_type": "code",
    "id": "FUc1xKisxjm2"
   },
   "outputs": [],
   "source": [
    "# Top 20 non-US cities\n",
    "\n",
    "#filtered_df['city'][filtered_df['location']['country'] != 'US'].value_counts().head(20).plot(kind='bar')"
   ]
  },
  {
   "cell_type": "code",
   "execution_count": 101,
   "metadata": {
    "colab": {},
    "colab_type": "code",
    "id": "DwBiN7o7xjm4"
   },
   "outputs": [
    {
     "data": {
      "text/plain": [
       "'US'"
      ]
     },
     "execution_count": 101,
     "metadata": {},
     "output_type": "execute_result"
    }
   ],
   "source": [
    "filtered_df['location'][0]['country']"
   ]
  },
  {
   "cell_type": "code",
   "execution_count": 102,
   "metadata": {
    "colab": {},
    "colab_type": "code",
    "id": "vvE7GpVyxjm5"
   },
   "outputs": [
    {
     "data": {
      "text/plain": [
       "<matplotlib.axes._subplots.AxesSubplot at 0x1a208a8748>"
      ]
     },
     "execution_count": 102,
     "metadata": {},
     "output_type": "execute_result"
    },
    {
     "data": {
      "image/png": "[encoded data removed]",
      "text/plain": [
       "<Figure size 1080x504 with 1 Axes>"
      ]
     },
     "metadata": {
      "needs_background": "light"
     },
     "output_type": "display_data"
    }
   ],
   "source": [
    "plt.figure(figsize=(15,7))\n",
    "data['country'].value_counts().plot(kind='bar')"
   ]
  },
  {
   "cell_type": "markdown",
   "metadata": {
    "colab_type": "text",
    "id": "daEy0XmQxjm8"
   },
   "source": [
    "### The 'name' column"
   ]
  },
  {
   "cell_type": "code",
   "execution_count": 103,
   "metadata": {
    "colab": {},
    "colab_type": "code",
    "id": "uCkQlA-Axjm9"
   },
   "outputs": [
    {
     "data": {
      "text/plain": [
       "count     192449\n",
       "unique    168248\n",
       "top         Home\n",
       "freq           7\n",
       "Name: name, dtype: object"
      ]
     },
     "execution_count": 103,
     "metadata": {},
     "output_type": "execute_result"
    }
   ],
   "source": [
    "col = 'name'\n",
    "filtered_df[col].describe()"
   ]
  },
  {
   "cell_type": "code",
   "execution_count": 104,
   "metadata": {
    "colab": {},
    "colab_type": "code",
    "id": "V_ZjSNn3xjm_"
   },
   "outputs": [
    {
     "data": {
      "text/plain": [
       "name    0\n",
       "dtype: int64"
      ]
     },
     "execution_count": 104,
     "metadata": {},
     "output_type": "execute_result"
    }
   ],
   "source": [
    "filtered_df[[col]].isna().sum()"
   ]
  },
  {
   "cell_type": "markdown",
   "metadata": {
    "colab_type": "text",
    "id": "H6U8mhjhxjnA"
   },
   "source": [
    "No missing values but apparently 24000 non-unique entries / names. This certainly requires further addressing."
   ]
  },
  {
   "cell_type": "code",
   "execution_count": 105,
   "metadata": {
    "colab": {},
    "colab_type": "code",
    "id": "OT7mYWEbxjnB"
   },
   "outputs": [
    {
     "data": {
      "text/plain": [
       "(array([1.7500e+02, 2.0140e+03, 4.6760e+03, 7.2080e+03, 6.3200e+03,\n",
       "        1.0650e+04, 1.1619e+04, 1.1723e+04, 1.1596e+04, 7.6240e+03,\n",
       "        1.1384e+04, 1.0886e+04, 1.0356e+04, 1.0273e+04, 6.5950e+03,\n",
       "        9.6620e+03, 9.4940e+03, 9.8190e+03, 1.0464e+04, 7.8960e+03,\n",
       "        1.4683e+04, 7.1510e+03, 2.0000e+01, 1.4000e+01, 1.6000e+01,\n",
       "        2.1000e+01, 2.4000e+01, 2.5000e+01, 2.3000e+01, 3.8000e+01]),\n",
       " array([ 1. ,  3.8,  6.6,  9.4, 12.2, 15. , 17.8, 20.6, 23.4, 26.2, 29. ,\n",
       "        31.8, 34.6, 37.4, 40.2, 43. , 45.8, 48.6, 51.4, 54.2, 57. , 59.8,\n",
       "        62.6, 65.4, 68.2, 71. , 73.8, 76.6, 79.4, 82.2, 85. ]),\n",
       " <a list of 30 Patch objects>)"
      ]
     },
     "execution_count": 105,
     "metadata": {},
     "output_type": "execute_result"
    },
    {
     "data": {
      "image/png": "[encoded data removed]",
      "text/plain": [
       "<Figure size 432x288 with 1 Axes>"
      ]
     },
     "metadata": {
      "needs_background": "light"
     },
     "output_type": "display_data"
    }
   ],
   "source": [
    "# Look at the distribution of project name lengths\n",
    "plt.hist([len(x) for x in filtered_df[col]], bins=30)"
   ]
  },
  {
   "cell_type": "code",
   "execution_count": 106,
   "metadata": {
    "colab": {},
    "colab_type": "code",
    "id": "7pIgtmK-xjnD"
   },
   "outputs": [],
   "source": [
    "# Look into:\n",
    "# lenght of name vs successful / failed funding\n",
    "# sentiment analysis vs. funding success"
   ]
  },
  {
   "cell_type": "markdown",
   "metadata": {
    "colab_type": "text",
    "id": "uGbtVaw8xjnF"
   },
   "source": [
    "### The 'photo' column"
   ]
  },
  {
   "cell_type": "code",
   "execution_count": 107,
   "metadata": {
    "colab": {},
    "colab_type": "code",
    "id": "VTYWvffwxjnF"
   },
   "outputs": [
    {
     "data": {
      "text/plain": [
       "count                                                192449\n",
       "unique                                               168766\n",
       "top       {\"key\":\"assets/014/906/387/fb4a9208ec9b097b8cc...\n",
       "freq                                                      2\n",
       "Name: photo, dtype: object"
      ]
     },
     "execution_count": 107,
     "metadata": {},
     "output_type": "execute_result"
    }
   ],
   "source": [
    "col = 'photo'\n",
    "filtered_df[col].describe()"
   ]
  },
  {
   "cell_type": "code",
   "execution_count": 108,
   "metadata": {
    "colab": {},
    "colab_type": "code",
    "id": "iwOZOs-2xjnH"
   },
   "outputs": [
    {
     "data": {
      "text/plain": [
       "0    {\"key\":\"assets/011/625/534/5bea1760d7f20943c4c...\n",
       "1    {\"key\":\"assets/024/033/030/dea4e3901d10195b035...\n",
       "2    {\"key\":\"assets/014/262/672/97944960ba30239051d...\n",
       "3    {\"key\":\"assets/023/008/626/aef53e2f326ad4c8772...\n",
       "4    {\"key\":\"assets/012/061/410/1687a735d5b1316ca47...\n",
       "Name: photo, dtype: object"
      ]
     },
     "execution_count": 108,
     "metadata": {},
     "output_type": "execute_result"
    }
   ],
   "source": [
    "filtered_df[col].head()"
   ]
  },
  {
   "cell_type": "markdown",
   "metadata": {
    "colab_type": "text",
    "id": "aNnKfmVDxjnI"
   },
   "source": [
    "Another column that looks like str reprensentation of a dict"
   ]
  },
  {
   "cell_type": "code",
   "execution_count": 109,
   "metadata": {
    "colab": {},
    "colab_type": "code",
    "id": "0zdPmbSxxjnI"
   },
   "outputs": [
    {
     "data": {
      "text/plain": [
       "0"
      ]
     },
     "execution_count": 109,
     "metadata": {},
     "output_type": "execute_result"
    }
   ],
   "source": [
    "filtered_df[col].isna().sum()"
   ]
  },
  {
   "cell_type": "code",
   "execution_count": 110,
   "metadata": {
    "colab": {},
    "colab_type": "code",
    "id": "02Sd4w3kxjnK"
   },
   "outputs": [
    {
     "data": {
      "text/plain": [
       "'https://ksr-ugc.imgix.net/assets/011/625/534/5bea1760d7f20943c4cd5e9b4911c1bd_original.jpg?ixlib=rb-1.1.0&crop=faces&w=1552&h=873&fit=crop&v=1463685705&auto=format&frame=1&q=92&s=90c72b785ef97539099dffb8531dcad3'"
      ]
     },
     "execution_count": 110,
     "metadata": {},
     "output_type": "execute_result"
    }
   ],
   "source": [
    "eval(filtered_df[col][0])['1536x864']"
   ]
  },
  {
   "cell_type": "code",
   "execution_count": 111,
   "metadata": {
    "colab": {},
    "colab_type": "code",
    "id": "Do3sGdRhxjnP"
   },
   "outputs": [
    {
     "name": "stdout",
     "output_type": "stream",
     "text": [
      "0\n"
     ]
    }
   ],
   "source": [
    "# Turn strings into dicts and check for exceptions errors\n",
    "\n",
    "del_idx = []\n",
    "count = 0\n",
    "for idx, x in enumerate(filtered_df[col]):\n",
    "\n",
    "    try:\n",
    "        filtered_df.at[idx, col] = eval(x.replace('false', 'False').replace('true', 'True').replace('null', 'None'))\n",
    "        #eval(x.replace('null', 'None'))\n",
    "    except:\n",
    "        count += 1\n",
    "        del_idx.append(idx)\n",
    "print(count)"
   ]
  },
  {
   "cell_type": "markdown",
   "metadata": {
    "colab_type": "text",
    "id": "b2sNLj7sxjnR"
   },
   "source": [
    "TODO: Analyse 'photos'"
   ]
  },
  {
   "cell_type": "markdown",
   "metadata": {
    "colab_type": "text",
    "id": "FFBOYzV8xjnR"
   },
   "source": [
    "### The 'pledged' column"
   ]
  },
  {
   "cell_type": "markdown",
   "metadata": {
    "colab_type": "text",
    "id": "tK6s7vPOxjnS"
   },
   "source": [
    "pledged data is given in native currencies. **So can be dropped in favour of 'usd_pledged' which gives pledged amount in same currency (USD)**"
   ]
  },
  {
   "cell_type": "code",
   "execution_count": 112,
   "metadata": {
    "colab": {},
    "colab_type": "code",
    "id": "TTrphoeAxjnT"
   },
   "outputs": [
    {
     "data": {
      "text/plain": [
       "dtype('float64')"
      ]
     },
     "execution_count": 112,
     "metadata": {},
     "output_type": "execute_result"
    }
   ],
   "source": [
    "col = 'pledged'\n",
    "filtered_df[col].dtypes"
   ]
  },
  {
   "cell_type": "code",
   "execution_count": 113,
   "metadata": {
    "colab": {},
    "colab_type": "code",
    "id": "L4Q9U7wXxjnU"
   },
   "outputs": [
    {
     "data": {
      "text/plain": [
       "count    1.924490e+05\n",
       "mean     1.971593e+04\n",
       "std      3.352984e+05\n",
       "min      0.000000e+00\n",
       "25%      1.500000e+02\n",
       "50%      1.800000e+03\n",
       "75%      7.471000e+03\n",
       "max      8.103074e+07\n",
       "Name: pledged, dtype: float64"
      ]
     },
     "execution_count": 113,
     "metadata": {},
     "output_type": "execute_result"
    }
   ],
   "source": [
    "filtered_df[col].describe()"
   ]
  },
  {
   "cell_type": "code",
   "execution_count": 114,
   "metadata": {
    "colab": {},
    "colab_type": "code",
    "id": "YWmr36EzxjnW"
   },
   "outputs": [
    {
     "data": {
      "text/plain": [
       "0"
      ]
     },
     "execution_count": 114,
     "metadata": {},
     "output_type": "execute_result"
    }
   ],
   "source": [
    "filtered_df[col].isna().sum()"
   ]
  },
  {
   "cell_type": "markdown",
   "metadata": {
    "colab_type": "text",
    "id": "PO0973HqxjnX"
   },
   "source": [
    "No missing values "
   ]
  },
  {
   "cell_type": "code",
   "execution_count": 115,
   "metadata": {
    "colab": {},
    "colab_type": "code",
    "id": "2Lm0bs9SxjnX",
    "outputId": "7c599315-b370-428f-a526-1c97346991f1"
   },
   "outputs": [
    {
     "data": {
      "text/plain": [
       "0.00         15003\n",
       "1.00          4971\n",
       "10.00         1679\n",
       "2.00          1341\n",
       "5.00          1229\n",
       "             ...  \n",
       "7455.18          1\n",
       "7182.67          1\n",
       "11609.00         1\n",
       "12477.00         1\n",
       "262143.00        1\n",
       "Name: pledged, Length: 43035, dtype: int64"
      ]
     },
     "execution_count": 115,
     "metadata": {},
     "output_type": "execute_result"
    }
   ],
   "source": [
    "filtered_df[col].value_counts()\n"
   ]
  },
  {
   "cell_type": "markdown",
   "metadata": {
    "colab_type": "text",
    "id": "PsrNxaj3xjnY"
   },
   "source": [
    "15003 projects that pledged 0 USD?"
   ]
  },
  {
   "cell_type": "code",
   "execution_count": 116,
   "metadata": {
    "colab": {},
    "colab_type": "code",
    "id": "0ixqb5tpxjnY"
   },
   "outputs": [],
   "source": [
    "droplist.append(col)\n",
    "#filtered_df.drop('pledged', inplace=True, axis=1)"
   ]
  },
  {
   "cell_type": "markdown",
   "metadata": {
    "colab_type": "text",
    "id": "YszSj6Ohxjnb"
   },
   "source": [
    "### The 'profile' column"
   ]
  },
  {
   "cell_type": "code",
   "execution_count": 117,
   "metadata": {
    "colab": {},
    "colab_type": "code",
    "id": "0gi8EtGsxjnc",
    "outputId": "40017c9c-9f5a-4bd0-ac80-60b69eaedacc"
   },
   "outputs": [
    {
     "data": {
      "text/plain": [
       "0    {\"id\":822687,\"project_id\":822687,\"state\":\"inac...\n",
       "1    {\"id\":3665299,\"project_id\":3665299,\"state\":\"in...\n",
       "2    {\"id\":2730508,\"project_id\":2730508,\"state\":\"in...\n",
       "3    {\"id\":3498742,\"project_id\":3498742,\"state\":\"ac...\n",
       "4    {\"id\":1754403,\"project_id\":1754403,\"state\":\"in...\n",
       "Name: profile, dtype: object"
      ]
     },
     "execution_count": 117,
     "metadata": {},
     "output_type": "execute_result"
    }
   ],
   "source": [
    "col = 'profile'\n",
    "\n",
    "filtered_df[col].head()"
   ]
  },
  {
   "cell_type": "markdown",
   "metadata": {
    "colab_type": "text",
    "id": "UbnV_75Lxjnd"
   },
   "source": [
    "Yet another column with str reprensentation of a dict. Lets look into one entry:"
   ]
  },
  {
   "cell_type": "code",
   "execution_count": 118,
   "metadata": {
    "colab": {},
    "colab_type": "code",
    "id": "lATnErm-xjnd",
    "outputId": "35f92dcf-b6c1-489b-bf4b-492ac9d5075b"
   },
   "outputs": [
    {
     "data": {
      "text/plain": [
       "{'id': 822687,\n",
       " 'project_id': 822687,\n",
       " 'state': 'inactive',\n",
       " 'state_changed_at': 1425915845,\n",
       " 'name': None,\n",
       " 'blurb': None,\n",
       " 'background_color': None,\n",
       " 'text_color': None,\n",
       " 'link_background_color': None,\n",
       " 'link_text_color': None,\n",
       " 'link_text': None,\n",
       " 'link_url': None,\n",
       " 'show_feature_image': False,\n",
       " 'background_image_opacity': 0.8,\n",
       " 'should_show_feature_image_section': True,\n",
       " 'feature_image_attributes': {'image_urls': {'default': 'https://ksr-ugc.imgix.net/assets/011/625/534/5bea1760d7f20943c4cd5e9b4911c1bd_original.jpg?ixlib=rb-1.1.0&crop=faces&w=1552&h=873&fit=crop&v=1463685705&auto=format&frame=1&q=92&s=90c72b785ef97539099dffb8531dcad3',\n",
       "   'baseball_card': 'https://ksr-ugc.imgix.net/assets/011/625/534/5bea1760d7f20943c4cd5e9b4911c1bd_original.jpg?ixlib=rb-1.1.0&crop=faces&w=560&h=315&fit=crop&v=1463685705&auto=format&frame=1&q=92&s=883b3ff098e5fc4cf6fec280665f5fd0'}}}"
      ]
     },
     "execution_count": 118,
     "metadata": {},
     "output_type": "execute_result"
    }
   ],
   "source": [
    "entry = eval(filtered_df[col][0].replace('null', 'None').replace('false', 'False').replace('true', 'True'))\n",
    "entry"
   ]
  },
  {
   "cell_type": "code",
   "execution_count": 119,
   "metadata": {
    "colab": {},
    "colab_type": "code",
    "id": "fr7swWuaxjnf",
    "outputId": "3c4c94c8-cc5c-43d0-88f3-06a02bec9647"
   },
   "outputs": [
    {
     "data": {
      "text/plain": [
       "['id',\n",
       " 'project_id',\n",
       " 'state',\n",
       " 'state_changed_at',\n",
       " 'name',\n",
       " 'blurb',\n",
       " 'background_color',\n",
       " 'text_color',\n",
       " 'link_background_color',\n",
       " 'link_text_color',\n",
       " 'link_text',\n",
       " 'link_url',\n",
       " 'show_feature_image',\n",
       " 'background_image_opacity',\n",
       " 'should_show_feature_image_section',\n",
       " 'feature_image_attributes']"
      ]
     },
     "execution_count": 119,
     "metadata": {},
     "output_type": "execute_result"
    }
   ],
   "source": [
    "list(entry.keys())"
   ]
  },
  {
   "cell_type": "code",
   "execution_count": 120,
   "metadata": {
    "colab": {},
    "colab_type": "code",
    "id": "WNRFeKvSxjng",
    "outputId": "5694e3f8-a710-4644-b013-0976729d1f79"
   },
   "outputs": [
    {
     "name": "stdout",
     "output_type": "stream",
     "text": [
      "blurb\n",
      "id\n",
      "name\n",
      "state\n",
      "state_changed_at\n"
     ]
    }
   ],
   "source": [
    "# Check which of the entries of the 'profile' column already exist as separate column s\n",
    "\n",
    "for e in list(data.columns):\n",
    "    if e in list(entry.keys()):\n",
    "        print(e)"
   ]
  },
  {
   "cell_type": "code",
   "execution_count": 121,
   "metadata": {
    "colab": {},
    "colab_type": "code",
    "id": "bJKX66qexjni"
   },
   "outputs": [],
   "source": [
    "## TODO: Check whether contents also match"
   ]
  },
  {
   "cell_type": "markdown",
   "metadata": {
    "colab_type": "text",
    "id": "FmpmUHZKxjnj"
   },
   "source": [
    "Seems like a repetition of other columns. And some additional information. Well drop the column for now."
   ]
  },
  {
   "cell_type": "code",
   "execution_count": 122,
   "metadata": {
    "colab": {},
    "colab_type": "code",
    "id": "7hcIE0TBxjnj"
   },
   "outputs": [],
   "source": [
    "droplist.append(col)"
   ]
  },
  {
   "cell_type": "markdown",
   "metadata": {
    "colab_type": "text",
    "id": "aMdOgZuNxjnl"
   },
   "source": [
    "### The 'slug' column"
   ]
  },
  {
   "cell_type": "code",
   "execution_count": 123,
   "metadata": {
    "colab": {},
    "colab_type": "code",
    "id": "LVmxWqewxjnm",
    "outputId": "f3f09f16-3b7f-4bfa-cb56-b6b38bcb0caa"
   },
   "outputs": [
    {
     "data": {
      "text/plain": [
       "0                                new-final-round-album\n",
       "1                      princess-pals-enamel-pin-series\n",
       "2    their-life-through-their-lens-the-amish-and-me...\n",
       "3                             wao-the-eco-effect-shoes\n",
       "4                       apple-watch-development-course\n",
       "Name: slug, dtype: object"
      ]
     },
     "execution_count": 123,
     "metadata": {},
     "output_type": "execute_result"
    }
   ],
   "source": [
    "col = 'slug'\n",
    "filtered_df[col].head()"
   ]
  },
  {
   "cell_type": "code",
   "execution_count": 124,
   "metadata": {
    "colab": {},
    "colab_type": "code",
    "id": "6u7p8n3Yxjno",
    "outputId": "720bbc25-ebc8-4832-bde7-6bb090c891ae"
   },
   "outputs": [
    {
     "data": {
      "text/plain": [
       "0                                New Final Round Album\n",
       "1                      Princess Pals Enamel Pin Series\n",
       "2    Their Life Through Their Lens-the Amish and Me...\n",
       "3                            WAO: THE ECO EFFECT SHOES\n",
       "4                       Apple Watch Development Course\n",
       "Name: name, dtype: object"
      ]
     },
     "execution_count": 124,
     "metadata": {},
     "output_type": "execute_result"
    }
   ],
   "source": [
    "filtered_df['name'].head()"
   ]
  },
  {
   "cell_type": "markdown",
   "metadata": {
    "colab_type": "text",
    "id": "wyLcRvdjxjnp"
   },
   "source": [
    "At first glance, this looks like the 'name' column in all lower case and with hyphens instead of whitespaces."
   ]
  },
  {
   "cell_type": "code",
   "execution_count": 125,
   "metadata": {
    "colab": {},
    "colab_type": "code",
    "id": "2jnc0Tktxjnq",
    "outputId": "006771b4-2141-449a-815f-15ea29bf08af"
   },
   "outputs": [
    {
     "data": {
      "text/plain": [
       "count                192449\n",
       "unique               168766\n",
       "top       city-mystic-paris\n",
       "freq                      2\n",
       "Name: slug, dtype: object"
      ]
     },
     "execution_count": 125,
     "metadata": {},
     "output_type": "execute_result"
    }
   ],
   "source": [
    "filtered_df[col].describe()"
   ]
  },
  {
   "cell_type": "code",
   "execution_count": 126,
   "metadata": {
    "colab": {},
    "colab_type": "code",
    "id": "oyRVrfVLxjnr",
    "outputId": "d1076180-a4c1-47c5-fdf2-68f59a847940"
   },
   "outputs": [
    {
     "data": {
      "text/plain": [
       "[0         False\n",
       " 1         False\n",
       " 2         False\n",
       " 3         False\n",
       " 4         False\n",
       "           ...  \n",
       " 192444    False\n",
       " 192445    False\n",
       " 192446    False\n",
       " 192447    False\n",
       " 192448    False\n",
       " Length: 192449, dtype: bool]"
      ]
     },
     "execution_count": 126,
     "metadata": {},
     "output_type": "execute_result"
    }
   ],
   "source": [
    "[filtered_df['name'].str.lower().replace(' ', '-').replace(':', '') == filtered_df[col]]"
   ]
  },
  {
   "cell_type": "code",
   "execution_count": 127,
   "metadata": {
    "colab": {},
    "colab_type": "code",
    "id": "FgLk4Bzrxjns"
   },
   "outputs": [],
   "source": [
    "li = []\n",
    "for i in range(10):\n",
    "    \n",
    "    li.append(filtered_df['name'][i].lower().replace(' ', '-').replace(':', '') == filtered_df['slug'][i])\n",
    "    "
   ]
  },
  {
   "cell_type": "code",
   "execution_count": 128,
   "metadata": {
    "colab": {},
    "colab_type": "code",
    "id": "C-RMuRqhxjnu",
    "outputId": "d190432a-d4b0-44f4-e46b-e8db84bfc2fd"
   },
   "outputs": [
    {
     "data": {
      "text/plain": [
       "53"
      ]
     },
     "execution_count": 128,
     "metadata": {},
     "output_type": "execute_result"
    }
   ],
   "source": [
    "filtered_df[col].str.len().max()"
   ]
  },
  {
   "cell_type": "code",
   "execution_count": 129,
   "metadata": {
    "colab": {},
    "colab_type": "code",
    "id": "sv1K6mXZxjnv",
    "outputId": "3edf5c0d-62de-40c6-ce7a-3c22b60553e5"
   },
   "outputs": [
    {
     "data": {
      "text/plain": [
       "'their-life-through-their-lens-the-amish-and-mennon'"
      ]
     },
     "execution_count": 129,
     "metadata": {},
     "output_type": "execute_result"
    }
   ],
   "source": [
    "filtered_df[col][2]"
   ]
  },
  {
   "cell_type": "code",
   "execution_count": 130,
   "metadata": {
    "colab": {},
    "colab_type": "code",
    "id": "PgeyvI0Gxjnx",
    "outputId": "571ff29e-2cd9-406e-ce40-2923e76de584"
   },
   "outputs": [
    {
     "data": {
      "text/plain": [
       "'their-life-through-their-lens-the-amish-and-mennonite-people'"
      ]
     },
     "execution_count": 130,
     "metadata": {},
     "output_type": "execute_result"
    }
   ],
   "source": [
    "filtered_df['name'][2].lower().replace(' ', '-').replace(':', '')"
   ]
  },
  {
   "cell_type": "code",
   "execution_count": 131,
   "metadata": {
    "colab": {},
    "colab_type": "code",
    "id": "_ZUzLDdGxjny",
    "outputId": "49356601-de6b-45fd-e1a5-f903000beab2"
   },
   "outputs": [
    {
     "data": {
      "text/plain": [
       "0                                     new-final-round-album\n",
       "1                           princess-pals-enamel-pin-series\n",
       "2         their-life-through-their-lens-the-amish-and-me...\n",
       "3                                  wao-the-eco-effect-shoes\n",
       "4                            apple-watch-development-course\n",
       "                                ...                        \n",
       "192444                              steam-hollow-brewing-co\n",
       "192445    fusion-detox-chef-alan-wichert-creates-the-health\n",
       "192446                 gorgeous-princess-cheetah-collection\n",
       "192447    the-lion-and-the-lyceum-childrens-book-based-o...\n",
       "192448                   philip-e-west-aviation-masterworks\n",
       "Name: slug, Length: 192449, dtype: object"
      ]
     },
     "execution_count": 131,
     "metadata": {},
     "output_type": "execute_result"
    }
   ],
   "source": [
    "filtered_df[col].str.lower().replace(' ', '-').replace(':', '')"
   ]
  },
  {
   "cell_type": "markdown",
   "metadata": {
    "colab_type": "raw",
    "id": "q2jZwTExxjnz"
   },
   "source": [
    "droplist.append(col)"
   ]
  },
  {
   "cell_type": "markdown",
   "metadata": {
    "colab_type": "text",
    "id": "fntKfglCxjn0"
   },
   "source": [
    "### The 'source_url' column"
   ]
  },
  {
   "cell_type": "code",
   "execution_count": 132,
   "metadata": {
    "colab": {},
    "colab_type": "code",
    "id": "J0ezd74Zxjn0",
    "outputId": "af1c2352-bf25-4a3c-cf1e-9b3aaf26ca60"
   },
   "outputs": [
    {
     "data": {
      "text/plain": [
       "'https://www.kickstarter.com/discover/categories/fashion'"
      ]
     },
     "execution_count": 132,
     "metadata": {},
     "output_type": "execute_result"
    }
   ],
   "source": [
    "col = 'source_url'\n",
    "filtered_df[col][1000]"
   ]
  },
  {
   "cell_type": "markdown",
   "metadata": {
    "colab_type": "text",
    "id": "l1iO6zd3xjn1"
   },
   "source": [
    "This is just an url to the category of the project, drop."
   ]
  },
  {
   "cell_type": "code",
   "execution_count": 133,
   "metadata": {
    "colab": {},
    "colab_type": "code",
    "id": "6jcnNO7bxjn2"
   },
   "outputs": [],
   "source": [
    "droplist.append(col)"
   ]
  },
  {
   "cell_type": "markdown",
   "metadata": {
    "colab_type": "text",
    "id": "tTAD9wS_xjn3"
   },
   "source": [
    "### The 'staff_pick' column"
   ]
  },
  {
   "cell_type": "markdown",
   "metadata": {
    "colab_type": "text",
    "id": "Fcytr91Fxjn4"
   },
   "source": [
    "staff_pick - whether a project was highlighted as a staff_pick when it was launched/live\n",
    "\n",
    "Seems like an interesting variable. "
   ]
  },
  {
   "cell_type": "code",
   "execution_count": 134,
   "metadata": {
    "colab": {},
    "colab_type": "code",
    "id": "BX_RqoI8xjn4",
    "outputId": "d2476607-3b28-40bb-be73-40cf93409372"
   },
   "outputs": [
    {
     "data": {
      "text/plain": [
       "0    False\n",
       "1    False\n",
       "2     True\n",
       "3    False\n",
       "4    False\n",
       "Name: staff_pick, dtype: bool"
      ]
     },
     "execution_count": 134,
     "metadata": {},
     "output_type": "execute_result"
    }
   ],
   "source": [
    "col = 'staff_pick'\n",
    "\n",
    "filtered_df[col].head()"
   ]
  },
  {
   "cell_type": "code",
   "execution_count": 135,
   "metadata": {
    "colab": {},
    "colab_type": "code",
    "id": "lGDuLDQDxjn5",
    "outputId": "0d7aa636-ab8b-4b88-f119-1619bc91838f"
   },
   "outputs": [
    {
     "data": {
      "text/plain": [
       "False    166509\n",
       "True      25940\n",
       "Name: staff_pick, dtype: int64"
      ]
     },
     "execution_count": 135,
     "metadata": {},
     "output_type": "execute_result"
    }
   ],
   "source": [
    "filtered_df[col].value_counts()"
   ]
  },
  {
   "cell_type": "code",
   "execution_count": 136,
   "metadata": {
    "colab": {},
    "colab_type": "code",
    "id": "MdXlYmzbxjn8",
    "outputId": "0f315cb0-4ccc-4b54-e69e-02e2fea490b9"
   },
   "outputs": [
    {
     "data": {
      "text/plain": [
       "13.48"
      ]
     },
     "execution_count": 136,
     "metadata": {},
     "output_type": "execute_result"
    }
   ],
   "source": [
    "round(25940/(25940+166509)*100, 2)"
   ]
  },
  {
   "cell_type": "markdown",
   "metadata": {
    "colab_type": "text",
    "id": "ClEk-feLxjn-"
   },
   "source": [
    "13.48 % of projects where highlighted as staff_pick, when they were launched/live."
   ]
  },
  {
   "cell_type": "markdown",
   "metadata": {
    "colab_type": "text",
    "id": "d3Wr7OGKxjn-"
   },
   "source": [
    "### The 'state_changed_at' column\n",
    "state_changed_at - date and time of when a project's status was changed (same as the deadline for successful and failed projects)"
   ]
  },
  {
   "cell_type": "code",
   "execution_count": 137,
   "metadata": {
    "colab": {},
    "colab_type": "code",
    "id": "jP50kj57xjn_",
    "outputId": "0e9839da-b701-4845-8dd4-f6ae06bcaeda"
   },
   "outputs": [
    {
     "data": {
      "text/plain": [
       "0    1391899046\n",
       "1    1551801611\n",
       "2    1480607932\n",
       "3    1544309940\n",
       "4    1428511019\n",
       "Name: state_changed_at, dtype: int64"
      ]
     },
     "execution_count": 137,
     "metadata": {},
     "output_type": "execute_result"
    }
   ],
   "source": [
    "col = 'state_changed_at'\n",
    "\n",
    "filtered_df[col].head()"
   ]
  },
  {
   "cell_type": "code",
   "execution_count": 138,
   "metadata": {
    "colab": {},
    "colab_type": "code",
    "id": "IdQ55hQ9xjoA"
   },
   "outputs": [],
   "source": [
    "# Conver to datetime object\n",
    "filtered_df[col] = pd.to_datetime(filtered_df[col], unit='s')"
   ]
  },
  {
   "cell_type": "markdown",
   "metadata": {
    "colab_type": "text",
    "id": "rwWHuSOIxjoA"
   },
   "source": [
    "### The 'static_usd_rate' column\n",
    "\n",
    "static_usd_rate - conversion rate between the original currency and USD"
   ]
  },
  {
   "cell_type": "code",
   "execution_count": 139,
   "metadata": {
    "colab": {},
    "colab_type": "code",
    "id": "Nfo3AR8OxjoB",
    "outputId": "7c8b6773-2992-4a6e-e958-5ecbb171b35d"
   },
   "outputs": [
    {
     "data": {
      "text/plain": [
       "0    1.000000\n",
       "1    1.000000\n",
       "2    1.000000\n",
       "3    1.136525\n",
       "4    1.000000\n",
       "Name: static_usd_rate, dtype: float64"
      ]
     },
     "execution_count": 139,
     "metadata": {},
     "output_type": "execute_result"
    }
   ],
   "source": [
    "col = 'static_usd_rate'\n",
    "\n",
    "filtered_df[col].head()"
   ]
  },
  {
   "cell_type": "markdown",
   "metadata": {
    "colab_type": "text",
    "id": "vo8nYSohxjoD"
   },
   "source": [
    "Assume column is just a mulitplier to convert 'pledge' to 'usd_plegded', drop."
   ]
  },
  {
   "cell_type": "code",
   "execution_count": 140,
   "metadata": {
    "colab": {},
    "colab_type": "code",
    "id": "w-hTkeMTxjoD"
   },
   "outputs": [],
   "source": [
    "droplist.append(col)"
   ]
  },
  {
   "cell_type": "markdown",
   "metadata": {
    "colab_type": "text",
    "id": "G8avRU07xjoE"
   },
   "source": [
    "### The 'urls' columns\n",
    "urls - url to the project's page"
   ]
  },
  {
   "cell_type": "code",
   "execution_count": 141,
   "metadata": {
    "colab": {},
    "colab_type": "code",
    "id": "Idxbxid2xjoF",
    "outputId": "3fda8679-2b5b-42c5-95c4-1de3ffc2da16"
   },
   "outputs": [
    {
     "data": {
      "text/plain": [
       "0    {\"web\":{\"project\":\"https://www.kickstarter.com...\n",
       "1    {\"web\":{\"project\":\"https://www.kickstarter.com...\n",
       "2    {\"web\":{\"project\":\"https://www.kickstarter.com...\n",
       "3    {\"web\":{\"project\":\"https://www.kickstarter.com...\n",
       "4    {\"web\":{\"project\":\"https://www.kickstarter.com...\n",
       "Name: urls, dtype: object"
      ]
     },
     "execution_count": 141,
     "metadata": {},
     "output_type": "execute_result"
    }
   ],
   "source": [
    "col = 'urls'\n",
    "\n",
    "filtered_df[col].head()"
   ]
  },
  {
   "cell_type": "code",
   "execution_count": 142,
   "metadata": {
    "colab": {},
    "colab_type": "code",
    "id": "PAWv3cNnxjoG",
    "outputId": "bdacee9f-ca5e-4671-a0c5-046d73927fbf"
   },
   "outputs": [
    {
     "data": {
      "text/plain": [
       "{'web': {'project': 'https://www.kickstarter.com/projects/1495925645/new-final-round-album?ref=discovery_category_newest',\n",
       "  'rewards': 'https://www.kickstarter.com/projects/1495925645/new-final-round-album/rewards'}}"
      ]
     },
     "execution_count": 142,
     "metadata": {},
     "output_type": "execute_result"
    }
   ],
   "source": [
    "eval(filtered_df[col][0])"
   ]
  },
  {
   "cell_type": "markdown",
   "metadata": {
    "colab_type": "text",
    "id": "1EHmKoUKxjoI"
   },
   "source": [
    "Just links to the project page, drop."
   ]
  },
  {
   "cell_type": "code",
   "execution_count": 143,
   "metadata": {
    "colab": {},
    "colab_type": "code",
    "id": "FF-cxKTSxjoJ"
   },
   "outputs": [],
   "source": [
    "droplist.append(col)"
   ]
  },
  {
   "cell_type": "markdown",
   "metadata": {
    "colab_type": "text",
    "id": "Bedwyn5YxjoL"
   },
   "source": [
    "### The 'usd_pledged' column\n",
    "usd_pledged - amount pledged in USD"
   ]
  },
  {
   "cell_type": "code",
   "execution_count": 144,
   "metadata": {
    "colab": {},
    "colab_type": "code",
    "id": "ROuVZbK6xjoM",
    "outputId": "20d9b6d7-0db7-4467-9763-1dd52b202453"
   },
   "outputs": [
    {
     "data": {
      "text/plain": [
       "0      802.00000\n",
       "1     2259.00000\n",
       "2    29638.00000\n",
       "3    49075.15252\n",
       "4      549.00000\n",
       "Name: usd_pledged, dtype: float64"
      ]
     },
     "execution_count": 144,
     "metadata": {},
     "output_type": "execute_result"
    }
   ],
   "source": [
    "col = 'usd_pledged'\n",
    "\n",
    "filtered_df[col].head()"
   ]
  },
  {
   "cell_type": "code",
   "execution_count": 145,
   "metadata": {
    "colab": {},
    "colab_type": "code",
    "id": "xpCIVNf2xjoN",
    "outputId": "ca0613ef-7e8e-46f7-ff6c-b4176d0cd2cd"
   },
   "outputs": [
    {
     "data": {
      "text/plain": [
       "count    1.924490e+05\n",
       "mean     1.352750e+04\n",
       "std      8.923302e+04\n",
       "min      0.000000e+00\n",
       "25%      1.500000e+02\n",
       "50%      1.771000e+03\n",
       "75%      7.100000e+03\n",
       "max      8.596475e+06\n",
       "Name: usd_pledged, dtype: float64"
      ]
     },
     "execution_count": 145,
     "metadata": {},
     "output_type": "execute_result"
    }
   ],
   "source": [
    "filtered_df[col].describe()"
   ]
  },
  {
   "cell_type": "code",
   "execution_count": 146,
   "metadata": {
    "colab": {},
    "colab_type": "code",
    "id": "NecANAK7xjoO",
    "outputId": "b4c23903-4e3a-47e5-f2f4-5cde1ae898c6"
   },
   "outputs": [
    {
     "data": {
      "text/plain": [
       "0"
      ]
     },
     "execution_count": 146,
     "metadata": {},
     "output_type": "execute_result"
    }
   ],
   "source": [
    "filtered_df[col].isna().sum()"
   ]
  },
  {
   "cell_type": "code",
   "execution_count": 147,
   "metadata": {
    "colab": {},
    "colab_type": "code",
    "id": "Myq3Q9rHxjoP",
    "outputId": "0a6be565-36d3-410d-dacb-b30316906749"
   },
   "outputs": [
    {
     "data": {
      "text/plain": [
       "0.000000        15003\n",
       "1.000000         3561\n",
       "10.000000        1116\n",
       "25.000000         970\n",
       "2.000000          916\n",
       "                ...  \n",
       "9081.163757         1\n",
       "25085.110000        1\n",
       "315.486809          1\n",
       "29478.000000        1\n",
       "313.456542          1\n",
       "Name: usd_pledged, Length: 75165, dtype: int64"
      ]
     },
     "execution_count": 147,
     "metadata": {},
     "output_type": "execute_result"
    }
   ],
   "source": [
    "filtered_df[col].value_counts()"
   ]
  },
  {
   "cell_type": "code",
   "execution_count": 148,
   "metadata": {
    "colab": {},
    "colab_type": "code",
    "id": "MwR_SIHv2M1Z",
    "outputId": "8f4ef25c-62bb-4cf9-c470-1b47eca9e05a"
   },
   "outputs": [
    {
     "data": {
      "text/plain": [
       "failed    15003\n",
       "Name: state, dtype: int64"
      ]
     },
     "execution_count": 148,
     "metadata": {},
     "output_type": "execute_result"
    }
   ],
   "source": [
    "filtered_df[filtered_df[col] == np.float(0)]['state'].value_counts()"
   ]
  },
  {
   "cell_type": "markdown",
   "metadata": {
    "colab_type": "text",
    "id": "Mq-FbpSmxjoQ"
   },
   "source": [
    "### The 'usd_type' column\n",
    "usd_type - domestic or international"
   ]
  },
  {
   "cell_type": "code",
   "execution_count": null,
   "metadata": {
    "colab": {},
    "colab_type": "code",
    "id": "ZkxGwpzp2Ly0"
   },
   "outputs": [],
   "source": []
  },
  {
   "cell_type": "code",
   "execution_count": 149,
   "metadata": {
    "colab": {},
    "colab_type": "code",
    "id": "u452tztXxjoQ",
    "outputId": "fd226dfc-bd86-43b6-95f9-0af2fa5bc5b9"
   },
   "outputs": [
    {
     "data": {
      "text/plain": [
       "0    international\n",
       "1    international\n",
       "2    international\n",
       "3    international\n",
       "4         domestic\n",
       "Name: usd_type, dtype: object"
      ]
     },
     "execution_count": 149,
     "metadata": {},
     "output_type": "execute_result"
    }
   ],
   "source": [
    "col = 'usd_type'\n",
    "\n",
    "filtered_df[col].head()"
   ]
  },
  {
   "cell_type": "code",
   "execution_count": 150,
   "metadata": {
    "colab": {},
    "colab_type": "code",
    "id": "Tx7MZcmlxjoR",
    "outputId": "dd12444b-b4cc-4277-f270-8cbcc7dd5879"
   },
   "outputs": [
    {
     "data": {
      "text/plain": [
       "array(['international', 'domestic', nan], dtype=object)"
      ]
     },
     "execution_count": 150,
     "metadata": {},
     "output_type": "execute_result"
    }
   ],
   "source": [
    "filtered_df[col].unique()"
   ]
  },
  {
   "cell_type": "code",
   "execution_count": 151,
   "metadata": {
    "colab": {},
    "colab_type": "code",
    "id": "UOXYvsBQxjoS",
    "outputId": "c8426f81-6e02-488d-ef4b-b933a59993b1"
   },
   "outputs": [
    {
     "data": {
      "text/plain": [
       "38"
      ]
     },
     "execution_count": 151,
     "metadata": {},
     "output_type": "execute_result"
    }
   ],
   "source": [
    "filtered_df[col].isna().sum()"
   ]
  },
  {
   "cell_type": "markdown",
   "metadata": {
    "colab_type": "text",
    "id": "GPBAe9WdxjoT"
   },
   "source": [
    "38 missing values, but can be ignored as columns will be dropped anyways."
   ]
  },
  {
   "cell_type": "code",
   "execution_count": 152,
   "metadata": {
    "colab": {},
    "colab_type": "code",
    "id": "Psg-WnG5xjoV"
   },
   "outputs": [],
   "source": [
    "droplist.append(col)"
   ]
  },
  {
   "cell_type": "code",
   "execution_count": 153,
   "metadata": {
    "colab": {},
    "colab_type": "code",
    "id": "TfL_OoDzxjoV",
    "outputId": "4de974a4-d105-4af2-f718-99e4ab6035da"
   },
   "outputs": [
    {
     "data": {
      "text/plain": [
       "['friends',\n",
       " 'is_backing',\n",
       " 'is_starred',\n",
       " 'permissions',\n",
       " 'pledged',\n",
       " 'profile',\n",
       " 'source_url',\n",
       " 'static_usd_rate',\n",
       " 'urls',\n",
       " 'usd_type']"
      ]
     },
     "execution_count": 153,
     "metadata": {},
     "output_type": "execute_result"
    }
   ],
   "source": [
    "droplist"
   ]
  },
  {
   "cell_type": "code",
   "execution_count": 154,
   "metadata": {
    "colab": {},
    "colab_type": "code",
    "id": "z16LvNpjxjoW",
    "outputId": "ebbb065c-ab89-44de-8393-014341d647c1"
   },
   "outputs": [
    {
     "data": {
      "text/plain": [
       "(192449, 45)"
      ]
     },
     "execution_count": 154,
     "metadata": {},
     "output_type": "execute_result"
    }
   ],
   "source": [
    "filtered_df.shape"
   ]
  },
  {
   "cell_type": "code",
   "execution_count": 155,
   "metadata": {
    "colab": {},
    "colab_type": "code",
    "id": "plKZsLdAxjoX"
   },
   "outputs": [],
   "source": [
    "filtered_df.drop(droplist, axis=1, inplace=True)"
   ]
  },
  {
   "cell_type": "code",
   "execution_count": 156,
   "metadata": {
    "colab": {},
    "colab_type": "code",
    "id": "sLB80oQVxjoZ",
    "outputId": "b2243700-2f7f-48c4-89af-15495aa3aa9b"
   },
   "outputs": [
    {
     "data": {
      "text/plain": [
       "(192449, 35)"
      ]
     },
     "execution_count": 156,
     "metadata": {},
     "output_type": "execute_result"
    }
   ],
   "source": [
    "filtered_df.shape"
   ]
  },
  {
   "cell_type": "code",
   "execution_count": 157,
   "metadata": {
    "colab": {},
    "colab_type": "code",
    "id": "e_OMoRi7xjoa",
    "outputId": "95522441-e2f2-460b-cc05-f843baaf3d54"
   },
   "outputs": [
    {
     "data": {
      "text/plain": [
       "Index(['level_0', 'index', 'backers_count', 'blurb', 'category',\n",
       "       'converted_pledged_amount', 'country', 'created_at', 'creator',\n",
       "       'currency', 'currency_symbol', 'currency_trailing_code',\n",
       "       'current_currency', 'deadline', 'disable_communication', 'fx_rate',\n",
       "       'goal', 'id', 'is_starrable', 'launched_at', 'location', 'name',\n",
       "       'photo', 'slug', 'spotlight', 'staff_pick', 'state', 'state_changed_at',\n",
       "       'usd_pledged', 'launch_weekday', 'launch_year', 'launch_month',\n",
       "       'launch_day', 'launch_hour', 'city'],\n",
       "      dtype='object')"
      ]
     },
     "execution_count": 157,
     "metadata": {},
     "output_type": "execute_result"
    }
   ],
   "source": [
    "filtered_df.columns"
   ]
  },
  {
   "cell_type": "code",
   "execution_count": null,
   "metadata": {
    "colab": {},
    "colab_type": "code",
    "id": "hdcOKRm-xjob"
   },
   "outputs": [],
   "source": []
  },
  {
   "cell_type": "markdown",
   "metadata": {
    "colab_type": "text",
    "id": "JSgEO_jhHz72"
   },
   "source": [
    "### The rest of the columns"
   ]
  },
  {
   "cell_type": "code",
   "execution_count": 158,
   "metadata": {
    "colab": {},
    "colab_type": "code",
    "id": "YOckxeuhH3Kv",
    "outputId": "27401fe3-d182-4d0f-ab1b-b3e7e3937219"
   },
   "outputs": [
    {
     "name": "stdout",
     "output_type": "stream",
     "text": [
      "16 65 67\n",
      "16 32 50\n",
      "16 65 67\n",
      "17 33 36\n",
      "17 43 57\n",
      "5\n",
      "<class 'pandas.core.frame.DataFrame'>\n",
      "RangeIndex: 192444 entries, 0 to 192443\n",
      "Data columns (total 7 columns):\n",
      "crea_id                 192444 non-null int64\n",
      "crea_name               192444 non-null object\n",
      "crea_is_registered      0 non-null object\n",
      "crea_chosen_currency    0 non-null object\n",
      "crea_avatar             192444 non-null object\n",
      "crea_urls               192444 non-null object\n",
      "crea_slug               57211 non-null object\n",
      "dtypes: int64(1), object(6)\n",
      "memory usage: 10.3+ MB\n"
     ]
    }
   ],
   "source": [
    "# split creator column entry in sub_columns\n",
    "df_tot = filtered_df\n",
    "import json \n",
    "#df_creator = pd.DataFrame(json.loads(df_tot.creator.values))\n",
    "creator_dlist = list()\n",
    "idx_drop = list()\n",
    "backup = None\n",
    "#print(json.loads(df_tot.creator.values[0]))\n",
    "count = 0\n",
    "for idx, x in enumerate(df_tot.creator.values):\n",
    "  try:\n",
    "    creator_dlist.append(json.loads(x))\n",
    "    #df_tot.creator.values[idx] = json.loads(x)\n",
    "  except:\n",
    "    # catches the other cases with the exception of 7 cases\n",
    "    a = x.index(\"\\\"name\\\":\")\n",
    "    b = x.index(\"\\\"\", a + 8)\n",
    "    x = x[:b] + \"'\" + x[b + 1:]\n",
    "    c = x.index(\"\\\"\", b)\n",
    "    x = x[:c] + \"'\" + x[c + 1:]\n",
    "    try:\n",
    "      creator_dlist.append(json.loads(x))\n",
    "    except:\n",
    "      print(a,b,c)\n",
    "      count += 1\n",
    "      idx_drop.append(idx)\n",
    "print(count)\n",
    "df_creator = pd.DataFrame(creator_dlist)\n",
    "df_creator.columns = ['crea_' + x for x in df_creator.columns]\n",
    "df_creator.info()\n",
    "#df_tot2 = df_tot.drop(idx_drop, axis = 0).reset_index()\n",
    "df_tot2 = df_tot#.reset_index()"
   ]
  },
  {
   "cell_type": "code",
   "execution_count": 159,
   "metadata": {
    "colab": {},
    "colab_type": "code",
    "id": "H4Foam01Jwn1",
    "outputId": "4f11f8ab-1237-4ba2-83dc-be8e425a3711"
   },
   "outputs": [
    {
     "data": {
      "text/html": [
       "<div>\n",
       "<style scoped>\n",
       "    .dataframe tbody tr th:only-of-type {\n",
       "        vertical-align: middle;\n",
       "    }\n",
       "\n",
       "    .dataframe tbody tr th {\n",
       "        vertical-align: top;\n",
       "    }\n",
       "\n",
       "    .dataframe thead th {\n",
       "        text-align: right;\n",
       "    }\n",
       "</style>\n",
       "<table border=\"1\" class=\"dataframe\">\n",
       "  <thead>\n",
       "    <tr style=\"text-align: right;\">\n",
       "      <th></th>\n",
       "      <th>crea_id</th>\n",
       "      <th>crea_name</th>\n",
       "      <th>crea_avatar</th>\n",
       "      <th>crea_urls</th>\n",
       "      <th>crea_slug</th>\n",
       "    </tr>\n",
       "  </thead>\n",
       "  <tbody>\n",
       "    <tr>\n",
       "      <th>0</th>\n",
       "      <td>1495925645</td>\n",
       "      <td>Daniel</td>\n",
       "      <td>{'thumb': 'https://ksr-ugc.imgix.net/assets/00...</td>\n",
       "      <td>{'web': {'user': 'https://www.kickstarter.com/...</td>\n",
       "      <td>NaN</td>\n",
       "    </tr>\n",
       "    <tr>\n",
       "      <th>1</th>\n",
       "      <td>1175589980</td>\n",
       "      <td>Katherine</td>\n",
       "      <td>{'thumb': 'https://ksr-ugc.imgix.net/assets/02...</td>\n",
       "      <td>{'web': {'user': 'https://www.kickstarter.com/...</td>\n",
       "      <td>freckleddisney</td>\n",
       "    </tr>\n",
       "    <tr>\n",
       "      <th>2</th>\n",
       "      <td>1196856269</td>\n",
       "      <td>MelissaThomas</td>\n",
       "      <td>{'thumb': 'https://ksr-ugc.imgix.net/assets/01...</td>\n",
       "      <td>{'web': {'user': 'https://www.kickstarter.com/...</td>\n",
       "      <td>NaN</td>\n",
       "    </tr>\n",
       "    <tr>\n",
       "      <th>3</th>\n",
       "      <td>1569700626</td>\n",
       "      <td>WAO</td>\n",
       "      <td>{'thumb': 'https://ksr-ugc.imgix.net/assets/02...</td>\n",
       "      <td>{'web': {'user': 'https://www.kickstarter.com/...</td>\n",
       "      <td>wearewao</td>\n",
       "    </tr>\n",
       "    <tr>\n",
       "      <th>4</th>\n",
       "      <td>1870845385</td>\n",
       "      <td>Kalpit Jain</td>\n",
       "      <td>{'thumb': 'https://ksr-ugc.imgix.net/assets/00...</td>\n",
       "      <td>{'web': {'user': 'https://www.kickstarter.com/...</td>\n",
       "      <td>NaN</td>\n",
       "    </tr>\n",
       "  </tbody>\n",
       "</table>\n",
       "</div>"
      ],
      "text/plain": [
       "      crea_id      crea_name  \\\n",
       "0  1495925645         Daniel   \n",
       "1  1175589980      Katherine   \n",
       "2  1196856269  MelissaThomas   \n",
       "3  1569700626            WAO   \n",
       "4  1870845385    Kalpit Jain   \n",
       "\n",
       "                                         crea_avatar  \\\n",
       "0  {'thumb': 'https://ksr-ugc.imgix.net/assets/00...   \n",
       "1  {'thumb': 'https://ksr-ugc.imgix.net/assets/02...   \n",
       "2  {'thumb': 'https://ksr-ugc.imgix.net/assets/01...   \n",
       "3  {'thumb': 'https://ksr-ugc.imgix.net/assets/02...   \n",
       "4  {'thumb': 'https://ksr-ugc.imgix.net/assets/00...   \n",
       "\n",
       "                                           crea_urls       crea_slug  \n",
       "0  {'web': {'user': 'https://www.kickstarter.com/...             NaN  \n",
       "1  {'web': {'user': 'https://www.kickstarter.com/...  freckleddisney  \n",
       "2  {'web': {'user': 'https://www.kickstarter.com/...             NaN  \n",
       "3  {'web': {'user': 'https://www.kickstarter.com/...        wearewao  \n",
       "4  {'web': {'user': 'https://www.kickstarter.com/...             NaN  "
      ]
     },
     "execution_count": 159,
     "metadata": {},
     "output_type": "execute_result"
    }
   ],
   "source": [
    "# drop two columns with only null entry\n",
    "df_creator.drop(['crea_is_registered', 'crea_chosen_currency'], axis = 1, inplace = True)\n",
    "df_creator.head()"
   ]
  },
  {
   "cell_type": "code",
   "execution_count": 160,
   "metadata": {
    "colab": {},
    "colab_type": "code",
    "id": "ox5gJyC7KUnz",
    "outputId": "4d079be6-69d8-4629-af09-0c49dded5e48"
   },
   "outputs": [
    {
     "name": "stdout",
     "output_type": "stream",
     "text": [
      "0\n",
      "<class 'pandas.core.frame.DataFrame'>\n",
      "RangeIndex: 192449 entries, 0 to 192448\n",
      "Data columns (total 7 columns):\n",
      "cat_id           192449 non-null int64\n",
      "cat_name         192449 non-null object\n",
      "cat_slug         192449 non-null object\n",
      "cat_position     192449 non-null int64\n",
      "cat_parent_id    184193 non-null float64\n",
      "cat_color        192449 non-null int64\n",
      "cat_urls         192449 non-null object\n",
      "dtypes: float64(1), int64(3), object(3)\n",
      "memory usage: 10.3+ MB\n"
     ]
    }
   ],
   "source": [
    "category_dlist = list()\n",
    "count = 0\n",
    "for idx, x in enumerate(df_tot2.category.values):\n",
    "  try:\n",
    "    category_dlist.append(json.loads(x))\n",
    "  except:\n",
    "    count += 1\n",
    "\n",
    "print(count)\n",
    "\n",
    "df_category = pd.DataFrame(category_dlist)\n",
    "df_category.columns = ['cat_' + x for x in df_category.columns]\n",
    "df_category.info()"
   ]
  },
  {
   "cell_type": "code",
   "execution_count": 161,
   "metadata": {
    "colab": {},
    "colab_type": "code",
    "id": "U9iPJqVqKm9E",
    "outputId": "0f96153e-9d19-4495-969c-8d3993d161fc"
   },
   "outputs": [
    {
     "data": {
      "text/html": [
       "<div>\n",
       "<style scoped>\n",
       "    .dataframe tbody tr th:only-of-type {\n",
       "        vertical-align: middle;\n",
       "    }\n",
       "\n",
       "    .dataframe tbody tr th {\n",
       "        vertical-align: top;\n",
       "    }\n",
       "\n",
       "    .dataframe thead th {\n",
       "        text-align: right;\n",
       "    }\n",
       "</style>\n",
       "<table border=\"1\" class=\"dataframe\">\n",
       "  <thead>\n",
       "    <tr style=\"text-align: right;\">\n",
       "      <th></th>\n",
       "      <th>cat_id</th>\n",
       "      <th>cat_name</th>\n",
       "      <th>cat_super</th>\n",
       "      <th>cat_position</th>\n",
       "      <th>cat_parent_id</th>\n",
       "      <th>cat_color</th>\n",
       "      <th>cat_urls</th>\n",
       "    </tr>\n",
       "  </thead>\n",
       "  <tbody>\n",
       "    <tr>\n",
       "      <th>192444</th>\n",
       "      <td>307</td>\n",
       "      <td>drinks</td>\n",
       "      <td>food</td>\n",
       "      <td>4</td>\n",
       "      <td>10.0</td>\n",
       "      <td>16725570</td>\n",
       "      <td>{'web': {'discover': 'http://www.kickstarter.c...</td>\n",
       "    </tr>\n",
       "    <tr>\n",
       "      <th>192445</th>\n",
       "      <td>306</td>\n",
       "      <td>cookbooks</td>\n",
       "      <td>food</td>\n",
       "      <td>3</td>\n",
       "      <td>10.0</td>\n",
       "      <td>16725570</td>\n",
       "      <td>{'web': {'discover': 'http://www.kickstarter.c...</td>\n",
       "    </tr>\n",
       "    <tr>\n",
       "      <th>192446</th>\n",
       "      <td>264</td>\n",
       "      <td>childrenswear</td>\n",
       "      <td>fashion</td>\n",
       "      <td>3</td>\n",
       "      <td>9.0</td>\n",
       "      <td>16752598</td>\n",
       "      <td>{'web': {'discover': 'http://www.kickstarter.c...</td>\n",
       "    </tr>\n",
       "    <tr>\n",
       "      <th>192447</th>\n",
       "      <td>46</td>\n",
       "      <td>children's_books</td>\n",
       "      <td>publishing</td>\n",
       "      <td>5</td>\n",
       "      <td>18.0</td>\n",
       "      <td>14867664</td>\n",
       "      <td>{'web': {'discover': 'http://www.kickstarter.c...</td>\n",
       "    </tr>\n",
       "    <tr>\n",
       "      <th>192448</th>\n",
       "      <td>23</td>\n",
       "      <td>painting</td>\n",
       "      <td>art</td>\n",
       "      <td>7</td>\n",
       "      <td>1.0</td>\n",
       "      <td>16760235</td>\n",
       "      <td>{'web': {'discover': 'http://www.kickstarter.c...</td>\n",
       "    </tr>\n",
       "  </tbody>\n",
       "</table>\n",
       "</div>"
      ],
      "text/plain": [
       "        cat_id          cat_name   cat_super  cat_position  cat_parent_id  \\\n",
       "192444     307            drinks        food             4           10.0   \n",
       "192445     306         cookbooks        food             3           10.0   \n",
       "192446     264     childrenswear     fashion             3            9.0   \n",
       "192447      46  children's_books  publishing             5           18.0   \n",
       "192448      23          painting         art             7            1.0   \n",
       "\n",
       "        cat_color                                           cat_urls  \n",
       "192444   16725570  {'web': {'discover': 'http://www.kickstarter.c...  \n",
       "192445   16725570  {'web': {'discover': 'http://www.kickstarter.c...  \n",
       "192446   16752598  {'web': {'discover': 'http://www.kickstarter.c...  \n",
       "192447   14867664  {'web': {'discover': 'http://www.kickstarter.c...  \n",
       "192448   16760235  {'web': {'discover': 'http://www.kickstarter.c...  "
      ]
     },
     "execution_count": 161,
     "metadata": {},
     "output_type": "execute_result"
    }
   ],
   "source": [
    "df_category.cat_name = df_category.cat_name.str.lower()\n",
    "df_category.cat_name = df_category.cat_name.str.replace(\" \", \"_\")\n",
    "df_category.columns = ['cat_super' if x=='cat_slug' else x for x in df_category.columns]\n",
    "df_category.cat_super = [str(x).split(sep = '/')[0] for x in df_category.cat_super.values]\n",
    "df_category.cat_super = df_category.cat_super.replace(\" \", \"_\")\n",
    "df_category.tail()"
   ]
  },
  {
   "cell_type": "code",
   "execution_count": 162,
   "metadata": {
    "colab": {},
    "colab_type": "code",
    "id": "jCxMR4uPKqew",
    "outputId": "87f762ce-495f-47aa-fd06-2c7dfae16f10"
   },
   "outputs": [
    {
     "name": "stdout",
     "output_type": "stream",
     "text": [
      "<class 'pandas.core.frame.DataFrame'>\n",
      "RangeIndex: 192449 entries, 0 to 192448\n",
      "Data columns (total 45 columns):\n",
      "level_0                     192449 non-null int64\n",
      "index                       192449 non-null int64\n",
      "backers_count               192449 non-null int64\n",
      "blurb                       192447 non-null object\n",
      "converted_pledged_amount    192449 non-null int64\n",
      "country                     192449 non-null object\n",
      "created_at                  192449 non-null int64\n",
      "currency                    192449 non-null object\n",
      "currency_symbol             192449 non-null object\n",
      "currency_trailing_code      192449 non-null bool\n",
      "current_currency            192449 non-null object\n",
      "deadline                    192449 non-null int64\n",
      "disable_communication       192449 non-null bool\n",
      "fx_rate                     192449 non-null float64\n",
      "goal                        192449 non-null float64\n",
      "id                          192449 non-null int64\n",
      "is_starrable                192449 non-null bool\n",
      "launched_at                 192449 non-null datetime64[ns]\n",
      "location                    192449 non-null object\n",
      "name                        192449 non-null object\n",
      "photo                       192449 non-null object\n",
      "slug                        192449 non-null object\n",
      "spotlight                   192449 non-null bool\n",
      "staff_pick                  192449 non-null bool\n",
      "state                       192449 non-null object\n",
      "state_changed_at            192449 non-null datetime64[ns]\n",
      "usd_pledged                 192449 non-null float64\n",
      "launch_weekday              192449 non-null object\n",
      "launch_year                 192449 non-null int64\n",
      "launch_month                192449 non-null int64\n",
      "launch_day                  192449 non-null int64\n",
      "launch_hour                 192449 non-null int64\n",
      "city                        192449 non-null object\n",
      "crea_id                     192444 non-null float64\n",
      "crea_name                   192444 non-null object\n",
      "crea_avatar                 192444 non-null object\n",
      "crea_urls                   192444 non-null object\n",
      "crea_slug                   57211 non-null object\n",
      "cat_id                      192449 non-null int64\n",
      "cat_name                    192449 non-null object\n",
      "cat_super                   192449 non-null object\n",
      "cat_position                192449 non-null int64\n",
      "cat_parent_id               184193 non-null float64\n",
      "cat_color                   192449 non-null int64\n",
      "cat_urls                    192449 non-null object\n",
      "dtypes: bool(5), datetime64[ns](2), float64(5), int64(14), object(19)\n",
      "memory usage: 59.6+ MB\n"
     ]
    }
   ],
   "source": [
    "df_tot3 = pd.concat([df_tot2, df_creator, df_category],axis = 1)\n",
    "df_tot3.drop(['creator', 'category'], inplace = True, axis = 1)\n",
    "df_tot3.info()"
   ]
  },
  {
   "cell_type": "code",
   "execution_count": 163,
   "metadata": {
    "colab": {},
    "colab_type": "code",
    "id": "3rLFZ-5UKuQG"
   },
   "outputs": [],
   "source": [
    "df_tot3.created_at = pd.to_datetime(df_tot3.created_at, unit='s')\n",
    "df_tot3.deadline = pd.to_datetime(df_tot3.deadline, unit='s')"
   ]
  },
  {
   "cell_type": "code",
   "execution_count": 164,
   "metadata": {
    "colab": {},
    "colab_type": "code",
    "id": "VmTRyBgcKxOv"
   },
   "outputs": [],
   "source": [
    "df_tot3.id = df_tot3.id.astype('category')"
   ]
  },
  {
   "cell_type": "code",
   "execution_count": 165,
   "metadata": {
    "colab": {},
    "colab_type": "code",
    "id": "1ryEzWUGK2qy",
    "outputId": "e338dd92-b4a7-46e4-e1bc-11b495a798ae"
   },
   "outputs": [
    {
     "name": "stdout",
     "output_type": "stream",
     "text": [
      "211724\n",
      "{0, 1, 2, 3, 4, 5, 6, 7, 8, 9, 10, 11, 12, 13, 14, 15, 16, 17, 18, 19, 20, 21, 22, 23, 24, 25, 26, 27, 28, 29, 30, 31, 32, 33, 34, 35}\n"
     ]
    }
   ],
   "source": [
    "df_tot3.blurb = df_tot3.blurb.fillna('')\n",
    "df_tot3.blurb = df_tot3.blurb.astype(str)\n",
    "blurb_wc = [len(str(x).lower().split()) for x in df_tot3.blurb]\n",
    "blurb_un_words = [set(str(x).lower().split()) for x in df_tot3.blurb]\n",
    "blurb_un_words = set.union(*blurb_un_words)\n",
    "print(len(blurb_un_words))\n",
    "print(set(blurb_wc))\n",
    "df_tot3['blurb_wordcount'] = blurb_wc\n",
    "#df_tot3[df_tot3.blurb.isna()]\n",
    "# keyword analysis in blurb as bonus"
   ]
  },
  {
   "cell_type": "code",
   "execution_count": 166,
   "metadata": {
    "colab": {},
    "colab_type": "code",
    "id": "bX0FkV7QK-LS"
   },
   "outputs": [],
   "source": [
    "df_tot3.country = df_tot3.country.astype('category')\n",
    "df_tot3.currency = df_tot3.currency.astype('category')\n",
    "df_tot3.currency_symbol = df_tot3.currency_symbol.astype('category')\n",
    "df_tot3.current_currency = df_tot3.current_currency.astype('category')"
   ]
  },
  {
   "cell_type": "code",
   "execution_count": 167,
   "metadata": {
    "colab": {},
    "colab_type": "code",
    "id": "54E72TyZLAT9"
   },
   "outputs": [],
   "source": [
    "# deletes columns that contain only little information\n",
    "#df_tot4 = df_tot3.drop(['friends', 'is_backing', 'is_starred', 'permissions'], axis = 1)\n",
    "df_tot4 = df_tot3"
   ]
  },
  {
   "cell_type": "code",
   "execution_count": 168,
   "metadata": {
    "colab": {},
    "colab_type": "code",
    "id": "Rt0wIWUYLf1y"
   },
   "outputs": [],
   "source": [
    "df_tot4.crea_slug = df_tot4.crea_slug.fillna('')\n",
    "df_tot4.cat_parent_id = df_tot4.cat_parent_id.fillna(0)"
   ]
  },
  {
   "cell_type": "code",
   "execution_count": 169,
   "metadata": {
    "colab": {},
    "colab_type": "code",
    "id": "kDthxSwzL3qF"
   },
   "outputs": [],
   "source": [
    "# list of project list according to unique ids\n",
    "id_groupby = df_tot4.groupby('id')\n",
    "\n",
    "id_groupby2 = id_groupby.size().reset_index(name='counts')\n",
    "indexid = id_groupby2[id_groupby2.counts > 1].index\n",
    "iddouble_list = id_groupby2[id_groupby2.counts > 1].id.unique()\n"
   ]
  },
  {
   "cell_type": "code",
   "execution_count": 170,
   "metadata": {
    "colab": {},
    "colab_type": "code",
    "id": "ekxbaSj-MBPz"
   },
   "outputs": [],
   "source": [
    "double_entries_sublist = [df_tot4[df_tot4.id == x].index[1:] for x in iddouble_list]\n",
    "double_entries_sublist_flat = list()\n",
    "for y in double_entries_sublist:\n",
    "  for x in y:\n",
    "    double_entries_sublist_flat.append(x)\n",
    "#double_entries_sublist_flat"
   ]
  },
  {
   "cell_type": "code",
   "execution_count": 171,
   "metadata": {
    "colab": {},
    "colab_type": "code",
    "id": "mJIf91tMMCDK"
   },
   "outputs": [],
   "source": [
    "df_tot5 = df_tot4.drop(double_entries_sublist_flat, axis = 0)"
   ]
  },
  {
   "cell_type": "code",
   "execution_count": 172,
   "metadata": {
    "colab": {},
    "colab_type": "code",
    "id": "gK_xBThPMLGM"
   },
   "outputs": [],
   "source": [
    "# list of project list of unique creator\n",
    "unique_crea_set = set(df_tot5.crea_id.unique())\n",
    "#crea_id_entry\n",
    "\n",
    "creaid_groupby = df_tot5.groupby('crea_id')\n",
    "\n",
    "\n",
    "creaid_groupby2 = creaid_groupby.size().reset_index(name='counts')\n",
    "indexcreaid = creaid_groupby2[creaid_groupby2.counts > 1].index\n",
    "creaiddouble_list = creaid_groupby2[creaid_groupby2.counts > 1].crea_id.unique()\n",
    "# number of creators with x projects\n",
    "multi_proj = list()\n",
    "x_list = list()\n",
    "for x in range(1,75):\n",
    "  a = len(creaid_groupby2[creaid_groupby2.counts == x].crea_id.unique())\n",
    "  multi_proj.append(a)\n",
    "  x_list.append(x)\n",
    "  #print(x, np.log10(a))"
   ]
  },
  {
   "cell_type": "code",
   "execution_count": 173,
   "metadata": {
    "colab": {},
    "colab_type": "code",
    "id": "a7RpOJZwMY8w",
    "outputId": "7f38171b-64f2-4704-f761-ec6c9f330d82"
   },
   "outputs": [],
   "source": [
    "#df_tot5.cat_super.hist(bins = len(df_tot5.cat_super.unique()), figsize = (17,17), grid = False)"
   ]
  },
  {
   "cell_type": "code",
   "execution_count": 174,
   "metadata": {
    "colab": {},
    "colab_type": "code",
    "id": "BmAW-XoxMZZ9",
    "outputId": "147d7aaa-2538-4438-b4da-2e85486dce84"
   },
   "outputs": [],
   "source": [
    "#df_tot5[df_tot5.state == 'successful'].cat_super.hist(bins = len(df_tot5.cat_super.unique()), figsize = (17,17), grid = False)"
   ]
  },
  {
   "cell_type": "code",
   "execution_count": 175,
   "metadata": {
    "colab": {},
    "colab_type": "code",
    "id": "u7JE1_u4Mc0Q",
    "outputId": "ee02dfd9-8ec0-47b2-f569-10b3f3167789"
   },
   "outputs": [],
   "source": [
    "#df_tot5[df_tot5.state == 'failed'].cat_super.hist(bins = len(df_tot5.cat_super.unique()), figsize = (17,17), grid = False)"
   ]
  },
  {
   "cell_type": "code",
   "execution_count": 176,
   "metadata": {
    "colab": {},
    "colab_type": "code",
    "id": "SIFybCfyMsKB",
    "outputId": "0715c748-415c-46f2-a79d-b3f7e42866ab"
   },
   "outputs": [
    {
     "name": "stdout",
     "output_type": "stream",
     "text": [
      "2019-02-08T21:02:48.000000000 2\n"
     ]
    },
    {
     "data": {
      "text/plain": [
       "2019"
      ]
     },
     "execution_count": 176,
     "metadata": {},
     "output_type": "execute_result"
    }
   ],
   "source": [
    "init_month = [x.astype('datetime64[M]').astype(int) % 12 + 1 for x in df_tot5.created_at.values]\n",
    "end_month = [x.astype('datetime64[M]').astype(int) % 12 + 1 for x in df_tot5.deadline.values]\n",
    "init_year = [x.astype('datetime64[Y]').astype(int) + 1970 for x in df_tot5.created_at.values]\n",
    "end_year = [x.astype('datetime64[Y]').astype(int) + 1970 for x in df_tot5.deadline.values]\n",
    "init_month_succ = [x.astype('datetime64[M]').astype(int) % 12 + 1 for x in df_tot5[df_tot5.state == 'successful'].created_at.values]\n",
    "end_month_succ = [x.astype('datetime64[M]').astype(int) % 12 + 1 for x in df_tot5[df_tot5.state == 'successful'].deadline.values]\n",
    "init_year_succ = [x.astype('datetime64[Y]').astype(int) + 1970 for x in df_tot5[df_tot5.state == 'successful'].created_at.values]\n",
    "end_year_succ = [x.astype('datetime64[Y]').astype(int) + 1970 for x in df_tot5[df_tot5.state == 'successful'].deadline.values]\n",
    "print(df_tot5.created_at.values[1], df_tot5.created_at.values[1].astype('datetime64[M]').astype(int) % 12 + 1)\n",
    "init_year[1]"
   ]
  },
  {
   "cell_type": "code",
   "execution_count": 177,
   "metadata": {
    "colab": {},
    "colab_type": "code",
    "id": "5ZSK6nfRNM4X",
    "outputId": "2f01128b-7720-4563-f6fa-380bcb9f7960"
   },
   "outputs": [
    {
     "data": {
      "text/plain": [
       "(array([28687., 14935., 14190., 14703., 13634., 16317., 14534., 13906.,\n",
       "        14444., 23416.]),\n",
       " array([ 1. ,  2.1,  3.2,  4.3,  5.4,  6.5,  7.6,  8.7,  9.8, 10.9, 12. ]),\n",
       " <a list of 10 Patch objects>)"
      ]
     },
     "execution_count": 177,
     "metadata": {},
     "output_type": "execute_result"
    },
    {
     "data": {
      "image/png": "[encoded data removed]",
      "text/plain": [
       "<Figure size 432x288 with 1 Axes>"
      ]
     },
     "metadata": {
      "needs_background": "light"
     },
     "output_type": "display_data"
    }
   ],
   "source": [
    "plt.hist(init_month)"
   ]
  },
  {
   "cell_type": "code",
   "execution_count": 178,
   "metadata": {
    "colab": {},
    "colab_type": "code",
    "id": "lFTNqSVdNaFV",
    "outputId": "75c7ef4c-ea18-4cd0-98e7-91a1d6c9a24a"
   },
   "outputs": [
    {
     "data": {
      "text/plain": [
       "(array([16490.,  8801.,  8118.,  8442.,  7499.,  8200.,  8029.,  7922.,\n",
       "         8234., 12879.]),\n",
       " array([ 1. ,  2.1,  3.2,  4.3,  5.4,  6.5,  7.6,  8.7,  9.8, 10.9, 12. ]),\n",
       " <a list of 10 Patch objects>)"
      ]
     },
     "execution_count": 178,
     "metadata": {},
     "output_type": "execute_result"
    },
    {
     "data": {
      "image/png": "[encoded data removed]",
      "text/plain": [
       "<Figure size 432x288 with 1 Axes>"
      ]
     },
     "metadata": {
      "needs_background": "light"
     },
     "output_type": "display_data"
    }
   ],
   "source": [
    "plt.hist(init_month_succ)"
   ]
  },
  {
   "cell_type": "code",
   "execution_count": 179,
   "metadata": {
    "colab": {},
    "colab_type": "code",
    "id": "9slcSuDONcqQ",
    "outputId": "98ba031d-fd37-45da-e74a-16fcc84985c3"
   },
   "outputs": [
    {
     "data": {
      "text/plain": [
       "(array([22513., 15122., 13801., 14491., 14307., 14940., 15637., 13897.,\n",
       "        14531., 29527.]),\n",
       " array([ 1. ,  2.1,  3.2,  4.3,  5.4,  6.5,  7.6,  8.7,  9.8, 10.9, 12. ]),\n",
       " <a list of 10 Patch objects>)"
      ]
     },
     "execution_count": 179,
     "metadata": {},
     "output_type": "execute_result"
    },
    {
     "data": {
      "image/png": "[encoded data removed]",
      "text/plain": [
       "<Figure size 432x288 with 1 Axes>"
      ]
     },
     "metadata": {
      "needs_background": "light"
     },
     "output_type": "display_data"
    }
   ],
   "source": [
    "plt.hist(end_month)"
   ]
  },
  {
   "cell_type": "code",
   "execution_count": 180,
   "metadata": {
    "colab": {},
    "colab_type": "code",
    "id": "qb5u1t1iNfh7",
    "outputId": "6e749b34-7cda-4968-fcf3-7fa5a28ce5eb"
   },
   "outputs": [
    {
     "data": {
      "text/plain": [
       "(array([12237.,  8670.,  8058.,  8389.,  8138.,  8372.,  8209.,  7373.,\n",
       "         8305., 16863.]),\n",
       " array([ 1. ,  2.1,  3.2,  4.3,  5.4,  6.5,  7.6,  8.7,  9.8, 10.9, 12. ]),\n",
       " <a list of 10 Patch objects>)"
      ]
     },
     "execution_count": 180,
     "metadata": {},
     "output_type": "execute_result"
    },
    {
     "data": {
      "image/png": "[encoded data removed]",
      "text/plain": [
       "<Figure size 432x288 with 1 Axes>"
      ]
     },
     "metadata": {
      "needs_background": "light"
     },
     "output_type": "display_data"
    }
   ],
   "source": [
    "plt.hist(end_month_succ)"
   ]
  },
  {
   "cell_type": "code",
   "execution_count": 181,
   "metadata": {
    "colab": {},
    "colab_type": "code",
    "id": "9gQRR9D_Nlqy",
    "outputId": "8c2504a2-3485-4019-e3e5-8b7b548ef8d9"
   },
   "outputs": [
    {
     "data": {
      "text/plain": [
       "(array([  184.,  1319.,  4425.,  9684., 12026., 27362., 34191., 25993.,\n",
       "        25767., 27815.]),\n",
       " array([2009., 2010., 2011., 2012., 2013., 2014., 2015., 2016., 2017.,\n",
       "        2018., 2019.]),\n",
       " <a list of 10 Patch objects>)"
      ]
     },
     "execution_count": 181,
     "metadata": {},
     "output_type": "execute_result"
    },
    {
     "data": {
      "image/png": "[encoded data removed]",
      "text/plain": [
       "<Figure size 432x288 with 1 Axes>"
      ]
     },
     "metadata": {
      "needs_background": "light"
     },
     "output_type": "display_data"
    }
   ],
   "source": [
    "plt.hist(init_year)"
   ]
  },
  {
   "cell_type": "code",
   "execution_count": 182,
   "metadata": {
    "colab": {},
    "colab_type": "code",
    "id": "VmNs-ndLNoEs",
    "outputId": "f29b3347-63e2-4dfe-f3a4-33a4320d890c"
   },
   "outputs": [
    {
     "data": {
      "text/plain": [
       "(array([  150.,  1032.,  3483.,  7492.,  9323., 14080., 14893., 12648.,\n",
       "        13288., 18225.]),\n",
       " array([2009., 2010., 2011., 2012., 2013., 2014., 2015., 2016., 2017.,\n",
       "        2018., 2019.]),\n",
       " <a list of 10 Patch objects>)"
      ]
     },
     "execution_count": 182,
     "metadata": {},
     "output_type": "execute_result"
    },
    {
     "data": {
      "image/png": "[encoded data removed]",
      "text/plain": [
       "<Figure size 432x288 with 1 Axes>"
      ]
     },
     "metadata": {
      "needs_background": "light"
     },
     "output_type": "display_data"
    }
   ],
   "source": [
    "plt.hist(init_year_succ)"
   ]
  },
  {
   "cell_type": "code",
   "execution_count": 183,
   "metadata": {
    "colab": {},
    "colab_type": "code",
    "id": "VJaFheKwNq1a",
    "outputId": "61c056c0-0dc2-434e-910a-019fed681cc1"
   },
   "outputs": [
    {
     "data": {
      "text/plain": [
       "(array([  103.,  1052.,  3817.,  8352., 10876., 24370., 35100., 26796.,\n",
       "        25872., 32428.]),\n",
       " array([2009., 2010., 2011., 2012., 2013., 2014., 2015., 2016., 2017.,\n",
       "        2018., 2019.]),\n",
       " <a list of 10 Patch objects>)"
      ]
     },
     "execution_count": 183,
     "metadata": {},
     "output_type": "execute_result"
    },
    {
     "data": {
      "image/png": "[encoded data removed]",
      "text/plain": [
       "<Figure size 432x288 with 1 Axes>"
      ]
     },
     "metadata": {
      "needs_background": "light"
     },
     "output_type": "display_data"
    }
   ],
   "source": [
    "plt.hist(end_year)"
   ]
  },
  {
   "cell_type": "code",
   "execution_count": 184,
   "metadata": {
    "colab": {},
    "colab_type": "code",
    "id": "Qum6_TA5NtQm",
    "outputId": "b88617a1-958e-4f8c-a7dd-59205d93bf81"
   },
   "outputs": [
    {
     "data": {
      "text/plain": [
       "(array([   86.,   817.,  3043.,  6511.,  8718., 13273., 15469., 12840.,\n",
       "        12959., 20898.]),\n",
       " array([2009., 2010., 2011., 2012., 2013., 2014., 2015., 2016., 2017.,\n",
       "        2018., 2019.]),\n",
       " <a list of 10 Patch objects>)"
      ]
     },
     "execution_count": 184,
     "metadata": {},
     "output_type": "execute_result"
    },
    {
     "data": {
      "image/png": "[encoded data removed]",
      "text/plain": [
       "<Figure size 432x288 with 1 Axes>"
      ]
     },
     "metadata": {
      "needs_background": "light"
     },
     "output_type": "display_data"
    }
   ],
   "source": [
    "plt.hist(end_year_succ)"
   ]
  },
  {
   "cell_type": "code",
   "execution_count": 185,
   "metadata": {
    "colab": {},
    "colab_type": "code",
    "id": "I7GxH_1MN1YN",
    "outputId": "cf9c6bed-c9f2-4626-a771-77ff39324040"
   },
   "outputs": [
    {
     "data": {
      "image/png": "[encoded data removed]",
      "text/plain": [
       "<Figure size 432x288 with 1 Axes>"
      ]
     },
     "metadata": {
      "needs_background": "light"
     },
     "output_type": "display_data"
    }
   ],
   "source": [
    "stategroupby = df_tot5.groupby('state').count().blurb\n",
    "statedict = dict(stategroupby)\n",
    "plt.bar(statedict.keys(), statedict.values());"
   ]
  },
  {
   "cell_type": "code",
   "execution_count": 186,
   "metadata": {
    "colab": {},
    "colab_type": "code",
    "id": "vgeCVZYTN7Q3",
    "outputId": "079cb354-963a-45f0-d707-d380e6300074"
   },
   "outputs": [
    {
     "name": "stdout",
     "output_type": "stream",
     "text": [
      "Requirement already satisfied: gender-guesser in /anaconda3/envs/nf/lib/python3.6/site-packages (0.4.0)\n"
     ]
    }
   ],
   "source": [
    "!pip install gender-guesser\n",
    "import gender_guesser.detector as gender"
   ]
  },
  {
   "cell_type": "code",
   "execution_count": 187,
   "metadata": {},
   "outputs": [
    {
     "name": "stdout",
     "output_type": "stream",
     "text": [
      "nan\n",
      "nan\n",
      "nan\n"
     ]
    }
   ],
   "source": [
    "for x in df_tot5['crea_name']:\n",
    "    if type(x) == float:\n",
    "        print(x)"
   ]
  },
  {
   "cell_type": "code",
   "execution_count": 188,
   "metadata": {
    "colab": {},
    "colab_type": "code",
    "id": "H7GsVK5dODnh",
    "outputId": "334aad21-42cd-4298-ab38-dbecf08d62e0"
   },
   "outputs": [
    {
     "name": "stdout",
     "output_type": "stream",
     "text": [
      "67525 6532 30628 6503 55860 1718\n"
     ]
    }
   ],
   "source": [
    "d = gender.Detector()\n",
    "gender_list = list()\n",
    "for x in df_tot5.crea_name.values:\n",
    "  gender_list.append(d.get_gender(str(x).split()[0]))\n",
    "gender_list\n",
    "male_count = 0\n",
    "mmale_count = 0\n",
    "female_count = 0\n",
    "mfemale_count = 0\n",
    "unknown_count = 0\n",
    "unclear_count = 0\n",
    "\n",
    "for x in gender_list:\n",
    "  if x == 'male':\n",
    "    male_count += 1\n",
    "  elif x == 'mostly_male':\n",
    "    mmale_count += 1\n",
    "  elif x == 'female':\n",
    "    female_count += 1\n",
    "  elif x == 'mostly_female':\n",
    "    mfemale_count += 1\n",
    "  elif x == 'unknown':\n",
    "    unknown_count += 1\n",
    "  else:\n",
    "    unclear_count += 1\n",
    "print(male_count, mmale_count, female_count, mfemale_count, unknown_count, unclear_count)\n",
    "for idx, x in enumerate(gender_list):\n",
    "  if x == 'mostly_male':\n",
    "    gender_list[idx] = 'male'\n",
    "  elif x == 'mostly_female':\n",
    "    gender_list[idx] = 'female'\n",
    "  elif x == 'andy':\n",
    "    gender_list[idx] = 'unknown'"
   ]
  },
  {
   "cell_type": "code",
   "execution_count": 189,
   "metadata": {
    "colab": {},
    "colab_type": "code",
    "id": "efxCjlpck6oF"
   },
   "outputs": [],
   "source": [
    "df_tot5['gender'] = gender_list"
   ]
  },
  {
   "cell_type": "code",
   "execution_count": 190,
   "metadata": {
    "colab": {},
    "colab_type": "code",
    "id": "R93wQCuYOMVJ",
    "outputId": "59073f38-a167-42c6-dc50-7b61ab6539d6"
   },
   "outputs": [
    {
     "data": {
      "text/html": [
       "<div>\n",
       "<style scoped>\n",
       "    .dataframe tbody tr th:only-of-type {\n",
       "        vertical-align: middle;\n",
       "    }\n",
       "\n",
       "    .dataframe tbody tr th {\n",
       "        vertical-align: top;\n",
       "    }\n",
       "\n",
       "    .dataframe thead th {\n",
       "        text-align: right;\n",
       "    }\n",
       "</style>\n",
       "<table border=\"1\" class=\"dataframe\">\n",
       "  <thead>\n",
       "    <tr style=\"text-align: right;\">\n",
       "      <th></th>\n",
       "      <th>level_0</th>\n",
       "      <th>index</th>\n",
       "      <th>backers_count</th>\n",
       "      <th>converted_pledged_amount</th>\n",
       "      <th>fx_rate</th>\n",
       "      <th>goal</th>\n",
       "      <th>usd_pledged</th>\n",
       "      <th>launch_year</th>\n",
       "      <th>launch_month</th>\n",
       "      <th>launch_day</th>\n",
       "      <th>launch_hour</th>\n",
       "      <th>crea_id</th>\n",
       "      <th>cat_id</th>\n",
       "      <th>cat_position</th>\n",
       "      <th>cat_parent_id</th>\n",
       "      <th>cat_color</th>\n",
       "      <th>blurb_wordcount</th>\n",
       "    </tr>\n",
       "  </thead>\n",
       "  <tbody>\n",
       "    <tr>\n",
       "      <th>count</th>\n",
       "      <td>168766.000000</td>\n",
       "      <td>168766.000000</td>\n",
       "      <td>168766.000000</td>\n",
       "      <td>1.687660e+05</td>\n",
       "      <td>168766.000000</td>\n",
       "      <td>1.687660e+05</td>\n",
       "      <td>1.687660e+05</td>\n",
       "      <td>168766.000000</td>\n",
       "      <td>168766.000000</td>\n",
       "      <td>168766.000000</td>\n",
       "      <td>168766.000000</td>\n",
       "      <td>1.687630e+05</td>\n",
       "      <td>168766.000000</td>\n",
       "      <td>168766.000000</td>\n",
       "      <td>168766.000000</td>\n",
       "      <td>1.687660e+05</td>\n",
       "      <td>168766.000000</td>\n",
       "    </tr>\n",
       "    <tr>\n",
       "      <th>mean</th>\n",
       "      <td>91819.319756</td>\n",
       "      <td>1885.879087</td>\n",
       "      <td>140.174834</td>\n",
       "      <td>1.211197e+04</td>\n",
       "      <td>0.996631</td>\n",
       "      <td>4.845453e+04</td>\n",
       "      <td>1.212138e+04</td>\n",
       "      <td>2015.456674</td>\n",
       "      <td>6.426389</td>\n",
       "      <td>15.233216</td>\n",
       "      <td>13.582043</td>\n",
       "      <td>1.074313e+09</td>\n",
       "      <td>172.051272</td>\n",
       "      <td>7.122252</td>\n",
       "      <td>11.176084</td>\n",
       "      <td>1.206977e+07</td>\n",
       "      <td>19.007223</td>\n",
       "    </tr>\n",
       "    <tr>\n",
       "      <th>std</th>\n",
       "      <td>55449.837452</td>\n",
       "      <td>1094.947890</td>\n",
       "      <td>895.487385</td>\n",
       "      <td>8.373549e+04</td>\n",
       "      <td>0.201235</td>\n",
       "      <td>1.160559e+06</td>\n",
       "      <td>8.379143e+04</td>\n",
       "      <td>1.946499</td>\n",
       "      <td>3.350598</td>\n",
       "      <td>8.864271</td>\n",
       "      <td>6.938604</td>\n",
       "      <td>6.206031e+08</td>\n",
       "      <td>134.307616</td>\n",
       "      <td>4.608503</td>\n",
       "      <td>5.936704</td>\n",
       "      <td>5.866742e+06</td>\n",
       "      <td>4.981585</td>\n",
       "    </tr>\n",
       "    <tr>\n",
       "      <th>min</th>\n",
       "      <td>0.000000</td>\n",
       "      <td>0.000000</td>\n",
       "      <td>0.000000</td>\n",
       "      <td>0.000000e+00</td>\n",
       "      <td>0.008966</td>\n",
       "      <td>1.000000e-02</td>\n",
       "      <td>0.000000e+00</td>\n",
       "      <td>2009.000000</td>\n",
       "      <td>1.000000</td>\n",
       "      <td>1.000000</td>\n",
       "      <td>0.000000</td>\n",
       "      <td>3.000000e+00</td>\n",
       "      <td>1.000000</td>\n",
       "      <td>1.000000</td>\n",
       "      <td>0.000000</td>\n",
       "      <td>5.162700e+04</td>\n",
       "      <td>0.000000</td>\n",
       "    </tr>\n",
       "    <tr>\n",
       "      <th>25%</th>\n",
       "      <td>43437.250000</td>\n",
       "      <td>933.000000</td>\n",
       "      <td>3.000000</td>\n",
       "      <td>1.000000e+02</td>\n",
       "      <td>1.000000</td>\n",
       "      <td>1.500000e+03</td>\n",
       "      <td>1.000000e+02</td>\n",
       "      <td>2014.000000</td>\n",
       "      <td>4.000000</td>\n",
       "      <td>8.000000</td>\n",
       "      <td>8.000000</td>\n",
       "      <td>5.357377e+08</td>\n",
       "      <td>37.000000</td>\n",
       "      <td>3.000000</td>\n",
       "      <td>9.000000</td>\n",
       "      <td>6.526716e+06</td>\n",
       "      <td>16.000000</td>\n",
       "    </tr>\n",
       "    <tr>\n",
       "      <th>50%</th>\n",
       "      <td>89596.500000</td>\n",
       "      <td>1881.000000</td>\n",
       "      <td>25.000000</td>\n",
       "      <td>1.452000e+03</td>\n",
       "      <td>1.000000</td>\n",
       "      <td>5.000000e+03</td>\n",
       "      <td>1.455000e+03</td>\n",
       "      <td>2015.000000</td>\n",
       "      <td>6.000000</td>\n",
       "      <td>15.000000</td>\n",
       "      <td>15.000000</td>\n",
       "      <td>1.073671e+09</td>\n",
       "      <td>250.000000</td>\n",
       "      <td>6.000000</td>\n",
       "      <td>12.000000</td>\n",
       "      <td>1.486766e+07</td>\n",
       "      <td>20.000000</td>\n",
       "    </tr>\n",
       "    <tr>\n",
       "      <th>75%</th>\n",
       "      <td>139020.750000</td>\n",
       "      <td>2836.000000</td>\n",
       "      <td>85.000000</td>\n",
       "      <td>6.235000e+03</td>\n",
       "      <td>1.000000</td>\n",
       "      <td>1.500000e+04</td>\n",
       "      <td>6.237891e+03</td>\n",
       "      <td>2017.000000</td>\n",
       "      <td>9.000000</td>\n",
       "      <td>23.000000</td>\n",
       "      <td>19.000000</td>\n",
       "      <td>1.612592e+09</td>\n",
       "      <td>301.000000</td>\n",
       "      <td>10.000000</td>\n",
       "      <td>16.000000</td>\n",
       "      <td>1.674378e+07</td>\n",
       "      <td>22.000000</td>\n",
       "    </tr>\n",
       "    <tr>\n",
       "      <th>max</th>\n",
       "      <td>192662.000000</td>\n",
       "      <td>3795.000000</td>\n",
       "      <td>105857.000000</td>\n",
       "      <td>8.596474e+06</td>\n",
       "      <td>1.748586</td>\n",
       "      <td>1.000000e+08</td>\n",
       "      <td>8.596475e+06</td>\n",
       "      <td>2019.000000</td>\n",
       "      <td>12.000000</td>\n",
       "      <td>31.000000</td>\n",
       "      <td>23.000000</td>\n",
       "      <td>2.147483e+09</td>\n",
       "      <td>389.000000</td>\n",
       "      <td>19.000000</td>\n",
       "      <td>26.000000</td>\n",
       "      <td>1.677606e+07</td>\n",
       "      <td>35.000000</td>\n",
       "    </tr>\n",
       "  </tbody>\n",
       "</table>\n",
       "</div>"
      ],
      "text/plain": [
       "             level_0          index  backers_count  converted_pledged_amount  \\\n",
       "count  168766.000000  168766.000000  168766.000000              1.687660e+05   \n",
       "mean    91819.319756    1885.879087     140.174834              1.211197e+04   \n",
       "std     55449.837452    1094.947890     895.487385              8.373549e+04   \n",
       "min         0.000000       0.000000       0.000000              0.000000e+00   \n",
       "25%     43437.250000     933.000000       3.000000              1.000000e+02   \n",
       "50%     89596.500000    1881.000000      25.000000              1.452000e+03   \n",
       "75%    139020.750000    2836.000000      85.000000              6.235000e+03   \n",
       "max    192662.000000    3795.000000  105857.000000              8.596474e+06   \n",
       "\n",
       "             fx_rate          goal   usd_pledged    launch_year  \\\n",
       "count  168766.000000  1.687660e+05  1.687660e+05  168766.000000   \n",
       "mean        0.996631  4.845453e+04  1.212138e+04    2015.456674   \n",
       "std         0.201235  1.160559e+06  8.379143e+04       1.946499   \n",
       "min         0.008966  1.000000e-02  0.000000e+00    2009.000000   \n",
       "25%         1.000000  1.500000e+03  1.000000e+02    2014.000000   \n",
       "50%         1.000000  5.000000e+03  1.455000e+03    2015.000000   \n",
       "75%         1.000000  1.500000e+04  6.237891e+03    2017.000000   \n",
       "max         1.748586  1.000000e+08  8.596475e+06    2019.000000   \n",
       "\n",
       "        launch_month     launch_day    launch_hour       crea_id  \\\n",
       "count  168766.000000  168766.000000  168766.000000  1.687630e+05   \n",
       "mean        6.426389      15.233216      13.582043  1.074313e+09   \n",
       "std         3.350598       8.864271       6.938604  6.206031e+08   \n",
       "min         1.000000       1.000000       0.000000  3.000000e+00   \n",
       "25%         4.000000       8.000000       8.000000  5.357377e+08   \n",
       "50%         6.000000      15.000000      15.000000  1.073671e+09   \n",
       "75%         9.000000      23.000000      19.000000  1.612592e+09   \n",
       "max        12.000000      31.000000      23.000000  2.147483e+09   \n",
       "\n",
       "              cat_id   cat_position  cat_parent_id     cat_color  \\\n",
       "count  168766.000000  168766.000000  168766.000000  1.687660e+05   \n",
       "mean      172.051272       7.122252      11.176084  1.206977e+07   \n",
       "std       134.307616       4.608503       5.936704  5.866742e+06   \n",
       "min         1.000000       1.000000       0.000000  5.162700e+04   \n",
       "25%        37.000000       3.000000       9.000000  6.526716e+06   \n",
       "50%       250.000000       6.000000      12.000000  1.486766e+07   \n",
       "75%       301.000000      10.000000      16.000000  1.674378e+07   \n",
       "max       389.000000      19.000000      26.000000  1.677606e+07   \n",
       "\n",
       "       blurb_wordcount  \n",
       "count    168766.000000  \n",
       "mean         19.007223  \n",
       "std           4.981585  \n",
       "min           0.000000  \n",
       "25%          16.000000  \n",
       "50%          20.000000  \n",
       "75%          22.000000  \n",
       "max          35.000000  "
      ]
     },
     "execution_count": 190,
     "metadata": {},
     "output_type": "execute_result"
    }
   ],
   "source": [
    "df_tot5.describe()"
   ]
  },
  {
   "cell_type": "code",
   "execution_count": 191,
   "metadata": {
    "colab": {},
    "colab_type": "code",
    "id": "EZlnbo5Wk6oO",
    "outputId": "f44b10f6-4e3d-4842-b90f-94719c535e48"
   },
   "outputs": [
    {
     "data": {
      "text/plain": [
       "array(['successful', 'failed'], dtype=object)"
      ]
     },
     "execution_count": 191,
     "metadata": {},
     "output_type": "execute_result"
    }
   ],
   "source": [
    "df_tot5.state.unique()"
   ]
  },
  {
   "cell_type": "code",
   "execution_count": 192,
   "metadata": {
    "colab": {},
    "colab_type": "code",
    "id": "Wm7tLM5_k6oP"
   },
   "outputs": [],
   "source": [
    "suclist = list()\n",
    "for x in df_tot5.state.values:\n",
    "    if x == 'successful':\n",
    "        suclist.append(1)\n",
    "    else:\n",
    "        suclist.append(0)\n",
    "df_tot5['success'] = suclist"
   ]
  },
  {
   "cell_type": "code",
   "execution_count": 193,
   "metadata": {
    "colab": {},
    "colab_type": "code",
    "id": "iGgnlMkYOQgz",
    "outputId": "beebe566-f9dd-4106-e627-408551b951a2"
   },
   "outputs": [
    {
     "data": {
      "text/plain": [
       "level_0                     14815\n",
       "index                       14815\n",
       "backers_count               14815\n",
       "blurb                       14815\n",
       "converted_pledged_amount    14815\n",
       "country                     14815\n",
       "created_at                  14815\n",
       "currency                    14815\n",
       "currency_symbol             14815\n",
       "currency_trailing_code      14815\n",
       "current_currency            14815\n",
       "deadline                    14815\n",
       "disable_communication       14815\n",
       "fx_rate                     14815\n",
       "goal                        14815\n",
       "id                          14815\n",
       "is_starrable                14815\n",
       "launched_at                 14815\n",
       "location                    14815\n",
       "name                        14815\n",
       "photo                       14815\n",
       "slug                        14815\n",
       "spotlight                   14815\n",
       "staff_pick                  14815\n",
       "state                       14815\n",
       "state_changed_at            14815\n",
       "usd_pledged                 14815\n",
       "launch_weekday              14815\n",
       "launch_year                 14815\n",
       "launch_month                14815\n",
       "launch_day                  14815\n",
       "launch_hour                 14815\n",
       "city                        14815\n",
       "crea_id                     14814\n",
       "crea_name                   14814\n",
       "crea_avatar                 14814\n",
       "crea_urls                   14814\n",
       "crea_slug                   14815\n",
       "cat_id                      14815\n",
       "cat_name                    14815\n",
       "cat_super                   14815\n",
       "cat_position                14815\n",
       "cat_parent_id               14815\n",
       "cat_color                   14815\n",
       "cat_urls                    14815\n",
       "blurb_wordcount             14815\n",
       "gender                      14815\n",
       "success                     14815\n",
       "dtype: int64"
      ]
     },
     "execution_count": 193,
     "metadata": {},
     "output_type": "execute_result"
    }
   ],
   "source": [
    "df_tot5[df_tot5.usd_pledged == 0.].count()"
   ]
  },
  {
   "cell_type": "code",
   "execution_count": 194,
   "metadata": {
    "colab": {},
    "colab_type": "code",
    "id": "-I7F2RkNk6oQ"
   },
   "outputs": [],
   "source": [
    "corrm = df_tot5.corr()"
   ]
  },
  {
   "cell_type": "code",
   "execution_count": 195,
   "metadata": {
    "colab": {},
    "colab_type": "code",
    "id": "vpJ1FTUfk6oR",
    "outputId": "ac3e80e3-915b-4777-db8c-571e3d9b37ae"
   },
   "outputs": [
    {
     "data": {
      "text/plain": [
       "<matplotlib.axes._subplots.AxesSubplot at 0x1af5b84400>"
      ]
     },
     "execution_count": 195,
     "metadata": {},
     "output_type": "execute_result"
    },
    {
     "data": {
      "image/png": "[encoded data removed]",
      "text/plain": [
       "<Figure size 1080x1080 with 2 Axes>"
      ]
     },
     "metadata": {
      "needs_background": "light"
     },
     "output_type": "display_data"
    }
   ],
   "source": [
    "plt.figure(figsize = (15,15))\n",
    "sns.heatmap(corrm)"
   ]
  },
  {
   "cell_type": "code",
   "execution_count": 196,
   "metadata": {
    "colab": {},
    "colab_type": "code",
    "id": "XkC9FLGok6oS",
    "outputId": "179da896-9323-43e8-e420-cf978142324f"
   },
   "outputs": [
    {
     "name": "stdout",
     "output_type": "stream",
     "text": [
      "<class 'pandas.core.frame.DataFrame'>\n",
      "Int64Index: 168766 entries, 0 to 192447\n",
      "Data columns (total 48 columns):\n",
      "level_0                     168766 non-null int64\n",
      "index                       168766 non-null int64\n",
      "backers_count               168766 non-null int64\n",
      "blurb                       168766 non-null object\n",
      "converted_pledged_amount    168766 non-null int64\n",
      "country                     168766 non-null category\n",
      "created_at                  168766 non-null datetime64[ns]\n",
      "currency                    168766 non-null category\n",
      "currency_symbol             168766 non-null category\n",
      "currency_trailing_code      168766 non-null bool\n",
      "current_currency            168766 non-null category\n",
      "deadline                    168766 non-null datetime64[ns]\n",
      "disable_communication       168766 non-null bool\n",
      "fx_rate                     168766 non-null float64\n",
      "goal                        168766 non-null float64\n",
      "id                          168766 non-null category\n",
      "is_starrable                168766 non-null bool\n",
      "launched_at                 168766 non-null datetime64[ns]\n",
      "location                    168766 non-null object\n",
      "name                        168766 non-null object\n",
      "photo                       168766 non-null object\n",
      "slug                        168766 non-null object\n",
      "spotlight                   168766 non-null bool\n",
      "staff_pick                  168766 non-null bool\n",
      "state                       168766 non-null object\n",
      "state_changed_at            168766 non-null datetime64[ns]\n",
      "usd_pledged                 168766 non-null float64\n",
      "launch_weekday              168766 non-null object\n",
      "launch_year                 168766 non-null int64\n",
      "launch_month                168766 non-null int64\n",
      "launch_day                  168766 non-null int64\n",
      "launch_hour                 168766 non-null int64\n",
      "city                        168766 non-null object\n",
      "crea_id                     168763 non-null float64\n",
      "crea_name                   168763 non-null object\n",
      "crea_avatar                 168763 non-null object\n",
      "crea_urls                   168763 non-null object\n",
      "crea_slug                   168766 non-null object\n",
      "cat_id                      168766 non-null int64\n",
      "cat_name                    168766 non-null object\n",
      "cat_super                   168766 non-null object\n",
      "cat_position                168766 non-null int64\n",
      "cat_parent_id               168766 non-null float64\n",
      "cat_color                   168766 non-null int64\n",
      "cat_urls                    168766 non-null object\n",
      "blurb_wordcount             168766 non-null int64\n",
      "gender                      168766 non-null object\n",
      "success                     168766 non-null int64\n",
      "dtypes: bool(5), category(5), datetime64[ns](4), float64(5), int64(13), object(16)\n",
      "memory usage: 58.6+ MB\n"
     ]
    }
   ],
   "source": [
    "df_tot5.info()"
   ]
  },
  {
   "cell_type": "code",
   "execution_count": 197,
   "metadata": {
    "colab": {},
    "colab_type": "code",
    "id": "1dbwU1qGk6oT"
   },
   "outputs": [],
   "source": [
    "df_tot5.gender = df_tot5.gender.astype('category')\n",
    "df_tot5.cat_super = df_tot5.cat_super.astype('category')\n",
    "df_tot5.cat_parent_id = df_tot5.cat_parent_id.astype('category')\n",
    "#df_tot5.city = df_tot5.city.astype('category')\n",
    "df_tot5.gender = df_tot5.gender.astype('category')"
   ]
  },
  {
   "cell_type": "code",
   "execution_count": 198,
   "metadata": {
    "colab": {},
    "colab_type": "code",
    "id": "Os2SJcH1k6oT",
    "outputId": "cf5d0e16-7cc4-4366-c345-2ee2c8946d16"
   },
   "outputs": [
    {
     "data": {
      "text/plain": [
       "array([ 1,  2,  3,  4,  5,  6,  7,  8,  9, 10, 11, 12, 13, 14, 15, 16, 17,\n",
       "       18, 19])"
      ]
     },
     "execution_count": 198,
     "metadata": {},
     "output_type": "execute_result"
    }
   ],
   "source": [
    "np.sort(list(df_tot5.cat_position.unique()))"
   ]
  },
  {
   "cell_type": "code",
   "execution_count": 199,
   "metadata": {
    "colab": {},
    "colab_type": "code",
    "id": "7va6YSsUk6oV",
    "outputId": "5b3dd29b-01e6-47a0-e085-adefac4ba3b0"
   },
   "outputs": [
    {
     "name": "stdout",
     "output_type": "stream",
     "text": [
      "0 level_0\n",
      "1 index\n",
      "3 blurb\n",
      "4 converted_pledged_amount\n",
      "7 currency\n",
      "8 currency_symbol\n",
      "9 currency_trailing_code\n",
      "15 id\n",
      "19 name\n",
      "20 photo\n",
      "21 slug\n",
      "24 state\n",
      "25 state_changed_at\n",
      "34 crea_name\n",
      "35 crea_avatar\n",
      "36 crea_urls\n",
      "37 crea_slug\n",
      "38 cat_id\n",
      "42 cat_parent_id\n",
      "43 cat_color\n",
      "44 cat_urls\n"
     ]
    }
   ],
   "source": [
    "a = 0\n",
    "for x in df_tot5.columns:\n",
    "    if x in ['level_0', 'index', 'blurb', 'converted_pledged_amount',\\\n",
    "        'currency', 'currency_symbol', 'currency_trailing_code',\\\n",
    "        'id', 'name', 'slug', 'photo', 'state', 'state_changed_at',\\\n",
    "        'crea_name', 'crea_avatar', 'crea_urls', 'crea_slug',\\\n",
    "        'cat_color', 'cat_urls', 'cat_parent_id', 'cat_id']:\n",
    "        print(a,x)\n",
    "    a += 1"
   ]
  },
  {
   "cell_type": "code",
   "execution_count": 200,
   "metadata": {
    "colab": {},
    "colab_type": "code",
    "id": "whe3uUIOk6oW",
    "outputId": "1969c757-6355-47a9-bda2-777ab0653122"
   },
   "outputs": [
    {
     "data": {
      "text/html": [
       "<div>\n",
       "<style scoped>\n",
       "    .dataframe tbody tr th:only-of-type {\n",
       "        vertical-align: middle;\n",
       "    }\n",
       "\n",
       "    .dataframe tbody tr th {\n",
       "        vertical-align: top;\n",
       "    }\n",
       "\n",
       "    .dataframe thead th {\n",
       "        text-align: right;\n",
       "    }\n",
       "</style>\n",
       "<table border=\"1\" class=\"dataframe\">\n",
       "  <thead>\n",
       "    <tr style=\"text-align: right;\">\n",
       "      <th></th>\n",
       "      <th>level_0</th>\n",
       "      <th>index</th>\n",
       "      <th>blurb</th>\n",
       "      <th>converted_pledged_amount</th>\n",
       "      <th>currency</th>\n",
       "      <th>currency_symbol</th>\n",
       "      <th>currency_trailing_code</th>\n",
       "      <th>id</th>\n",
       "      <th>name</th>\n",
       "      <th>slug</th>\n",
       "      <th>...</th>\n",
       "      <th>state</th>\n",
       "      <th>state_changed_at</th>\n",
       "      <th>crea_name</th>\n",
       "      <th>crea_avatar</th>\n",
       "      <th>crea_urls</th>\n",
       "      <th>crea_slug</th>\n",
       "      <th>cat_color</th>\n",
       "      <th>cat_urls</th>\n",
       "      <th>cat_parent_id</th>\n",
       "      <th>cat_id</th>\n",
       "    </tr>\n",
       "  </thead>\n",
       "  <tbody>\n",
       "    <tr>\n",
       "      <th>0</th>\n",
       "      <td>0</td>\n",
       "      <td>0</td>\n",
       "      <td>2006 was almost 7 years ago.... Can you believ...</td>\n",
       "      <td>802</td>\n",
       "      <td>USD</td>\n",
       "      <td>$</td>\n",
       "      <td>True</td>\n",
       "      <td>287514992</td>\n",
       "      <td>New Final Round Album</td>\n",
       "      <td>new-final-round-album</td>\n",
       "      <td>...</td>\n",
       "      <td>successful</td>\n",
       "      <td>2014-02-08 22:37:26</td>\n",
       "      <td>Daniel</td>\n",
       "      <td>{'thumb': 'https://ksr-ugc.imgix.net/assets/00...</td>\n",
       "      <td>{'web': {'user': 'https://www.kickstarter.com/...</td>\n",
       "      <td></td>\n",
       "      <td>10878931</td>\n",
       "      <td>{'web': {'discover': 'http://www.kickstarter.c...</td>\n",
       "      <td>14.0</td>\n",
       "      <td>43</td>\n",
       "    </tr>\n",
       "    <tr>\n",
       "      <th>1</th>\n",
       "      <td>1</td>\n",
       "      <td>1</td>\n",
       "      <td>An adorable fantasy enamel pin series of princ...</td>\n",
       "      <td>2259</td>\n",
       "      <td>USD</td>\n",
       "      <td>$</td>\n",
       "      <td>True</td>\n",
       "      <td>385129759</td>\n",
       "      <td>Princess Pals Enamel Pin Series</td>\n",
       "      <td>princess-pals-enamel-pin-series</td>\n",
       "      <td>...</td>\n",
       "      <td>successful</td>\n",
       "      <td>2019-03-05 16:00:11</td>\n",
       "      <td>Katherine</td>\n",
       "      <td>{'thumb': 'https://ksr-ugc.imgix.net/assets/02...</td>\n",
       "      <td>{'web': {'user': 'https://www.kickstarter.com/...</td>\n",
       "      <td>freckleddisney</td>\n",
       "      <td>16760235</td>\n",
       "      <td>{'web': {'discover': 'http://www.kickstarter.c...</td>\n",
       "      <td>1.0</td>\n",
       "      <td>54</td>\n",
       "    </tr>\n",
       "    <tr>\n",
       "      <th>2</th>\n",
       "      <td>2</td>\n",
       "      <td>2</td>\n",
       "      <td>Helping a community come together to set the s...</td>\n",
       "      <td>29638</td>\n",
       "      <td>USD</td>\n",
       "      <td>$</td>\n",
       "      <td>True</td>\n",
       "      <td>681033598</td>\n",
       "      <td>Their Life Through Their Lens-the Amish and Me...</td>\n",
       "      <td>their-life-through-their-lens-the-amish-and-me...</td>\n",
       "      <td>...</td>\n",
       "      <td>successful</td>\n",
       "      <td>2016-12-01 15:58:52</td>\n",
       "      <td>MelissaThomas</td>\n",
       "      <td>{'thumb': 'https://ksr-ugc.imgix.net/assets/01...</td>\n",
       "      <td>{'web': {'user': 'https://www.kickstarter.com/...</td>\n",
       "      <td></td>\n",
       "      <td>58341</td>\n",
       "      <td>{'web': {'discover': 'http://www.kickstarter.c...</td>\n",
       "      <td>15.0</td>\n",
       "      <td>280</td>\n",
       "    </tr>\n",
       "    <tr>\n",
       "      <th>3</th>\n",
       "      <td>3</td>\n",
       "      <td>3</td>\n",
       "      <td>Every revolution starts from the bottom and we...</td>\n",
       "      <td>49158</td>\n",
       "      <td>EUR</td>\n",
       "      <td>€</td>\n",
       "      <td>False</td>\n",
       "      <td>1031782682</td>\n",
       "      <td>WAO: THE ECO EFFECT SHOES</td>\n",
       "      <td>wao-the-eco-effect-shoes</td>\n",
       "      <td>...</td>\n",
       "      <td>successful</td>\n",
       "      <td>2018-12-08 22:59:00</td>\n",
       "      <td>WAO</td>\n",
       "      <td>{'thumb': 'https://ksr-ugc.imgix.net/assets/02...</td>\n",
       "      <td>{'web': {'user': 'https://www.kickstarter.com/...</td>\n",
       "      <td>wearewao</td>\n",
       "      <td>16752598</td>\n",
       "      <td>{'web': {'discover': 'http://www.kickstarter.c...</td>\n",
       "      <td>9.0</td>\n",
       "      <td>266</td>\n",
       "    </tr>\n",
       "    <tr>\n",
       "      <th>4</th>\n",
       "      <td>4</td>\n",
       "      <td>4</td>\n",
       "      <td>Learn to build 10+ Applications in this comple...</td>\n",
       "      <td>549</td>\n",
       "      <td>USD</td>\n",
       "      <td>$</td>\n",
       "      <td>True</td>\n",
       "      <td>904085819</td>\n",
       "      <td>Apple Watch Development Course</td>\n",
       "      <td>apple-watch-development-course</td>\n",
       "      <td>...</td>\n",
       "      <td>failed</td>\n",
       "      <td>2015-04-08 16:36:59</td>\n",
       "      <td>Kalpit Jain</td>\n",
       "      <td>{'thumb': 'https://ksr-ugc.imgix.net/assets/00...</td>\n",
       "      <td>{'web': {'user': 'https://www.kickstarter.com/...</td>\n",
       "      <td></td>\n",
       "      <td>6526716</td>\n",
       "      <td>{'web': {'discover': 'http://www.kickstarter.c...</td>\n",
       "      <td>16.0</td>\n",
       "      <td>51</td>\n",
       "    </tr>\n",
       "    <tr>\n",
       "      <th>...</th>\n",
       "      <td>...</td>\n",
       "      <td>...</td>\n",
       "      <td>...</td>\n",
       "      <td>...</td>\n",
       "      <td>...</td>\n",
       "      <td>...</td>\n",
       "      <td>...</td>\n",
       "      <td>...</td>\n",
       "      <td>...</td>\n",
       "      <td>...</td>\n",
       "      <td>...</td>\n",
       "      <td>...</td>\n",
       "      <td>...</td>\n",
       "      <td>...</td>\n",
       "      <td>...</td>\n",
       "      <td>...</td>\n",
       "      <td>...</td>\n",
       "      <td>...</td>\n",
       "      <td>...</td>\n",
       "      <td>...</td>\n",
       "      <td>...</td>\n",
       "    </tr>\n",
       "    <tr>\n",
       "      <th>192442</th>\n",
       "      <td>192657</td>\n",
       "      <td>957</td>\n",
       "      <td>There are known website for providing free and...</td>\n",
       "      <td>135</td>\n",
       "      <td>USD</td>\n",
       "      <td>$</td>\n",
       "      <td>True</td>\n",
       "      <td>329361477</td>\n",
       "      <td>Art and craft free resources website</td>\n",
       "      <td>art-and-craft-free-resources-website</td>\n",
       "      <td>...</td>\n",
       "      <td>failed</td>\n",
       "      <td>2017-03-23 17:42:02</td>\n",
       "      <td>Alex Beene</td>\n",
       "      <td>{'thumb': 'https://ksr-ugc.imgix.net/assets/00...</td>\n",
       "      <td>{'web': {'user': 'https://www.kickstarter.com/...</td>\n",
       "      <td></td>\n",
       "      <td>16744876</td>\n",
       "      <td>{'web': {'discover': 'http://www.kickstarter.c...</td>\n",
       "      <td>26.0</td>\n",
       "      <td>344</td>\n",
       "    </tr>\n",
       "    <tr>\n",
       "      <th>192443</th>\n",
       "      <td>192658</td>\n",
       "      <td>958</td>\n",
       "      <td>The first book in an inspirational series for ...</td>\n",
       "      <td>18608</td>\n",
       "      <td>USD</td>\n",
       "      <td>$</td>\n",
       "      <td>True</td>\n",
       "      <td>1535606205</td>\n",
       "      <td>Enny Penny's Wishes</td>\n",
       "      <td>enny-pennys-wishes</td>\n",
       "      <td>...</td>\n",
       "      <td>successful</td>\n",
       "      <td>2013-08-11 11:46:39</td>\n",
       "      <td>CPS Books / G2 Entertainment</td>\n",
       "      <td>{'thumb': 'https://ksr-ugc.imgix.net/assets/02...</td>\n",
       "      <td>{'web': {'user': 'https://www.kickstarter.com/...</td>\n",
       "      <td>phodography</td>\n",
       "      <td>14867664</td>\n",
       "      <td>{'web': {'discover': 'http://www.kickstarter.c...</td>\n",
       "      <td>18.0</td>\n",
       "      <td>46</td>\n",
       "    </tr>\n",
       "    <tr>\n",
       "      <th>192445</th>\n",
       "      <td>192660</td>\n",
       "      <td>961</td>\n",
       "      <td>Over 250 healthy recipes free from ANY added S...</td>\n",
       "      <td>305</td>\n",
       "      <td>AUD</td>\n",
       "      <td>$</td>\n",
       "      <td>True</td>\n",
       "      <td>298098561</td>\n",
       "      <td>Fusion Detox - Chef Alan Wichert creates THE h...</td>\n",
       "      <td>fusion-detox-chef-alan-wichert-creates-the-health</td>\n",
       "      <td>...</td>\n",
       "      <td>failed</td>\n",
       "      <td>2016-01-25 09:15:10</td>\n",
       "      <td>NaN</td>\n",
       "      <td>NaN</td>\n",
       "      <td>NaN</td>\n",
       "      <td></td>\n",
       "      <td>16725570</td>\n",
       "      <td>{'web': {'discover': 'http://www.kickstarter.c...</td>\n",
       "      <td>10.0</td>\n",
       "      <td>306</td>\n",
       "    </tr>\n",
       "    <tr>\n",
       "      <th>192446</th>\n",
       "      <td>192661</td>\n",
       "      <td>962</td>\n",
       "      <td>Give your baby style and flair with \"Gorgeous ...</td>\n",
       "      <td>0</td>\n",
       "      <td>USD</td>\n",
       "      <td>$</td>\n",
       "      <td>True</td>\n",
       "      <td>2048460852</td>\n",
       "      <td>Gorgeous Princess Cheetah Collection</td>\n",
       "      <td>gorgeous-princess-cheetah-collection</td>\n",
       "      <td>...</td>\n",
       "      <td>failed</td>\n",
       "      <td>2016-09-25 21:09:15</td>\n",
       "      <td>NaN</td>\n",
       "      <td>NaN</td>\n",
       "      <td>NaN</td>\n",
       "      <td></td>\n",
       "      <td>16752598</td>\n",
       "      <td>{'web': {'discover': 'http://www.kickstarter.c...</td>\n",
       "      <td>9.0</td>\n",
       "      <td>264</td>\n",
       "    </tr>\n",
       "    <tr>\n",
       "      <th>192447</th>\n",
       "      <td>192662</td>\n",
       "      <td>963</td>\n",
       "      <td>\"The Lion &amp; the Lyceum\" is a children's book a...</td>\n",
       "      <td>1400</td>\n",
       "      <td>USD</td>\n",
       "      <td>$</td>\n",
       "      <td>True</td>\n",
       "      <td>1124247806</td>\n",
       "      <td>\"The Lion &amp; The Lyceum\" Children's Book - Base...</td>\n",
       "      <td>the-lion-and-the-lyceum-childrens-book-based-o...</td>\n",
       "      <td>...</td>\n",
       "      <td>successful</td>\n",
       "      <td>2015-03-19 05:00:14</td>\n",
       "      <td>NaN</td>\n",
       "      <td>NaN</td>\n",
       "      <td>NaN</td>\n",
       "      <td></td>\n",
       "      <td>14867664</td>\n",
       "      <td>{'web': {'discover': 'http://www.kickstarter.c...</td>\n",
       "      <td>18.0</td>\n",
       "      <td>46</td>\n",
       "    </tr>\n",
       "  </tbody>\n",
       "</table>\n",
       "<p>168766 rows × 21 columns</p>\n",
       "</div>"
      ],
      "text/plain": [
       "        level_0  index                                              blurb  \\\n",
       "0             0      0  2006 was almost 7 years ago.... Can you believ...   \n",
       "1             1      1  An adorable fantasy enamel pin series of princ...   \n",
       "2             2      2  Helping a community come together to set the s...   \n",
       "3             3      3  Every revolution starts from the bottom and we...   \n",
       "4             4      4  Learn to build 10+ Applications in this comple...   \n",
       "...         ...    ...                                                ...   \n",
       "192442   192657    957  There are known website for providing free and...   \n",
       "192443   192658    958  The first book in an inspirational series for ...   \n",
       "192445   192660    961  Over 250 healthy recipes free from ANY added S...   \n",
       "192446   192661    962  Give your baby style and flair with \"Gorgeous ...   \n",
       "192447   192662    963  \"The Lion & the Lyceum\" is a children's book a...   \n",
       "\n",
       "        converted_pledged_amount currency currency_symbol  \\\n",
       "0                            802      USD               $   \n",
       "1                           2259      USD               $   \n",
       "2                          29638      USD               $   \n",
       "3                          49158      EUR               €   \n",
       "4                            549      USD               $   \n",
       "...                          ...      ...             ...   \n",
       "192442                       135      USD               $   \n",
       "192443                     18608      USD               $   \n",
       "192445                       305      AUD               $   \n",
       "192446                         0      USD               $   \n",
       "192447                      1400      USD               $   \n",
       "\n",
       "        currency_trailing_code          id  \\\n",
       "0                         True   287514992   \n",
       "1                         True   385129759   \n",
       "2                         True   681033598   \n",
       "3                        False  1031782682   \n",
       "4                         True   904085819   \n",
       "...                        ...         ...   \n",
       "192442                    True   329361477   \n",
       "192443                    True  1535606205   \n",
       "192445                    True   298098561   \n",
       "192446                    True  2048460852   \n",
       "192447                    True  1124247806   \n",
       "\n",
       "                                                     name  \\\n",
       "0                                   New Final Round Album   \n",
       "1                         Princess Pals Enamel Pin Series   \n",
       "2       Their Life Through Their Lens-the Amish and Me...   \n",
       "3                               WAO: THE ECO EFFECT SHOES   \n",
       "4                          Apple Watch Development Course   \n",
       "...                                                   ...   \n",
       "192442               Art and craft free resources website   \n",
       "192443                                Enny Penny's Wishes   \n",
       "192445  Fusion Detox - Chef Alan Wichert creates THE h...   \n",
       "192446               Gorgeous Princess Cheetah Collection   \n",
       "192447  \"The Lion & The Lyceum\" Children's Book - Base...   \n",
       "\n",
       "                                                     slug  ...       state  \\\n",
       "0                                   new-final-round-album  ...  successful   \n",
       "1                         princess-pals-enamel-pin-series  ...  successful   \n",
       "2       their-life-through-their-lens-the-amish-and-me...  ...  successful   \n",
       "3                                wao-the-eco-effect-shoes  ...  successful   \n",
       "4                          apple-watch-development-course  ...      failed   \n",
       "...                                                   ...  ...         ...   \n",
       "192442               art-and-craft-free-resources-website  ...      failed   \n",
       "192443                                 enny-pennys-wishes  ...  successful   \n",
       "192445  fusion-detox-chef-alan-wichert-creates-the-health  ...      failed   \n",
       "192446               gorgeous-princess-cheetah-collection  ...      failed   \n",
       "192447  the-lion-and-the-lyceum-childrens-book-based-o...  ...  successful   \n",
       "\n",
       "          state_changed_at                     crea_name  \\\n",
       "0      2014-02-08 22:37:26                        Daniel   \n",
       "1      2019-03-05 16:00:11                     Katherine   \n",
       "2      2016-12-01 15:58:52                 MelissaThomas   \n",
       "3      2018-12-08 22:59:00                           WAO   \n",
       "4      2015-04-08 16:36:59                   Kalpit Jain   \n",
       "...                    ...                           ...   \n",
       "192442 2017-03-23 17:42:02                    Alex Beene   \n",
       "192443 2013-08-11 11:46:39  CPS Books / G2 Entertainment   \n",
       "192445 2016-01-25 09:15:10                           NaN   \n",
       "192446 2016-09-25 21:09:15                           NaN   \n",
       "192447 2015-03-19 05:00:14                           NaN   \n",
       "\n",
       "                                              crea_avatar  \\\n",
       "0       {'thumb': 'https://ksr-ugc.imgix.net/assets/00...   \n",
       "1       {'thumb': 'https://ksr-ugc.imgix.net/assets/02...   \n",
       "2       {'thumb': 'https://ksr-ugc.imgix.net/assets/01...   \n",
       "3       {'thumb': 'https://ksr-ugc.imgix.net/assets/02...   \n",
       "4       {'thumb': 'https://ksr-ugc.imgix.net/assets/00...   \n",
       "...                                                   ...   \n",
       "192442  {'thumb': 'https://ksr-ugc.imgix.net/assets/00...   \n",
       "192443  {'thumb': 'https://ksr-ugc.imgix.net/assets/02...   \n",
       "192445                                                NaN   \n",
       "192446                                                NaN   \n",
       "192447                                                NaN   \n",
       "\n",
       "                                                crea_urls       crea_slug  \\\n",
       "0       {'web': {'user': 'https://www.kickstarter.com/...                   \n",
       "1       {'web': {'user': 'https://www.kickstarter.com/...  freckleddisney   \n",
       "2       {'web': {'user': 'https://www.kickstarter.com/...                   \n",
       "3       {'web': {'user': 'https://www.kickstarter.com/...        wearewao   \n",
       "4       {'web': {'user': 'https://www.kickstarter.com/...                   \n",
       "...                                                   ...             ...   \n",
       "192442  {'web': {'user': 'https://www.kickstarter.com/...                   \n",
       "192443  {'web': {'user': 'https://www.kickstarter.com/...     phodography   \n",
       "192445                                                NaN                   \n",
       "192446                                                NaN                   \n",
       "192447                                                NaN                   \n",
       "\n",
       "       cat_color                                           cat_urls  \\\n",
       "0       10878931  {'web': {'discover': 'http://www.kickstarter.c...   \n",
       "1       16760235  {'web': {'discover': 'http://www.kickstarter.c...   \n",
       "2          58341  {'web': {'discover': 'http://www.kickstarter.c...   \n",
       "3       16752598  {'web': {'discover': 'http://www.kickstarter.c...   \n",
       "4        6526716  {'web': {'discover': 'http://www.kickstarter.c...   \n",
       "...          ...                                                ...   \n",
       "192442  16744876  {'web': {'discover': 'http://www.kickstarter.c...   \n",
       "192443  14867664  {'web': {'discover': 'http://www.kickstarter.c...   \n",
       "192445  16725570  {'web': {'discover': 'http://www.kickstarter.c...   \n",
       "192446  16752598  {'web': {'discover': 'http://www.kickstarter.c...   \n",
       "192447  14867664  {'web': {'discover': 'http://www.kickstarter.c...   \n",
       "\n",
       "       cat_parent_id cat_id  \n",
       "0               14.0     43  \n",
       "1                1.0     54  \n",
       "2               15.0    280  \n",
       "3                9.0    266  \n",
       "4               16.0     51  \n",
       "...              ...    ...  \n",
       "192442          26.0    344  \n",
       "192443          18.0     46  \n",
       "192445          10.0    306  \n",
       "192446           9.0    264  \n",
       "192447          18.0     46  \n",
       "\n",
       "[168766 rows x 21 columns]"
      ]
     },
     "execution_count": 200,
     "metadata": {},
     "output_type": "execute_result"
    }
   ],
   "source": [
    "df_tot5[['level_0', 'index', 'blurb', 'converted_pledged_amount',\\\n",
    "        'currency', 'currency_symbol', 'currency_trailing_code',\\\n",
    "        'id', 'name', 'slug', 'photo', 'state', 'state_changed_at',\\\n",
    "        'crea_name', 'crea_avatar', 'crea_urls', 'crea_slug',\\\n",
    "        'cat_color', 'cat_urls', 'cat_parent_id', 'cat_id']]"
   ]
  },
  {
   "cell_type": "code",
   "execution_count": 201,
   "metadata": {
    "colab": {},
    "colab_type": "code",
    "id": "bm4iMigBk6oX"
   },
   "outputs": [],
   "source": [
    "df_tot6 = df_tot5.drop(['level_0', 'index', 'blurb', 'converted_pledged_amount',\\\n",
    "                        'currency', 'current_currency', 'currency_symbol', 'currency_trailing_code',\\\n",
    "                        'id', 'name', 'slug', 'photo', 'state', 'state_changed_at',\\\n",
    "                        'crea_name', 'crea_avatar', 'crea_urls', 'crea_slug',\\\n",
    "                        'cat_color', 'cat_urls', 'cat_parent_id', 'cat_id', 'city', 'spotlight', 'launched_at'], axis = 1)"
   ]
  },
  {
   "cell_type": "code",
   "execution_count": 202,
   "metadata": {
    "colab": {},
    "colab_type": "code",
    "id": "N9kMNgyFk6oY",
    "outputId": "884772e7-5529-4391-ff59-9b3382207649"
   },
   "outputs": [
    {
     "name": "stdout",
     "output_type": "stream",
     "text": [
      "<class 'pandas.core.frame.DataFrame'>\n",
      "Int64Index: 168766 entries, 0 to 192447\n",
      "Data columns (total 23 columns):\n",
      "backers_count            168766 non-null int64\n",
      "country                  168766 non-null category\n",
      "created_at               168766 non-null datetime64[ns]\n",
      "deadline                 168766 non-null datetime64[ns]\n",
      "disable_communication    168766 non-null bool\n",
      "fx_rate                  168766 non-null float64\n",
      "goal                     168766 non-null float64\n",
      "is_starrable             168766 non-null bool\n",
      "location                 168766 non-null object\n",
      "staff_pick               168766 non-null bool\n",
      "usd_pledged              168766 non-null float64\n",
      "launch_weekday           168766 non-null object\n",
      "launch_year              168766 non-null int64\n",
      "launch_month             168766 non-null int64\n",
      "launch_day               168766 non-null int64\n",
      "launch_hour              168766 non-null int64\n",
      "crea_id                  168763 non-null float64\n",
      "cat_name                 168766 non-null object\n",
      "cat_super                168766 non-null category\n",
      "cat_position             168766 non-null int64\n",
      "blurb_wordcount          168766 non-null int64\n",
      "gender                   168766 non-null category\n",
      "success                  168766 non-null int64\n",
      "dtypes: bool(3), category(3), datetime64[ns](2), float64(4), int64(8), object(3)\n",
      "memory usage: 24.1+ MB\n"
     ]
    }
   ],
   "source": [
    "df_tot6.info()"
   ]
  },
  {
   "cell_type": "code",
   "execution_count": 203,
   "metadata": {
    "colab": {},
    "colab_type": "code",
    "id": "W_6XuOrIk6oZ",
    "outputId": "bb63ae03-2741-4380-f765-30ab671c2bf3"
   },
   "outputs": [
    {
     "data": {
      "text/plain": [
       "159"
      ]
     },
     "execution_count": 203,
     "metadata": {},
     "output_type": "execute_result"
    }
   ],
   "source": [
    "len(df_tot6.cat_name.unique())"
   ]
  },
  {
   "cell_type": "code",
   "execution_count": 204,
   "metadata": {
    "colab": {},
    "colab_type": "code",
    "id": "YI_OMQQ5k6oa"
   },
   "outputs": [],
   "source": [
    "df_tot6b = df_tot6.drop(['location',\n",
    " 'deadline',\n",
    " 'created_at',\n",
    " 'usd_pledged',\n",
    " 'staff_pick',\n",
    " 'cat_name',\n",
    " 'backers_count'], axis=1)"
   ]
  },
  {
   "cell_type": "markdown",
   "metadata": {},
   "source": [
    "#### \"Feature Engineering\""
   ]
  },
  {
   "cell_type": "code",
   "execution_count": 209,
   "metadata": {},
   "outputs": [],
   "source": [
    "base_pledge_list =[] \n",
    "for x in df_tot6[['usd_pledged', 'backers_count']].values:\n",
    "    if x[1] != 0:\n",
    "        base_pledge_list.append(x[0] / x[1])\n",
    "    else:\n",
    "        base_pledge_list.append(0.)\n",
    "df_tot6b['base_pledge'] = base_pledge_list"
   ]
  },
  {
   "cell_type": "code",
   "execution_count": 210,
   "metadata": {
    "colab": {},
    "colab_type": "code",
    "id": "U1oxnqsvk6oc",
    "outputId": "abf867f1-ca09-4298-9980-eaa73dc6ce6a"
   },
   "outputs": [
    {
     "data": {
      "text/plain": [
       "['location',\n",
       " 'cat_name',\n",
       " 'deadline',\n",
       " 'created_at',\n",
       " 'usd_pledged',\n",
       " 'staff_pick',\n",
       " 'backers_count']"
      ]
     },
     "execution_count": 210,
     "metadata": {},
     "output_type": "execute_result"
    }
   ],
   "source": [
    "cat_list = ['country', 'launch_weekday', 'cat_super', 'gender']\n",
    "\n",
    "droplist2 = ['country', 'location', 'launch_weekday', 'cat_name', 'cat_super', 'gender', 'deadline', 'created_at', 'usd_pledged', 'staff_pick', 'backers_count']\n",
    "\n",
    "droplist3 = []\n",
    "for x in droplist2:\n",
    "    if x not in cat_list:\n",
    "        droplist3.append(x)\n",
    "        \n",
    "droplist3"
   ]
  },
  {
   "cell_type": "code",
   "execution_count": 211,
   "metadata": {
    "colab": {},
    "colab_type": "code",
    "id": "v3vJoDcDk6oc"
   },
   "outputs": [],
   "source": [
    "#dum = pd.get_dummies(df_tot6.drop(['location', 'deadline', 'created_at', 'success', 'usd_pledged', 'backers_count', 'staff_pick'], axis = 1)[],drop_first = True, prefix = 'cat_')\n",
    "dum = pd.get_dummies(df_tot6b, columns=cat_list, drop_first = True, prefix = 'dum', )\n",
    "#df_wo_dum = df_tot6b.drop(cat_list, axis = 1)\n",
    "#df_tot7 = pd.concat([dum.drop('success', axis = 1), df_wo_dum], axis=1)\n",
    "df_tot7 = dum"
   ]
  },
  {
   "cell_type": "code",
   "execution_count": 213,
   "metadata": {},
   "outputs": [
    {
     "data": {
      "text/html": [
       "<div>\n",
       "<style scoped>\n",
       "    .dataframe tbody tr th:only-of-type {\n",
       "        vertical-align: middle;\n",
       "    }\n",
       "\n",
       "    .dataframe tbody tr th {\n",
       "        vertical-align: top;\n",
       "    }\n",
       "\n",
       "    .dataframe thead th {\n",
       "        text-align: right;\n",
       "    }\n",
       "</style>\n",
       "<table border=\"1\" class=\"dataframe\">\n",
       "  <thead>\n",
       "    <tr style=\"text-align: right;\">\n",
       "      <th></th>\n",
       "      <th>base_pledge</th>\n",
       "    </tr>\n",
       "  </thead>\n",
       "  <tbody>\n",
       "    <tr>\n",
       "      <th>0</th>\n",
       "      <td>38.190476</td>\n",
       "    </tr>\n",
       "    <tr>\n",
       "      <th>1</th>\n",
       "      <td>23.288660</td>\n",
       "    </tr>\n",
       "    <tr>\n",
       "      <th>2</th>\n",
       "      <td>336.795455</td>\n",
       "    </tr>\n",
       "    <tr>\n",
       "      <th>3</th>\n",
       "      <td>254.275402</td>\n",
       "    </tr>\n",
       "    <tr>\n",
       "      <th>4</th>\n",
       "      <td>27.450000</td>\n",
       "    </tr>\n",
       "  </tbody>\n",
       "</table>\n",
       "</div>"
      ],
      "text/plain": [
       "   base_pledge\n",
       "0    38.190476\n",
       "1    23.288660\n",
       "2   336.795455\n",
       "3   254.275402\n",
       "4    27.450000"
      ]
     },
     "execution_count": 213,
     "metadata": {},
     "output_type": "execute_result"
    }
   ],
   "source": [
    "df_tot6b[['base_pledge']].head()"
   ]
  },
  {
   "cell_type": "code",
   "execution_count": 187,
   "metadata": {
    "colab": {},
    "colab_type": "code",
    "id": "aPuF8tq8k6od",
    "outputId": "fb59133e-f456-4a12-ade6-f236a7754d21"
   },
   "outputs": [
    {
     "data": {
      "text/html": [
       "<div>\n",
       "<style scoped>\n",
       "    .dataframe tbody tr th:only-of-type {\n",
       "        vertical-align: middle;\n",
       "    }\n",
       "\n",
       "    .dataframe tbody tr th {\n",
       "        vertical-align: top;\n",
       "    }\n",
       "\n",
       "    .dataframe thead th {\n",
       "        text-align: right;\n",
       "    }\n",
       "</style>\n",
       "<table border=\"1\" class=\"dataframe\">\n",
       "  <thead>\n",
       "    <tr style=\"text-align: right;\">\n",
       "      <th></th>\n",
       "      <th>disable_communication</th>\n",
       "      <th>fx_rate</th>\n",
       "      <th>goal</th>\n",
       "      <th>is_starrable</th>\n",
       "      <th>launch_year</th>\n",
       "      <th>launch_month</th>\n",
       "      <th>launch_day</th>\n",
       "      <th>launch_hour</th>\n",
       "      <th>crea_id</th>\n",
       "      <th>cat_position</th>\n",
       "      <th>blurb_wordcount</th>\n",
       "      <th>success</th>\n",
       "      <th>dum_AU</th>\n",
       "      <th>dum_BE</th>\n",
       "      <th>dum_CA</th>\n",
       "      <th>dum_CH</th>\n",
       "      <th>dum_DE</th>\n",
       "      <th>dum_DK</th>\n",
       "      <th>dum_ES</th>\n",
       "      <th>dum_FR</th>\n",
       "      <th>dum_GB</th>\n",
       "      <th>dum_HK</th>\n",
       "      <th>dum_IE</th>\n",
       "      <th>dum_IT</th>\n",
       "      <th>dum_JP</th>\n",
       "      <th>dum_LU</th>\n",
       "      <th>dum_MX</th>\n",
       "      <th>dum_NL</th>\n",
       "      <th>dum_NO</th>\n",
       "      <th>dum_NZ</th>\n",
       "      <th>dum_SE</th>\n",
       "      <th>dum_SG</th>\n",
       "      <th>dum_US</th>\n",
       "      <th>dum_Monday</th>\n",
       "      <th>dum_Saturday</th>\n",
       "      <th>dum_Sunday</th>\n",
       "      <th>dum_Thursday</th>\n",
       "      <th>dum_Tuesday</th>\n",
       "      <th>dum_Wednesday</th>\n",
       "      <th>dum_comics</th>\n",
       "      <th>dum_crafts</th>\n",
       "      <th>dum_dance</th>\n",
       "      <th>dum_design</th>\n",
       "      <th>dum_fashion</th>\n",
       "      <th>dum_film &amp; video</th>\n",
       "      <th>dum_food</th>\n",
       "      <th>dum_games</th>\n",
       "      <th>dum_journalism</th>\n",
       "      <th>dum_music</th>\n",
       "      <th>dum_photography</th>\n",
       "      <th>dum_publishing</th>\n",
       "      <th>dum_technology</th>\n",
       "      <th>dum_theater</th>\n",
       "      <th>dum_male</th>\n",
       "      <th>dum_unknown</th>\n",
       "    </tr>\n",
       "  </thead>\n",
       "  <tbody>\n",
       "    <tr>\n",
       "      <th>0</th>\n",
       "      <td>False</td>\n",
       "      <td>1.000000</td>\n",
       "      <td>200.0</td>\n",
       "      <td>False</td>\n",
       "      <td>2013</td>\n",
       "      <td>12</td>\n",
       "      <td>25</td>\n",
       "      <td>22</td>\n",
       "      <td>1.495926e+09</td>\n",
       "      <td>17</td>\n",
       "      <td>26</td>\n",
       "      <td>1</td>\n",
       "      <td>0</td>\n",
       "      <td>0</td>\n",
       "      <td>0</td>\n",
       "      <td>0</td>\n",
       "      <td>0</td>\n",
       "      <td>0</td>\n",
       "      <td>0</td>\n",
       "      <td>0</td>\n",
       "      <td>0</td>\n",
       "      <td>0</td>\n",
       "      <td>0</td>\n",
       "      <td>0</td>\n",
       "      <td>0</td>\n",
       "      <td>0</td>\n",
       "      <td>0</td>\n",
       "      <td>0</td>\n",
       "      <td>0</td>\n",
       "      <td>0</td>\n",
       "      <td>0</td>\n",
       "      <td>0</td>\n",
       "      <td>1</td>\n",
       "      <td>0</td>\n",
       "      <td>0</td>\n",
       "      <td>0</td>\n",
       "      <td>0</td>\n",
       "      <td>0</td>\n",
       "      <td>1</td>\n",
       "      <td>0</td>\n",
       "      <td>0</td>\n",
       "      <td>0</td>\n",
       "      <td>0</td>\n",
       "      <td>0</td>\n",
       "      <td>0</td>\n",
       "      <td>0</td>\n",
       "      <td>0</td>\n",
       "      <td>0</td>\n",
       "      <td>1</td>\n",
       "      <td>0</td>\n",
       "      <td>0</td>\n",
       "      <td>0</td>\n",
       "      <td>0</td>\n",
       "      <td>1</td>\n",
       "      <td>0</td>\n",
       "    </tr>\n",
       "    <tr>\n",
       "      <th>1</th>\n",
       "      <td>False</td>\n",
       "      <td>1.000000</td>\n",
       "      <td>400.0</td>\n",
       "      <td>False</td>\n",
       "      <td>2019</td>\n",
       "      <td>2</td>\n",
       "      <td>13</td>\n",
       "      <td>16</td>\n",
       "      <td>1.175590e+09</td>\n",
       "      <td>6</td>\n",
       "      <td>9</td>\n",
       "      <td>1</td>\n",
       "      <td>0</td>\n",
       "      <td>0</td>\n",
       "      <td>0</td>\n",
       "      <td>0</td>\n",
       "      <td>0</td>\n",
       "      <td>0</td>\n",
       "      <td>0</td>\n",
       "      <td>0</td>\n",
       "      <td>0</td>\n",
       "      <td>0</td>\n",
       "      <td>0</td>\n",
       "      <td>0</td>\n",
       "      <td>0</td>\n",
       "      <td>0</td>\n",
       "      <td>0</td>\n",
       "      <td>0</td>\n",
       "      <td>0</td>\n",
       "      <td>0</td>\n",
       "      <td>0</td>\n",
       "      <td>0</td>\n",
       "      <td>1</td>\n",
       "      <td>0</td>\n",
       "      <td>0</td>\n",
       "      <td>0</td>\n",
       "      <td>0</td>\n",
       "      <td>0</td>\n",
       "      <td>1</td>\n",
       "      <td>0</td>\n",
       "      <td>0</td>\n",
       "      <td>0</td>\n",
       "      <td>0</td>\n",
       "      <td>0</td>\n",
       "      <td>0</td>\n",
       "      <td>0</td>\n",
       "      <td>0</td>\n",
       "      <td>0</td>\n",
       "      <td>0</td>\n",
       "      <td>0</td>\n",
       "      <td>0</td>\n",
       "      <td>0</td>\n",
       "      <td>0</td>\n",
       "      <td>0</td>\n",
       "      <td>0</td>\n",
       "    </tr>\n",
       "    <tr>\n",
       "      <th>2</th>\n",
       "      <td>False</td>\n",
       "      <td>1.000000</td>\n",
       "      <td>27224.0</td>\n",
       "      <td>False</td>\n",
       "      <td>2016</td>\n",
       "      <td>11</td>\n",
       "      <td>1</td>\n",
       "      <td>14</td>\n",
       "      <td>1.196856e+09</td>\n",
       "      <td>5</td>\n",
       "      <td>25</td>\n",
       "      <td>1</td>\n",
       "      <td>0</td>\n",
       "      <td>0</td>\n",
       "      <td>0</td>\n",
       "      <td>0</td>\n",
       "      <td>0</td>\n",
       "      <td>0</td>\n",
       "      <td>0</td>\n",
       "      <td>0</td>\n",
       "      <td>0</td>\n",
       "      <td>0</td>\n",
       "      <td>0</td>\n",
       "      <td>0</td>\n",
       "      <td>0</td>\n",
       "      <td>0</td>\n",
       "      <td>0</td>\n",
       "      <td>0</td>\n",
       "      <td>0</td>\n",
       "      <td>0</td>\n",
       "      <td>0</td>\n",
       "      <td>0</td>\n",
       "      <td>1</td>\n",
       "      <td>0</td>\n",
       "      <td>0</td>\n",
       "      <td>0</td>\n",
       "      <td>0</td>\n",
       "      <td>1</td>\n",
       "      <td>0</td>\n",
       "      <td>0</td>\n",
       "      <td>0</td>\n",
       "      <td>0</td>\n",
       "      <td>0</td>\n",
       "      <td>0</td>\n",
       "      <td>0</td>\n",
       "      <td>0</td>\n",
       "      <td>0</td>\n",
       "      <td>0</td>\n",
       "      <td>0</td>\n",
       "      <td>1</td>\n",
       "      <td>0</td>\n",
       "      <td>0</td>\n",
       "      <td>0</td>\n",
       "      <td>0</td>\n",
       "      <td>1</td>\n",
       "    </tr>\n",
       "    <tr>\n",
       "      <th>3</th>\n",
       "      <td>False</td>\n",
       "      <td>1.128433</td>\n",
       "      <td>40000.0</td>\n",
       "      <td>False</td>\n",
       "      <td>2018</td>\n",
       "      <td>10</td>\n",
       "      <td>27</td>\n",
       "      <td>23</td>\n",
       "      <td>1.569701e+09</td>\n",
       "      <td>5</td>\n",
       "      <td>13</td>\n",
       "      <td>1</td>\n",
       "      <td>0</td>\n",
       "      <td>0</td>\n",
       "      <td>0</td>\n",
       "      <td>0</td>\n",
       "      <td>0</td>\n",
       "      <td>0</td>\n",
       "      <td>0</td>\n",
       "      <td>0</td>\n",
       "      <td>0</td>\n",
       "      <td>0</td>\n",
       "      <td>0</td>\n",
       "      <td>1</td>\n",
       "      <td>0</td>\n",
       "      <td>0</td>\n",
       "      <td>0</td>\n",
       "      <td>0</td>\n",
       "      <td>0</td>\n",
       "      <td>0</td>\n",
       "      <td>0</td>\n",
       "      <td>0</td>\n",
       "      <td>0</td>\n",
       "      <td>0</td>\n",
       "      <td>1</td>\n",
       "      <td>0</td>\n",
       "      <td>0</td>\n",
       "      <td>0</td>\n",
       "      <td>0</td>\n",
       "      <td>0</td>\n",
       "      <td>0</td>\n",
       "      <td>0</td>\n",
       "      <td>0</td>\n",
       "      <td>1</td>\n",
       "      <td>0</td>\n",
       "      <td>0</td>\n",
       "      <td>0</td>\n",
       "      <td>0</td>\n",
       "      <td>0</td>\n",
       "      <td>0</td>\n",
       "      <td>0</td>\n",
       "      <td>0</td>\n",
       "      <td>0</td>\n",
       "      <td>0</td>\n",
       "      <td>1</td>\n",
       "    </tr>\n",
       "    <tr>\n",
       "      <th>4</th>\n",
       "      <td>False</td>\n",
       "      <td>1.000000</td>\n",
       "      <td>1000.0</td>\n",
       "      <td>False</td>\n",
       "      <td>2015</td>\n",
       "      <td>3</td>\n",
       "      <td>9</td>\n",
       "      <td>16</td>\n",
       "      <td>1.870845e+09</td>\n",
       "      <td>11</td>\n",
       "      <td>22</td>\n",
       "      <td>0</td>\n",
       "      <td>0</td>\n",
       "      <td>0</td>\n",
       "      <td>0</td>\n",
       "      <td>0</td>\n",
       "      <td>0</td>\n",
       "      <td>0</td>\n",
       "      <td>0</td>\n",
       "      <td>0</td>\n",
       "      <td>0</td>\n",
       "      <td>0</td>\n",
       "      <td>0</td>\n",
       "      <td>0</td>\n",
       "      <td>0</td>\n",
       "      <td>0</td>\n",
       "      <td>0</td>\n",
       "      <td>0</td>\n",
       "      <td>0</td>\n",
       "      <td>0</td>\n",
       "      <td>0</td>\n",
       "      <td>0</td>\n",
       "      <td>1</td>\n",
       "      <td>1</td>\n",
       "      <td>0</td>\n",
       "      <td>0</td>\n",
       "      <td>0</td>\n",
       "      <td>0</td>\n",
       "      <td>0</td>\n",
       "      <td>0</td>\n",
       "      <td>0</td>\n",
       "      <td>0</td>\n",
       "      <td>0</td>\n",
       "      <td>0</td>\n",
       "      <td>0</td>\n",
       "      <td>0</td>\n",
       "      <td>0</td>\n",
       "      <td>0</td>\n",
       "      <td>0</td>\n",
       "      <td>0</td>\n",
       "      <td>0</td>\n",
       "      <td>1</td>\n",
       "      <td>0</td>\n",
       "      <td>0</td>\n",
       "      <td>1</td>\n",
       "    </tr>\n",
       "  </tbody>\n",
       "</table>\n",
       "</div>"
      ],
      "text/plain": [
       "   disable_communication   fx_rate     goal  is_starrable  launch_year  \\\n",
       "0                  False  1.000000    200.0         False         2013   \n",
       "1                  False  1.000000    400.0         False         2019   \n",
       "2                  False  1.000000  27224.0         False         2016   \n",
       "3                  False  1.128433  40000.0         False         2018   \n",
       "4                  False  1.000000   1000.0         False         2015   \n",
       "\n",
       "   launch_month  launch_day  launch_hour       crea_id  cat_position  \\\n",
       "0            12          25           22  1.495926e+09            17   \n",
       "1             2          13           16  1.175590e+09             6   \n",
       "2            11           1           14  1.196856e+09             5   \n",
       "3            10          27           23  1.569701e+09             5   \n",
       "4             3           9           16  1.870845e+09            11   \n",
       "\n",
       "   blurb_wordcount  success  dum_AU  dum_BE  dum_CA  dum_CH  dum_DE  dum_DK  \\\n",
       "0               26        1       0       0       0       0       0       0   \n",
       "1                9        1       0       0       0       0       0       0   \n",
       "2               25        1       0       0       0       0       0       0   \n",
       "3               13        1       0       0       0       0       0       0   \n",
       "4               22        0       0       0       0       0       0       0   \n",
       "\n",
       "   dum_ES  dum_FR  dum_GB  dum_HK  dum_IE  dum_IT  dum_JP  dum_LU  dum_MX  \\\n",
       "0       0       0       0       0       0       0       0       0       0   \n",
       "1       0       0       0       0       0       0       0       0       0   \n",
       "2       0       0       0       0       0       0       0       0       0   \n",
       "3       0       0       0       0       0       1       0       0       0   \n",
       "4       0       0       0       0       0       0       0       0       0   \n",
       "\n",
       "   dum_NL  dum_NO  dum_NZ  dum_SE  dum_SG  dum_US  dum_Monday  dum_Saturday  \\\n",
       "0       0       0       0       0       0       1           0             0   \n",
       "1       0       0       0       0       0       1           0             0   \n",
       "2       0       0       0       0       0       1           0             0   \n",
       "3       0       0       0       0       0       0           0             1   \n",
       "4       0       0       0       0       0       1           1             0   \n",
       "\n",
       "   dum_Sunday  dum_Thursday  dum_Tuesday  dum_Wednesday  dum_comics  \\\n",
       "0           0             0            0              1           0   \n",
       "1           0             0            0              1           0   \n",
       "2           0             0            1              0           0   \n",
       "3           0             0            0              0           0   \n",
       "4           0             0            0              0           0   \n",
       "\n",
       "   dum_crafts  dum_dance  dum_design  dum_fashion  dum_film & video  dum_food  \\\n",
       "0           0          0           0            0                 0         0   \n",
       "1           0          0           0            0                 0         0   \n",
       "2           0          0           0            0                 0         0   \n",
       "3           0          0           0            1                 0         0   \n",
       "4           0          0           0            0                 0         0   \n",
       "\n",
       "   dum_games  dum_journalism  dum_music  dum_photography  dum_publishing  \\\n",
       "0          0               0          1                0               0   \n",
       "1          0               0          0                0               0   \n",
       "2          0               0          0                1               0   \n",
       "3          0               0          0                0               0   \n",
       "4          0               0          0                0               0   \n",
       "\n",
       "   dum_technology  dum_theater  dum_male  dum_unknown  \n",
       "0               0            0         1            0  \n",
       "1               0            0         0            0  \n",
       "2               0            0         0            1  \n",
       "3               0            0         0            1  \n",
       "4               1            0         0            1  "
      ]
     },
     "execution_count": 187,
     "metadata": {},
     "output_type": "execute_result"
    }
   ],
   "source": [
    "pd.set_option('display.max_columns', 300)\n",
    "df_tot7.head()"
   ]
  },
  {
   "cell_type": "code",
   "execution_count": 214,
   "metadata": {},
   "outputs": [
    {
     "name": "stdout",
     "output_type": "stream",
     "text": [
      "168763\n",
      "168764\n",
      "168765\n"
     ]
    }
   ],
   "source": [
    "for idx, x in enumerate(df_tot7['crea_id']):\n",
    "    if np.isnan(x):\n",
    "        #df_tot7.drop(idx, inplace=True, axis=0)\n",
    "        print(idx)\n",
    "#df_tot7.reset_index()\n",
    "df_tot7.reset_index(inplace=True)\n",
    "df_tot7.drop([168763, 168764, 168765], inplace=True, axis=0)"
   ]
  },
  {
   "cell_type": "code",
   "execution_count": 215,
   "metadata": {},
   "outputs": [],
   "source": [
    "# Save the DataFrame to a file\n",
    "pickle.dump( df_tot7, open( 'df_tot7.p', 'wb' ) )"
   ]
  },
  {
   "cell_type": "code",
   "execution_count": 2,
   "metadata": {},
   "outputs": [],
   "source": [
    "df_tot7 = pickle.load(open('df_tot7.p', 'rb'))\n",
    "#df_tot7.drop('index', inplace=True)\n",
    "df_tot7.set_index('index', inplace=True)"
   ]
  },
  {
   "cell_type": "code",
   "execution_count": 3,
   "metadata": {},
   "outputs": [
    {
     "data": {
      "text/plain": [
       "count     168763\n",
       "unique         1\n",
       "top        False\n",
       "freq      168763\n",
       "Name: is_starrable, dtype: object"
      ]
     },
     "execution_count": 3,
     "metadata": {},
     "output_type": "execute_result"
    }
   ],
   "source": [
    "df_tot7['is_starrable'].describe()"
   ]
  },
  {
   "cell_type": "code",
   "execution_count": null,
   "metadata": {},
   "outputs": [],
   "source": []
  },
  {
   "cell_type": "markdown",
   "metadata": {},
   "source": [
    "# Modelling the data"
   ]
  },
  {
   "cell_type": "markdown",
   "metadata": {},
   "source": [
    "When performing classification modelling, we have to decide on an evaluation metric. Here, we select the F1-score as primary metric. The f1-score is the harmonic mean between precision and recall. It is always a good choice if there is no preference for false positives or false negatives.\n",
    "\n",
    "Because the data is not perfectly balanced, we will use the weighted average of the f1-score as the evaluation metric.\n",
    "\n",
    "For the final evaluation , we will also look at the true positive and true negative rates, respectively. These two metrics are indicators for how likely the model will predict correctly be able to predict the outcome of a project, that will turn out to be a success /failure."
   ]
  },
  {
   "cell_type": "code",
   "execution_count": 5,
   "metadata": {},
   "outputs": [],
   "source": [
    "# Import some modules from sklearn\n",
    "from sklearn.model_selection import cross_val_score\n",
    "from sklearn.model_selection import RandomizedSearchCV, GridSearchCV\n",
    "from sklearn.metrics import confusion_matrix, classification_report, auc, make_scorer\n"
   ]
  },
  {
   "cell_type": "code",
   "execution_count": 6,
   "metadata": {},
   "outputs": [],
   "source": [
    "# Function that plots the feature importances out\n",
    "def plot_feature_importances(importances, columns, model, fname, sort=True, top_count=None):\n",
    "    if sort:\n",
    "        importances, columns = zip(*sorted(zip(importances, columns)))\n",
    "    plt.figure(figsize=(8, min(int(len(importances[-top_count:])/2), 20)))\n",
    "    plt.barh(range(len(importances[-top_count:])), importances[-top_count:], align='center') \n",
    "    plt.yticks(range(len(columns[-top_count:])), columns[-top_count:]) \n",
    "    plt.title(f'Feature importances in the best {model} model')\n",
    "    plt.xlabel('Feature importance')\n",
    "    plt.ylabel('Feature')\n",
    "    plt.savefig(fname)\n",
    "    plt.show()\n",
    "    "
   ]
  },
  {
   "cell_type": "code",
   "execution_count": 7,
   "metadata": {},
   "outputs": [],
   "source": [
    "# Splitting the dataset into training and test data\n",
    "X = df_tot7.drop('success', axis = 1)\n",
    "y = df_tot7['success']\n",
    "\n",
    "test_size = 0.2\n",
    "random_state = 1\n",
    "X_train, X_test, y_train, y_test = train_test_split(X, y, test_size = test_size, random_state = random_state)"
   ]
  },
  {
   "cell_type": "markdown",
   "metadata": {},
   "source": [
    "## Model 1: Logistic Regression\n",
    "Logistic regression is a simple and easy to use classifier. It can be used for binary classification (success, failure), as is desired here. We do not expect extrodinary performance out of the model, but take it as a baseline and reference for all the other models."
   ]
  },
  {
   "cell_type": "code",
   "execution_count": 166,
   "metadata": {},
   "outputs": [
    {
     "data": {
      "text/plain": [
       "LogisticRegression(C=1.0, class_weight=None, dual=False, fit_intercept=True,\n",
       "                   intercept_scaling=1, l1_ratio=None, max_iter=100,\n",
       "                   multi_class='warn', n_jobs=None, penalty='l2',\n",
       "                   random_state=None, solver='lbfgs', tol=0.0001, verbose=0,\n",
       "                   warm_start=False)"
      ]
     },
     "execution_count": 166,
     "metadata": {},
     "output_type": "execute_result"
    }
   ],
   "source": [
    "from sklearn.linear_model import LogisticRegression\n",
    "logreg = LogisticRegression(solver='lbfgs')\n",
    "logreg.fit(X_train, y_train)"
   ]
  },
  {
   "cell_type": "code",
   "execution_count": 167,
   "metadata": {
    "colab": {},
    "colab_type": "code",
    "id": "BfTb5vwak6of"
   },
   "outputs": [],
   "source": [
    "# Make the predicitions\n",
    "y_pred = logreg.predict(X_test)"
   ]
  },
  {
   "cell_type": "code",
   "execution_count": 168,
   "metadata": {},
   "outputs": [
    {
     "name": "stdout",
     "output_type": "stream",
     "text": [
      "Confusion matrix: \n",
      " [[ 3250 11719]\n",
      " [ 1937 16847]]\n",
      "\n",
      "\n",
      "Classification report: \n",
      "               precision    recall  f1-score   support\n",
      "\n",
      "           0       0.63      0.22      0.32     14969\n",
      "           1       0.59      0.90      0.71     18784\n",
      "\n",
      "    accuracy                           0.60     33753\n",
      "   macro avg       0.61      0.56      0.52     33753\n",
      "weighted avg       0.61      0.60      0.54     33753\n",
      "\n"
     ]
    }
   ],
   "source": [
    "# Print the results\n",
    "print('Confusion matrix: \\n', confusion_matrix(y_test, y_pred))\n",
    "print('\\n\\nClassification report: \\n', classification_report(y_test, y_pred))"
   ]
  },
  {
   "cell_type": "code",
   "execution_count": 50,
   "metadata": {},
   "outputs": [
    {
     "name": "stdout",
     "output_type": "stream",
     "text": [
      "AUC: 0.57494\n"
     ]
    },
    {
     "data": {
      "image/png": "[encoded data removed]",
      "text/plain": [
       "<Figure size 648x504 with 1 Axes>"
      ]
     },
     "metadata": {
      "needs_background": "light"
     },
     "output_type": "display_data"
    }
   ],
   "source": [
    "# AUC-ROC\n",
    "y_score = logreg.fit(X_train, y_train).decision_function(X_test)\n",
    "fpr, tpr, thresholds = roc_curve(y_test, y_score)\n",
    "\n",
    "print('AUC:', round(auc(fpr, tpr),5))\n",
    "\n",
    "plt.figure(figsize=(9,7))\n",
    "lw = 2\n",
    "plt.plot(\n",
    "    fpr,\n",
    "    tpr,\n",
    "    color='darkorange',\n",
    "    lw=lw,\n",
    "    label='ROC curve'\n",
    "    )\n",
    "plt.plot([0, 1], [0, 1], color='navy', lw=lw, linestyle='--')\n",
    "plt.xlim([0.0, 1.0])\n",
    "plt.ylim([0.0, 1.05])\n",
    "plt.yticks([i/20.0 for i in range(21)])\n",
    "plt.xticks([i/20.0 for i in range(21)])\n",
    "plt.xlabel('False Positive Rate')\n",
    "plt.ylabel('True Positive Rate')\n",
    "plt.title('Receiver operating characteristic (ROC) Curve')\n",
    "plt.legend(loc=\"lower right\")\n",
    "plt.show()"
   ]
  },
  {
   "cell_type": "markdown",
   "metadata": {},
   "source": [
    "Overall pretty poor performance!"
   ]
  },
  {
   "cell_type": "markdown",
   "metadata": {},
   "source": [
    "### CrossValidation"
   ]
  },
  {
   "cell_type": "code",
   "execution_count": 51,
   "metadata": {},
   "outputs": [],
   "source": [
    "def classification_report_with_accuracy_score(y_true, y_pred):\n",
    "    print('Classication report from cross validation. Mean values:\\n\\n', classification_report(y_true, y_pred))\n",
    "    return None"
   ]
  },
  {
   "cell_type": "code",
   "execution_count": 183,
   "metadata": {},
   "outputs": [
    {
     "name": "stderr",
     "output_type": "stream",
     "text": [
      "//anaconda3/envs/nf/lib/python3.6/site-packages/sklearn/metrics/classification.py:1437: UndefinedMetricWarning: Precision is ill-defined and being set to 0.0 in labels with no predicted samples.\n",
      "  'precision', 'predicted', average, warn_for)\n"
     ]
    },
    {
     "name": "stdout",
     "output_type": "stream",
     "text": [
      "Average precision score 0.55\n",
      "\n",
      "Average recall score 0.59\n",
      "\n",
      "Average f1-score 0.5714062069803862\n"
     ]
    }
   ],
   "source": [
    "score_p = cross_val_score(\n",
    "    logreg,\n",
    "    X,\n",
    "    y,\n",
    "    cv=5,\n",
    "    scoring='precision_weighted',\n",
    "    #scoring=make_scorer(classification_report_with_accuracy_score)\n",
    ")\n",
    "score_r = cross_val_score(\n",
    "    logreg,\n",
    "    X,\n",
    "    y,\n",
    "    cv=5,\n",
    "    scoring='recall_weighted',\n",
    "    #scoring=make_scorer(classification_report_with_accuracy_score)\n",
    ")\n",
    "print(f'Average precision score {round(score_p.mean(), 2)}')\n",
    "print(f'\\nAverage recall score {round(score_r.mean(), 2)}')\n",
    "print(f'\\nAverage f1-score {(score_r.mean()*score_p.mean()*2)/(score_r.mean()+score_p.mean())}')"
   ]
  },
  {
   "cell_type": "markdown",
   "metadata": {},
   "source": [
    "Performance metrics are worse then without cross validation.F1 score is slightly improved. (by 0.03)"
   ]
  },
  {
   "cell_type": "markdown",
   "metadata": {},
   "source": [
    "## Model 2: DecisionTree\n",
    "A decision tree performs classifications by splitting the dataset and then evaluating the impurity of the different splits (e.g. by computing the Gini index), aiming to minimize the overall impurity. Decision trees usually work acceptably well but are bound to overfit the data."
   ]
  },
  {
   "cell_type": "code",
   "execution_count": 185,
   "metadata": {
    "colab": {},
    "colab_type": "code",
    "id": "ewqpclHAk6og"
   },
   "outputs": [],
   "source": [
    "treec = DecisionTreeClassifier(max_depth = 30)"
   ]
  },
  {
   "cell_type": "code",
   "execution_count": 186,
   "metadata": {
    "colab": {},
    "colab_type": "code",
    "id": "y5bR8zSsk6og",
    "outputId": "0924d47a-86a1-4495-f48c-0eefd218c664"
   },
   "outputs": [
    {
     "data": {
      "text/plain": [
       "DecisionTreeClassifier(class_weight=None, criterion='gini', max_depth=30,\n",
       "                       max_features=None, max_leaf_nodes=None,\n",
       "                       min_impurity_decrease=0.0, min_impurity_split=None,\n",
       "                       min_samples_leaf=1, min_samples_split=2,\n",
       "                       min_weight_fraction_leaf=0.0, presort=False,\n",
       "                       random_state=None, splitter='best')"
      ]
     },
     "execution_count": 186,
     "metadata": {},
     "output_type": "execute_result"
    }
   ],
   "source": [
    "treec.fit(X_train, y_train)"
   ]
  },
  {
   "cell_type": "code",
   "execution_count": 187,
   "metadata": {
    "colab": {},
    "colab_type": "code",
    "id": "EV0xs4Luk6oh"
   },
   "outputs": [],
   "source": [
    "y_pred = treec.predict(X_test)"
   ]
  },
  {
   "cell_type": "code",
   "execution_count": 189,
   "metadata": {
    "colab": {},
    "colab_type": "code",
    "id": "JwTVockWk6oi",
    "outputId": "ecefc94e-e7d0-47f1-b46d-30f19af3babe"
   },
   "outputs": [
    {
     "name": "stdout",
     "output_type": "stream",
     "text": [
      "Confusion matrix: \n",
      " [[11467  3502]\n",
      " [ 3348 15436]]\n",
      "\n",
      "\n",
      "Classification report: \n",
      "               precision    recall  f1-score   support\n",
      "\n",
      "           0       0.77      0.77      0.77     14969\n",
      "           1       0.82      0.82      0.82     18784\n",
      "\n",
      "    accuracy                           0.80     33753\n",
      "   macro avg       0.79      0.79      0.79     33753\n",
      "weighted avg       0.80      0.80      0.80     33753\n",
      "\n"
     ]
    }
   ],
   "source": [
    "# Print the results\n",
    "print('Confusion matrix: \\n', confusion_matrix(y_test, y_pred))\n",
    "print('\\n\\nClassification report: \\n', classification_report(y_test, y_pred))"
   ]
  },
  {
   "cell_type": "markdown",
   "metadata": {},
   "source": [
    "### CrossValidation"
   ]
  },
  {
   "cell_type": "code",
   "execution_count": 191,
   "metadata": {},
   "outputs": [
    {
     "name": "stdout",
     "output_type": "stream",
     "text": [
      "Average precision score 0.8\n",
      "\n",
      "Average recall score 0.8\n",
      "\n",
      "Average f1-score 0.7973428087843745\n",
      "\n",
      "\n",
      "\n",
      "Time taken to run: 0.3 minutes\n"
     ]
    }
   ],
   "source": [
    "start_time = time.time()\n",
    "\n",
    "score_p = cross_val_score(\n",
    "    treec,\n",
    "    X,\n",
    "    y,\n",
    "    cv=5,\n",
    "    scoring='precision_weighted',\n",
    "    #scoring=make_scorer(classification_report_with_accuracy_score)\n",
    ")\n",
    "score_r = cross_val_score(\n",
    "    treec,\n",
    "    X,\n",
    "    y,\n",
    "    cv=5,\n",
    "    scoring='recall_weighted',\n",
    "    #scoring=make_scorer(classification_report_with_accuracy_score)\n",
    ")\n",
    "print(f'Average precision score {round(score_p.mean(), 2)}')\n",
    "print(f'\\nAverage recall score {round(score_r.mean(), 2)}')\n",
    "print(f'\\nAverage f1-score {(score_r.mean()*score_p.mean()*2)/(score_r.mean()+score_p.mean())}')\n",
    "\n",
    "print(f'\\n\\n\\nTime taken to run: {round((time.time() - start_time)/60, 1)} minutes')"
   ]
  },
  {
   "cell_type": "markdown",
   "metadata": {},
   "source": [
    "Again, cross validation does not improve the scores of the model, the f1 even is even slightly worse than in not cross-validated version."
   ]
  },
  {
   "cell_type": "markdown",
   "metadata": {},
   "source": [
    "### Feature Importances"
   ]
  },
  {
   "cell_type": "code",
   "execution_count": 195,
   "metadata": {},
   "outputs": [
    {
     "data": {
      "image/png": "[encoded data removed]",
      "text/plain": [
       "<Figure size 576x360 with 1 Axes>"
      ]
     },
     "metadata": {
      "needs_background": "light"
     },
     "output_type": "display_data"
    }
   ],
   "source": [
    "plot_feature_importances(\n",
    "    treec.feature_importances_,\n",
    "    X.columns,\n",
    "    'DecisionTree_best',\n",
    "    sort=True,\n",
    "    top_count=10,\n",
    "    fname='feat_imp_rf'\n",
    ")"
   ]
  },
  {
   "cell_type": "markdown",
   "metadata": {},
   "source": [
    "## Model 3: RandomForest\n",
    "RandomForest is an ensemble method, which uses decision trees as base learners and significantly improves the the results. Firstly, through feature randomnes, meaning that not all n features are used to build the base estimator trees, but only a certain portion (typically $\\sqrt(n)$) of them are randomly selected. Secondly, random forests perform bootstrap aggregating of data, which helps significantly lower the variance (overfitting) error, which is charasteric for decision trees.\n",
    "\n",
    "A majority vote is taken from all the base estimators outputs, which then constitutes the final vote."
   ]
  },
  {
   "cell_type": "markdown",
   "metadata": {},
   "source": [
    "### Simple Model"
   ]
  },
  {
   "cell_type": "code",
   "execution_count": 9,
   "metadata": {
    "colab": {},
    "colab_type": "code",
    "id": "nqUlQmfck6oj"
   },
   "outputs": [],
   "source": [
    "from sklearn.ensemble import RandomForestClassifier\n",
    "\n",
    "# Defining model and hyperparameters\n",
    "rforest = RandomForestClassifier(max_depth=50, n_jobs=-1, n_estimators=10)"
   ]
  },
  {
   "cell_type": "code",
   "execution_count": 14,
   "metadata": {
    "colab": {},
    "colab_type": "code",
    "id": "0Qnhogw8k6oj",
    "outputId": "8e917dc0-aa2a-4aed-c79b-db55503e2bfa"
   },
   "outputs": [
    {
     "name": "stdout",
     "output_type": "stream",
     "text": [
      "Time taken to run: 0.0 minutes\n"
     ]
    }
   ],
   "source": [
    "start_time = time.time()\n",
    "\n",
    "rforest.fit(X_train, y_train)\n",
    "\n",
    "print(f'Time taken to run: {round((time.time() - start_time)/60, 1)} minutes')"
   ]
  },
  {
   "cell_type": "code",
   "execution_count": 15,
   "metadata": {
    "colab": {},
    "colab_type": "code",
    "id": "0Qnhogw8k6oj",
    "outputId": "8e917dc0-aa2a-4aed-c79b-db55503e2bfa"
   },
   "outputs": [
    {
     "name": "stdout",
     "output_type": "stream",
     "text": [
      "Confusion matrix: \n",
      " [[11805  3164]\n",
      " [ 2559 16225]]\n",
      "\n",
      "\n",
      "Classification report: \n",
      "               precision    recall  f1-score   support\n",
      "\n",
      "           0       0.82      0.79      0.80     14969\n",
      "           1       0.84      0.86      0.85     18784\n",
      "\n",
      "    accuracy                           0.83     33753\n",
      "   macro avg       0.83      0.83      0.83     33753\n",
      "weighted avg       0.83      0.83      0.83     33753\n",
      "\n"
     ]
    }
   ],
   "source": [
    "y_pred = rforest.predict(X_test)\n",
    "print('Confusion matrix: \\n', confusion_matrix(y_test, y_pred))\n",
    "print('\\n\\nClassification report: \\n', classification_report(y_test, y_pred))"
   ]
  },
  {
   "cell_type": "markdown",
   "metadata": {},
   "source": [
    "### Optimizing hyperparameters with GridSearch"
   ]
  },
  {
   "cell_type": "code",
   "execution_count": 16,
   "metadata": {},
   "outputs": [],
   "source": [
    "params_rforest = {\n",
    "    'n_estimators': [100, 200, 300],\n",
    "    'max_depth': [10, 20, 50, 100, 150],\n",
    "    'min_samples_leaf': [1, 5, 10, 15],\n",
    "}"
   ]
  },
  {
   "cell_type": "code",
   "execution_count": null,
   "metadata": {},
   "outputs": [],
   "source": [
    "start_time = time.time()\n",
    "\n",
    "rforest_grid = RandomForestClassifier(n_jobs=-1)\n",
    "\n",
    "grid_rforest = GridSearchCV(\n",
    "    rforest_grid,\n",
    "    param_grid=params_rforest,\n",
    "    cv=5,\n",
    "    n_jobs=-1,\n",
    "    scoring='f1_weighted'\n",
    ")\n",
    "\n",
    "grid_rforest.fit(X_train, y_train)\n",
    "print(f'Time taken to run: {round((time.time() - start_time)/60, 1)} minutes')\n",
    "# 0.6m for len=3, cv=3; 5.1m for len=6, cv=3; 5.9m for len=6, cv=5; 2.8m for len=6, cv=3; XXX for len=9, cv=5;\n",
    "# XXX for len=12, cv=5;"
   ]
  },
  {
   "cell_type": "code",
   "execution_count": null,
   "metadata": {},
   "outputs": [],
   "source": [
    "for x in params_rforest.keys():\n",
    "    print(f'Best value for hyperparamer {x}: {grid_rforest.best_params_[x]}')"
   ]
  },
  {
   "cell_type": "markdown",
   "metadata": {},
   "source": [
    "### Calculate scores for best model"
   ]
  },
  {
   "cell_type": "code",
   "execution_count": 192,
   "metadata": {},
   "outputs": [
    {
     "data": {
      "text/plain": [
       "RandomForestClassifier(bootstrap=True, class_weight=None, criterion='gini',\n",
       "                       max_depth=20, max_features='auto', max_leaf_nodes=None,\n",
       "                       min_impurity_decrease=0.0, min_impurity_split=None,\n",
       "                       min_samples_leaf=1, min_samples_split=2,\n",
       "                       min_weight_fraction_leaf=0.0, n_estimators=200,\n",
       "                       n_jobs=None, oob_score=False, random_state=None,\n",
       "                       verbose=0, warm_start=False)"
      ]
     },
     "execution_count": 192,
     "metadata": {},
     "output_type": "execute_result"
    }
   ],
   "source": [
    "n_estimators = grid_rforest.best_params_['n_estimators']\n",
    "max_depth = grid_rforest.best_params_['max_depth']\n",
    "min_samples_leaf = grid_rforest.best_params_['min_samples_leaf']\n",
    "\n",
    "#best_params = dict(zip(params_rforest.keys(), grid_rforest.best_params_))\n",
    "rforest_best = RandomForestClassifier(**grid_rforest.best_params_)\n",
    "rforest_best.fit(X_train, y_train)"
   ]
  },
  {
   "cell_type": "code",
   "execution_count": 193,
   "metadata": {},
   "outputs": [
    {
     "name": "stdout",
     "output_type": "stream",
     "text": [
      "Confusion matrix: \n",
      " [[10805  4164]\n",
      " [ 1040 17744]]\n",
      "\n",
      "\n",
      "Classification report: \n",
      "               precision    recall  f1-score   support\n",
      "\n",
      "           0       0.91      0.72      0.81     14969\n",
      "           1       0.81      0.94      0.87     18784\n",
      "\n",
      "    accuracy                           0.85     33753\n",
      "   macro avg       0.86      0.83      0.84     33753\n",
      "weighted avg       0.86      0.85      0.84     33753\n",
      "\n"
     ]
    }
   ],
   "source": [
    "y_pred = rforest_best.predict(X_test)\n",
    "print('Confusion matrix: \\n', confusion_matrix(y_test, y_pred))\n",
    "print('\\n\\nClassification report: \\n', classification_report(y_test, y_pred))"
   ]
  },
  {
   "cell_type": "markdown",
   "metadata": {},
   "source": [
    "### Feature Importances"
   ]
  },
  {
   "cell_type": "code",
   "execution_count": 194,
   "metadata": {},
   "outputs": [
    {
     "data": {
      "image/png": "[encoded data removed]",
      "text/plain": [
       "<Figure size 576x360 with 1 Axes>"
      ]
     },
     "metadata": {
      "needs_background": "light"
     },
     "output_type": "display_data"
    }
   ],
   "source": [
    "# Plot out the top10 most important features\n",
    "plot_feature_importances(\n",
    "    rforest_best.feature_importances_,\n",
    "    X.columns,\n",
    "    'RandomForest_best',\n",
    "    sort=True,\n",
    "    top_count=10,\n",
    "    fname='feat_imp_rf-best'\n",
    ")"
   ]
  },
  {
   "cell_type": "markdown",
   "metadata": {},
   "source": [
    "1. 'base_pledge', \n",
    "2. 'goal',\n",
    "3. 'cat_position',\n",
    "4. 'launch_year'\n",
    "5. 'crea_id',\n",
    "6. 'blurb_wordcount',\n",
    "7. 'launch_hour',\n",
    "8. 'launch_day',\n",
    "9. 'launch_month',  \n",
    "10. 'dum_food'"
   ]
  },
  {
   "cell_type": "markdown",
   "metadata": {},
   "source": [
    "## Model 4: XGBoost"
   ]
  },
  {
   "cell_type": "markdown",
   "metadata": {},
   "source": [
    "XGBoost is an ensemble method from the class of boosting methods. Boosting methods generally work by combining multiple weak learners together and boosting their performance (hence the name), making the strong learners. Different base estimators / learners can be used, but here we will be using decision trees."
   ]
  },
  {
   "cell_type": "markdown",
   "metadata": {},
   "source": [
    "### Simple Model"
   ]
  },
  {
   "cell_type": "code",
   "execution_count": 130,
   "metadata": {},
   "outputs": [],
   "source": [
    "from xgboost import XGBClassifier\n",
    "\n",
    "xgb = XGBClassifier(\n",
    "    learning_rate=0.1,\n",
    "    max_depth=35,\n",
    "    verbose=2,\n",
    "    n_jobs=-1,\n",
    ")"
   ]
  },
  {
   "cell_type": "code",
   "execution_count": 132,
   "metadata": {},
   "outputs": [
    {
     "name": "stdout",
     "output_type": "stream",
     "text": [
      "Time taken to run: 3.2 minutes\n"
     ]
    }
   ],
   "source": [
    "start_time = time.time()\n",
    "\n",
    "xgb.fit(X_train, y_train)\n",
    "\n",
    "print(f'Time taken to run: {round((time.time() - start_time)/60, 1)} minutes')"
   ]
  },
  {
   "cell_type": "code",
   "execution_count": 152,
   "metadata": {},
   "outputs": [
    {
     "name": "stdout",
     "output_type": "stream",
     "text": [
      "Confusion matrix: \n",
      " [[12036  2933]\n",
      " [ 1952 16832]]\n",
      "\n",
      "\n",
      "Classification report: \n",
      "               precision    recall  f1-score   support\n",
      "\n",
      "           0       0.86      0.80      0.83     14969\n",
      "           1       0.85      0.90      0.87     18784\n",
      "\n",
      "    accuracy                           0.86     33753\n",
      "   macro avg       0.86      0.85      0.85     33753\n",
      "weighted avg       0.86      0.86      0.85     33753\n",
      "\n"
     ]
    }
   ],
   "source": [
    "y_pred = xgb.predict(X_test)\n",
    "print('Confusion matrix: \\n', confusion_matrix(y_test, y_pred))\n",
    "print('\\n\\nClassification report: \\n', classification_report(y_test, y_pred))"
   ]
  },
  {
   "cell_type": "markdown",
   "metadata": {},
   "source": [
    "### Optimizing hyperparameters with GridSearch"
   ]
  },
  {
   "cell_type": "code",
   "execution_count": 197,
   "metadata": {},
   "outputs": [],
   "source": [
    "params_xgboost = {\n",
    "    'learning_rate': [0.01, 0.1, 1, 10, 100],\n",
    "    'max_depth': [10, 40, 100],\n",
    "    'n_estimators': [50, 100, 200],\n",
    "}\n",
    "\n",
    "params_xgboost = {\n",
    "    'learning_rate': [0.01, 0.1, 0.5, 1, 10],\n",
    "    'max_depth': [10, 35, 75, 100, 200],\n",
    "    'n_estimators': [20, 50, 100, 200],\n",
    "}"
   ]
  },
  {
   "cell_type": "code",
   "execution_count": null,
   "metadata": {},
   "outputs": [],
   "source": [
    "start_time = time.time()\n",
    "\n",
    "xgboost_grid = XGBClassifier(\n",
    "    n_jobs=-1\n",
    ")\n",
    "\n",
    "grid_xgboost = GridSearchCV(\n",
    "    xgboost_grid,\n",
    "    param_grid=params_xgboost,\n",
    "    cv=5,\n",
    "    n_jobs=-1,\n",
    "    scoring='f1_weighted'\n",
    ")\n",
    "\n",
    "grid_xgboost.fit(X_train, y_train)\n",
    "\n",
    "print(f'Time taken to run: {round((time.time() - start_time)/60, 1)} minutes')\n",
    "# 60.2 m len=7, cv=5;"
   ]
  },
  {
   "cell_type": "code",
   "execution_count": null,
   "metadata": {},
   "outputs": [],
   "source": []
  },
  {
   "cell_type": "raw",
   "metadata": {},
   "source": [
    "for x in params_xgboost.keys():\n",
    "    print(f'Best value for hyperparamer {x}: {grid_xgboost.best_params_[x]}')"
   ]
  },
  {
   "cell_type": "code",
   "execution_count": null,
   "metadata": {},
   "outputs": [],
   "source": []
  },
  {
   "cell_type": "markdown",
   "metadata": {},
   "source": [
    "### Calculate scores for best model"
   ]
  },
  {
   "cell_type": "code",
   "execution_count": 146,
   "metadata": {},
   "outputs": [
    {
     "data": {
      "text/plain": [
       "{'learning_rate': 1, 'max_depth': 100, 'n_estimators': 200}"
      ]
     },
     "execution_count": 146,
     "metadata": {},
     "output_type": "execute_result"
    }
   ],
   "source": [
    "best_params = dict(zip(params_xgboost.keys(), grid_xgboost.best_params_))\n",
    "grid_xgboost.best_params_"
   ]
  },
  {
   "cell_type": "code",
   "execution_count": null,
   "metadata": {},
   "outputs": [],
   "source": [
    "# Use the params obtained from GridSearch to build the best model\n",
    "xgboost_best = XGBClassifier(**grid_xgboost.best_params_)\n",
    "xgboost_best.fit(X_train, y_train)"
   ]
  },
  {
   "cell_type": "code",
   "execution_count": 150,
   "metadata": {},
   "outputs": [
    {
     "name": "stdout",
     "output_type": "stream",
     "text": [
      "[[10796  4173]\n",
      " [ 1084 17700]]\n",
      "              precision    recall  f1-score   support\n",
      "\n",
      "           0       0.91      0.72      0.80     14969\n",
      "           1       0.81      0.94      0.87     18784\n",
      "\n",
      "    accuracy                           0.84     33753\n",
      "   macro avg       0.86      0.83      0.84     33753\n",
      "weighted avg       0.85      0.84      0.84     33753\n",
      "\n"
     ]
    }
   ],
   "source": [
    "y_pred = rforest_best.predict(X_test)\n",
    "print(confusion_matrix(y_test, y_pred))\n",
    "print(classification_report(y_test, y_pred))"
   ]
  },
  {
   "cell_type": "markdown",
   "metadata": {},
   "source": [
    "### Feature importances"
   ]
  },
  {
   "cell_type": "code",
   "execution_count": 122,
   "metadata": {},
   "outputs": [
    {
     "data": {
      "image/png": "[encoded data removed]",
      "text/plain": [
       "<Figure size 576x360 with 1 Axes>"
      ]
     },
     "metadata": {
      "needs_background": "light"
     },
     "output_type": "display_data"
    }
   ],
   "source": [
    "plot_feature_importances(\n",
    "    xgboost_best.feature_importances_,\n",
    "    X.columns \n",
    "    'XGBoost_best',\n",
    "    sort=True,\n",
    "    top_count=10,\n",
    "    fname='feat_imp_xgboost'\n",
    ")"
   ]
  },
  {
   "cell_type": "code",
   "execution_count": null,
   "metadata": {},
   "outputs": [],
   "source": [
    "'base_pledge', 'crea_id', 'goal', 'launch_day', 'launch_hour', 'cat_position', 'launch_month', 'blurb_wordcount', 'launch_year', 'fx_rate'"
   ]
  },
  {
   "cell_type": "code",
   "execution_count": null,
   "metadata": {},
   "outputs": [],
   "source": [
    "params_xgb2 = [ \n",
    "  {'n_estimators': [100, 200],\n",
    "   'subsample': [0.7, 0.9],\n",
    "   'min_child_weight': [100, 200]\n",
    "  }\n",
    "]\n",
    "\n",
    "grid_xgb2 = GridSearchCV(estimator=xgb2, param_grid=params_xgb2, cv=5)\n",
    "\n",
    "grid_xgb2.fit(X_train, y_train)\n",
    "\n",
    "xgb_end2 = time.time()\n",
    "\n",
    "xgb_best_score2 = grid_xgb2.best_score_\n",
    "xgb_best_params2 = grid_xgb2.best_params_\n",
    "\n",
    "print(f\"Time taken to run: {round((xgb_end2 - xgb_start2)/60,1)} minutes\")\n",
    "print(\"Best accuracy:\", round(xgb_best_score2,2))\n",
    "print(\"Best parameters:\", xgb_best_params2)"
   ]
  },
  {
   "cell_type": "code",
   "execution_count": null,
   "metadata": {
    "colab": {},
    "colab_type": "code",
    "id": "2t-kcvoVk6ol"
   },
   "outputs": [],
   "source": [
    "from sklearn.model_selection import cross_val_score, RandomizedSearchCV"
   ]
  },
  {
   "cell_type": "code",
   "execution_count": null,
   "metadata": {
    "colab": {},
    "colab_type": "code",
    "id": "qZLPai1jk6om",
    "outputId": "1c9f9dfd-197e-4c47-b00c-baf52cd09e38"
   },
   "outputs": [
    {
     "data": {
      "text/plain": [
       "array([0.73162504, 0.73345169, 0.73496079, 0.73596686, 0.74415577])"
      ]
     },
     "execution_count": 413,
     "metadata": {
      "tags": []
     },
     "output_type": "execute_result"
    }
   ],
   "source": [
    "cross_val_score(rforest,X,y, cv = 5)"
   ]
  },
  {
   "cell_type": "code",
   "execution_count": null,
   "metadata": {
    "colab": {},
    "colab_type": "code",
    "id": "ZL5qjcXZk6om",
    "outputId": "a123cbab-0c1c-415d-ad11-d6c9c961b634"
   },
   "outputs": [
    {
     "data": {
      "text/plain": [
       "array([0.77319801, 0.78209794, 0.78227548, 0.79047196, 0.78655974])"
      ]
     },
     "execution_count": 261,
     "metadata": {
      "tags": []
     },
     "output_type": "execute_result"
    }
   ],
   "source": [
    "cross_val_score(treec,X,y, cv = 5)"
   ]
  },
  {
   "cell_type": "code",
   "execution_count": null,
   "metadata": {
    "colab": {},
    "colab_type": "code",
    "id": "4ff7DEZtk6on"
   },
   "outputs": [],
   "source": [
    "parameters = {'max_depth': list(range(31))}\n",
    "\n",
    "randCV = RandomizedSearchCV(treec, parameters)"
   ]
  },
  {
   "cell_type": "code",
   "execution_count": null,
   "metadata": {
    "colab": {},
    "colab_type": "code",
    "id": "jAG6yO6yk6oo",
    "outputId": "121fabcf-85b4-4cd7-b2f7-e71252d300a7"
   },
   "outputs": [
    {
     "name": "stderr",
     "output_type": "stream",
     "text": [
      "/Users/peterniksa/anaconda3/lib/python3.7/site-packages/sklearn/model_selection/_split.py:1978: FutureWarning: The default value of cv will change from 3 to 5 in version 0.22. Specify it explicitly to silence this warning.\n",
      "  warnings.warn(CV_WARNING, FutureWarning)\n"
     ]
    },
    {
     "name": "stdout",
     "output_type": "stream",
     "text": [
      "[[13194  1566]\n",
      " [ 5863 13172]]\n",
      "              precision    recall  f1-score   support\n",
      "\n",
      "           0       0.69      0.89      0.78     14760\n",
      "           1       0.89      0.69      0.78     19035\n",
      "\n",
      "    accuracy                           0.78     33795\n",
      "   macro avg       0.79      0.79      0.78     33795\n",
      "weighted avg       0.81      0.78      0.78     33795\n",
      "\n"
     ]
    }
   ],
   "source": [
    "randCV.fit(X_train, y_train)\n",
    "y_pred = randCV.predict(X_test)\n",
    "print(confusion_matrix(y_test,y_pred))\n",
    "print(classification_report(y_test,y_pred))"
   ]
  },
  {
   "cell_type": "markdown",
   "metadata": {},
   "source": [
    "## Evaluation of models\n",
    "\n",
    "Logistic Regression and DecisionTree are ignored\n",
    "Both models achieved only very mediocre results, with the weighted f1-scores ranging from 0.52 to 0.72. KFold cross validation even made things worse\n",
    "\n",
    "RandomForest without parameter tuning:\n",
    "weighted f1-score: 0.83\n",
    "calcuation time: 0:20 minutes\n",
    "\n",
    "  precision    recall  f1-score   support\n",
    "\n",
    "           0       0.82      0.79      0.80     14969\n",
    "           1       0.84      0.86      0.85     18784\n",
    "\n",
    "    accuracy                           0.83     33753\n",
    "   macro avg       0.83      0.83      0.83     33753\n",
    "weighted avg       0.83      0.83      0.83     33753\n",
    "\n",
    "RandomForest with parameter tuning:\n",
    "weighted f1-score: 0.84\n",
    "calcuation time: 5:30 minutes\n",
    "\n",
    "  precision    recall  f1-score   support\n",
    "\n",
    "           0       0.91      0.72      0.80     14969\n",
    "           1       0.81      0.94      0.87     18784\n",
    "\n",
    "    accuracy                           0.84     33753\n",
    "   macro avg       0.86      0.83      0.84     33753\n",
    "weighted avg       0.85      0.84      0.84     33753\n",
    "\n",
    " \n",
    "\n",
    "\n",
    "\n",
    "XGBoost without parameter optimization:\n",
    "wighted f1-score: 0.85\n",
    "calculation time: 5:12 minutes\n",
    "\n",
    "          precision    recall  f1-score   support\n",
    "\n",
    "           0       0.86      0.80      0.83     14969\n",
    "           1       0.85      0.90      0.87     18784\n",
    "\n",
    "    accuracy                           0.86     33753\n",
    "   macro avg       0.86      0.85      0.85     33753\n",
    "weighted avg       0.86      0.86      0.85     33753\n",
    "\n",
    "  "
   ]
  },
  {
   "cell_type": "markdown",
   "metadata": {},
   "source": [
    "## Final model\n",
    "GridSearch optimized Random forest\n",
    "with the following hyperparamters\n",
    "\n",
    "n_estimators: 200\n",
    "max_depth: 20\n",
    "min_samples_leaf: 1\n",
    "\n",
    "average f1 score: 0.84"
   ]
  },
  {
   "cell_type": "code",
   "execution_count": 10,
   "metadata": {},
   "outputs": [
    {
     "data": {
      "text/plain": [
       "RandomForestClassifier(bootstrap=True, class_weight=None, criterion='gini',\n",
       "                       max_depth=20, max_features='auto', max_leaf_nodes=None,\n",
       "                       min_impurity_decrease=0.0, min_impurity_split=None,\n",
       "                       min_samples_leaf=1, min_samples_split=2,\n",
       "                       min_weight_fraction_leaf=0.0, n_estimators=200,\n",
       "                       n_jobs=None, oob_score=False, random_state=None,\n",
       "                       verbose=0, warm_start=False)"
      ]
     },
     "execution_count": 10,
     "metadata": {},
     "output_type": "execute_result"
    }
   ],
   "source": [
    "n_estimators = 200\n",
    "max_depth = 20\n",
    "min_samples_leaf = 1\n",
    "\n",
    "#best_params = dict(zip(params_rforest.keys(), grid_rforest.best_params_))\n",
    "rforest_best = RandomForestClassifier(n_estimators=n_estimators, max_depth=max_depth, min_samples_leaf=min_samples_leaf)\n",
    "rforest_best.fit(X_train, y_train)"
   ]
  },
  {
   "cell_type": "code",
   "execution_count": 23,
   "metadata": {},
   "outputs": [
    {
     "name": "stdout",
     "output_type": "stream",
     "text": [
      "If true value is fail, what proportion does model predict as faill: 0.7206\n",
      "If true value is success, what proportion does model predict as success: 0.9421\n"
     ]
    }
   ],
   "source": [
    "y_pred = rforest_best.predict(X_test)\n",
    "f_cf = confusion_matrix(y_test, y_pred)\n",
    "print(f_cf)\n",
    "print()\n",
    "round(f_cf[0][0]/sum(f_cf[0]),4)\n",
    "print(f'If true value is fail, what proportion does model predict as faill: {round(f_cf[0][0]/sum(f_cf[0]),4)}')\n",
    "\n",
    "print(f'If true value is success, what proportion does model predict as success: {round(f_cf[1][1]/sum(f_cf[1]),4)}')"
   ]
  },
  {
   "cell_type": "code",
   "execution_count": 21,
   "metadata": {},
   "outputs": [
    {
     "data": {
      "text/plain": [
       "0.7206226200815018"
      ]
     },
     "execution_count": 21,
     "metadata": {},
     "output_type": "execute_result"
    }
   ],
   "source": [
    "f_cf[0][0]/sum(f_cf[0])"
   ]
  },
  {
   "cell_type": "markdown",
   "metadata": {
    "colab": {},
    "colab_type": "code",
    "id": "9OAY59O6k6ov"
   },
   "source": [
    "# Recomendations"
   ]
  },
  {
   "cell_type": "code",
   "execution_count": null,
   "metadata": {},
   "outputs": [],
   "source": [
    "Set “realistic” funding goals. Don’t overdo\n",
    "\n",
    "Women are more successful, go female entrepreneurs!\n",
    "\n",
    "Dance... or write a comic!\n",
    "\n",
    "\n",
    "To be completed!"
   ]
  },
  {
   "cell_type": "markdown",
   "metadata": {},
   "source": [
    "# Future Work\n",
    "\n",
    "* Regression model for total pledged amount for a Kickstarter project\n",
    "\n",
    "* Further data exploration, in particular picture analysis and impact\n",
    "\n",
    "* Inclusion of Backer-Level data\n",
    "\n",
    "* Temporal evolution of category success rate / count and gender participation\n",
    "\n",
    "* Backer-count analysis\n"
   ]
  },
  {
   "cell_type": "code",
   "execution_count": null,
   "metadata": {},
   "outputs": [],
   "source": []
  }
 ],
 "metadata": {
  "colab": {
   "collapsed_sections": [
    "egrkVRGexjmM",
    "y36tYPZhxjmY",
    "daEy0XmQxjm8",
    "uGbtVaw8xjnF",
    "FFBOYzV8xjnR",
    "YszSj6Ohxjnb",
    "aMdOgZuNxjnl",
    "fntKfglCxjn0",
    "tTAD9wS_xjn3",
    "d3Wr7OGKxjn-",
    "rwWHuSOIxjoA",
    "G8avRU07xjoE",
    "Bedwyn5YxjoL"
   ],
   "include_colab_link": true,
   "name": "Kickstarter_Project_Success_2.ipynb",
   "provenance": [],
   "toc_visible": true
  },
  "kernelspec": {
   "display_name": "Python [conda env:nf] *",
   "language": "python",
   "name": "conda-env-nf-py"
  },
  "language_info": {
   "codemirror_mode": {
    "name": "ipython",
    "version": 3
   },
   "file_extension": ".py",
   "mimetype": "text/x-python",
   "name": "python",
   "nbconvert_exporter": "python",
   "pygments_lexer": "ipython3",
   "version": "3.6.6"
  },
  "toc-autonumbering": true
 },
 "nbformat": 4,
 "nbformat_minor": 4
}
