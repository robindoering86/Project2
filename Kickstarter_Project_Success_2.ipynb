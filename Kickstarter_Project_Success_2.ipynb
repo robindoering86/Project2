{
 "cells": [
  {
   "cell_type": "markdown",
   "metadata": {},
   "source": [
    "3. Kickstarter Project Success - Robin & Peter, Manuel & Simon\n",
    "\n",
    "\n",
    "In recent years, the range of funding options for projects created by individuals and small companies has expanded considerably. In addition to savings, bank loans, friends & family funding and other traditional options, crowdfunding has become a popular and readily available alternative. \n",
    "\n",
    "Kickstarter, founded in 2009, is one particularly well-known and popular crowdfunding platform. It has an all-or-nothing funding model, whereby a project is only funded if it meets its goal amount; otherwise no money is given by backers to a project.\n",
    "A huge variety of factors contribute to the success or failure of a project — in general, and also on Kickstarter. Some of these are able to be quantified or categorized, which allows for the construction of a model to attempt to predict whether a project will succeed or not. The aim of this project is to construct such a model and also to analyse Kickstarter project data more generally, in order to help potential project creators assess whether or not Kickstarter is a good funding option for them, and what their chances of success are.\n"
   ]
  },
  {
   "cell_type": "markdown",
   "metadata": {},
   "source": [
    "# Project 2: Kickstarter Project Success"
   ]
  },
  {
   "cell_type": "markdown",
   "metadata": {},
   "source": [
    "## Import libraries"
   ]
  },
  {
   "cell_type": "code",
   "execution_count": 3,
   "metadata": {},
   "outputs": [],
   "source": [
    "# Pandas as NumPy\n",
    "import pandas as pd\n",
    "import numpy as np\n",
    "\n",
    "# Scikit-Learn\n",
    "from sklearn.tree import DecisionTreeClassifier\n",
    "from sklearn.model_selection import train_test_split\n",
    "from sklearn.metrics import accuracy_score, precision_score, roc_curve, confusion_matrix \n",
    "\n",
    "# Pyplot\n",
    "import matplotlib.pyplot as plt\n",
    "import seaborn as sns\n",
    "\n",
    "\n",
    "from sklearn.model_selection import train_test_split\n",
    "\n",
    "\n",
    "# Others\n",
    "from os import listdir\n",
    "import time\n"
   ]
  },
  {
   "cell_type": "markdown",
   "metadata": {},
   "source": [
    "## Read in the data"
   ]
  },
  {
   "cell_type": "code",
   "execution_count": 4,
   "metadata": {},
   "outputs": [],
   "source": [
    "base_path = './data/'\n",
    "\n",
    "data = pd.concat([pd.read_csv(base_path+x) for x in sorted(listdir(base_path))], axis=0)\n",
    "data_cp = data.copy()"
   ]
  },
  {
   "cell_type": "code",
   "execution_count": 5,
   "metadata": {},
   "outputs": [],
   "source": [
    "# Create df for the second half of colu,ns\n",
    "data_sh = data.iloc[:, 17:]"
   ]
  },
  {
   "cell_type": "code",
   "execution_count": 6,
   "metadata": {},
   "outputs": [
    {
     "data": {
      "text/plain": [
       "(209222, 37)"
      ]
     },
     "execution_count": 6,
     "metadata": {},
     "output_type": "execute_result"
    }
   ],
   "source": [
    "data.shape"
   ]
  },
  {
   "cell_type": "code",
   "execution_count": 7,
   "metadata": {},
   "outputs": [
    {
     "data": {
      "text/plain": [
       "backers_count                    0\n",
       "blurb                            8\n",
       "category                         0\n",
       "converted_pledged_amount         0\n",
       "country                          0\n",
       "created_at                       0\n",
       "creator                          0\n",
       "currency                         0\n",
       "currency_symbol                  0\n",
       "currency_trailing_code           0\n",
       "current_currency                 0\n",
       "deadline                         0\n",
       "disable_communication            0\n",
       "friends                     208922\n",
       "fx_rate                          0\n",
       "goal                             0\n",
       "id                               0\n",
       "is_backing                  208922\n",
       "is_starrable                     0\n",
       "is_starred                  208922\n",
       "launched_at                      0\n",
       "location                       226\n",
       "name                             0\n",
       "permissions                 208922\n",
       "photo                            0\n",
       "pledged                          0\n",
       "profile                          0\n",
       "slug                             0\n",
       "source_url                       0\n",
       "spotlight                        0\n",
       "staff_pick                       0\n",
       "state                            0\n",
       "state_changed_at                 0\n",
       "static_usd_rate                  0\n",
       "urls                             0\n",
       "usd_pledged                      0\n",
       "usd_type                       480\n",
       "dtype: int64"
      ]
     },
     "execution_count": 7,
     "metadata": {},
     "output_type": "execute_result"
    }
   ],
   "source": [
    "data.isna().sum()"
   ]
  },
  {
   "cell_type": "code",
   "execution_count": 8,
   "metadata": {},
   "outputs": [
    {
     "data": {
      "text/plain": [
       "Index(['backers_count', 'blurb', 'category', 'converted_pledged_amount',\n",
       "       'country', 'created_at', 'creator', 'currency', 'currency_symbol',\n",
       "       'currency_trailing_code', 'current_currency', 'deadline',\n",
       "       'disable_communication', 'friends', 'fx_rate', 'goal', 'id',\n",
       "       'is_backing', 'is_starrable', 'is_starred', 'launched_at', 'location',\n",
       "       'name', 'permissions', 'photo', 'pledged', 'profile', 'slug',\n",
       "       'source_url', 'spotlight', 'staff_pick', 'state', 'state_changed_at',\n",
       "       'static_usd_rate', 'urls', 'usd_pledged', 'usd_type'],\n",
       "      dtype='object')"
      ]
     },
     "execution_count": 8,
     "metadata": {},
     "output_type": "execute_result"
    }
   ],
   "source": [
    "data.columns"
   ]
  },
  {
   "cell_type": "code",
   "execution_count": 9,
   "metadata": {},
   "outputs": [
    {
     "data": {
      "text/html": [
       "<div>\n",
       "<style scoped>\n",
       "    .dataframe tbody tr th:only-of-type {\n",
       "        vertical-align: middle;\n",
       "    }\n",
       "\n",
       "    .dataframe tbody tr th {\n",
       "        vertical-align: top;\n",
       "    }\n",
       "\n",
       "    .dataframe thead th {\n",
       "        text-align: right;\n",
       "    }\n",
       "</style>\n",
       "<table border=\"1\" class=\"dataframe\">\n",
       "  <thead>\n",
       "    <tr style=\"text-align: right;\">\n",
       "      <th></th>\n",
       "      <th>launched_at</th>\n",
       "      <th>pledged</th>\n",
       "      <th>state_changed_at</th>\n",
       "      <th>static_usd_rate</th>\n",
       "      <th>usd_pledged</th>\n",
       "    </tr>\n",
       "  </thead>\n",
       "  <tbody>\n",
       "    <tr>\n",
       "      <th>count</th>\n",
       "      <td>2.092220e+05</td>\n",
       "      <td>2.092220e+05</td>\n",
       "      <td>2.092220e+05</td>\n",
       "      <td>209222.000000</td>\n",
       "      <td>2.092220e+05</td>\n",
       "    </tr>\n",
       "    <tr>\n",
       "      <th>mean</th>\n",
       "      <td>1.460206e+09</td>\n",
       "      <td>1.881403e+04</td>\n",
       "      <td>1.462838e+09</td>\n",
       "      <td>1.010757</td>\n",
       "      <td>1.289213e+04</td>\n",
       "    </tr>\n",
       "    <tr>\n",
       "      <th>std</th>\n",
       "      <td>6.309029e+07</td>\n",
       "      <td>3.229596e+05</td>\n",
       "      <td>6.290421e+07</td>\n",
       "      <td>0.231893</td>\n",
       "      <td>8.890124e+04</td>\n",
       "    </tr>\n",
       "    <tr>\n",
       "      <th>min</th>\n",
       "      <td>1.240603e+09</td>\n",
       "      <td>0.000000e+00</td>\n",
       "      <td>1.241334e+09</td>\n",
       "      <td>0.008771</td>\n",
       "      <td>0.000000e+00</td>\n",
       "    </tr>\n",
       "    <tr>\n",
       "      <th>25%</th>\n",
       "      <td>1.417639e+09</td>\n",
       "      <td>1.100000e+02</td>\n",
       "      <td>1.420485e+09</td>\n",
       "      <td>1.000000</td>\n",
       "      <td>1.060014e+02</td>\n",
       "    </tr>\n",
       "    <tr>\n",
       "      <th>50%</th>\n",
       "      <td>1.461924e+09</td>\n",
       "      <td>1.556000e+03</td>\n",
       "      <td>1.464709e+09</td>\n",
       "      <td>1.000000</td>\n",
       "      <td>1.537358e+03</td>\n",
       "    </tr>\n",
       "    <tr>\n",
       "      <th>75%</th>\n",
       "      <td>1.516694e+09</td>\n",
       "      <td>6.887200e+03</td>\n",
       "      <td>1.519366e+09</td>\n",
       "      <td>1.000000</td>\n",
       "      <td>6.550000e+03</td>\n",
       "    </tr>\n",
       "    <tr>\n",
       "      <th>max</th>\n",
       "      <td>1.552537e+09</td>\n",
       "      <td>8.103074e+07</td>\n",
       "      <td>1.552537e+09</td>\n",
       "      <td>1.716408</td>\n",
       "      <td>8.596475e+06</td>\n",
       "    </tr>\n",
       "  </tbody>\n",
       "</table>\n",
       "</div>"
      ],
      "text/plain": [
       "        launched_at       pledged  state_changed_at  static_usd_rate  \\\n",
       "count  2.092220e+05  2.092220e+05      2.092220e+05    209222.000000   \n",
       "mean   1.460206e+09  1.881403e+04      1.462838e+09         1.010757   \n",
       "std    6.309029e+07  3.229596e+05      6.290421e+07         0.231893   \n",
       "min    1.240603e+09  0.000000e+00      1.241334e+09         0.008771   \n",
       "25%    1.417639e+09  1.100000e+02      1.420485e+09         1.000000   \n",
       "50%    1.461924e+09  1.556000e+03      1.464709e+09         1.000000   \n",
       "75%    1.516694e+09  6.887200e+03      1.519366e+09         1.000000   \n",
       "max    1.552537e+09  8.103074e+07      1.552537e+09         1.716408   \n",
       "\n",
       "        usd_pledged  \n",
       "count  2.092220e+05  \n",
       "mean   1.289213e+04  \n",
       "std    8.890124e+04  \n",
       "min    0.000000e+00  \n",
       "25%    1.060014e+02  \n",
       "50%    1.537358e+03  \n",
       "75%    6.550000e+03  \n",
       "max    8.596475e+06  "
      ]
     },
     "execution_count": 9,
     "metadata": {},
     "output_type": "execute_result"
    }
   ],
   "source": [
    "data_sh.describe()"
   ]
  },
  {
   "cell_type": "markdown",
   "metadata": {},
   "source": [
    "Description of columns would be helpful!"
   ]
  },
  {
   "cell_type": "code",
   "execution_count": 10,
   "metadata": {},
   "outputs": [
    {
     "name": "stdout",
     "output_type": "stream",
     "text": [
      "<class 'pandas.core.frame.DataFrame'>\n",
      "Int64Index: 209222 entries, 0 to 964\n",
      "Data columns (total 20 columns):\n",
      "is_backing          300 non-null object\n",
      "is_starrable        209222 non-null bool\n",
      "is_starred          300 non-null object\n",
      "launched_at         209222 non-null int64\n",
      "location            208996 non-null object\n",
      "name                209222 non-null object\n",
      "permissions         300 non-null object\n",
      "photo               209222 non-null object\n",
      "pledged             209222 non-null float64\n",
      "profile             209222 non-null object\n",
      "slug                209222 non-null object\n",
      "source_url          209222 non-null object\n",
      "spotlight           209222 non-null bool\n",
      "staff_pick          209222 non-null bool\n",
      "state               209222 non-null object\n",
      "state_changed_at    209222 non-null int64\n",
      "static_usd_rate     209222 non-null float64\n",
      "urls                209222 non-null object\n",
      "usd_pledged         209222 non-null float64\n",
      "usd_type            208742 non-null object\n",
      "dtypes: bool(3), float64(3), int64(2), object(12)\n",
      "memory usage: 29.3+ MB\n"
     ]
    }
   ],
   "source": [
    "data_sh.info()"
   ]
  },
  {
   "cell_type": "code",
   "execution_count": 11,
   "metadata": {},
   "outputs": [],
   "source": [
    "# significant amout of missing data in these columns, ignore for now\n",
    "# Define a list columns to drop\n",
    "droplist = []\n",
    "droplist = droplist+['is_backing', 'is_starred', 'permissions']"
   ]
  },
  {
   "cell_type": "markdown",
   "metadata": {},
   "source": [
    "### The predicted variable: 'state'"
   ]
  },
  {
   "cell_type": "code",
   "execution_count": 12,
   "metadata": {},
   "outputs": [
    {
     "data": {
      "text/plain": [
       "count         209222\n",
       "unique             5\n",
       "top       successful\n",
       "freq          117465\n",
       "Name: state, dtype: object"
      ]
     },
     "execution_count": 12,
     "metadata": {},
     "output_type": "execute_result"
    }
   ],
   "source": [
    "data_sh['state'].describe()"
   ]
  },
  {
   "cell_type": "code",
   "execution_count": 13,
   "metadata": {},
   "outputs": [
    {
     "data": {
      "text/plain": [
       "successful    117465\n",
       "failed         75199\n",
       "canceled        8624\n",
       "live            7311\n",
       "suspended        623\n",
       "Name: state, dtype: int64"
      ]
     },
     "execution_count": 13,
     "metadata": {},
     "output_type": "execute_result"
    }
   ],
   "source": [
    "data_sh['state'].value_counts()"
   ]
  },
  {
   "cell_type": "code",
   "execution_count": 14,
   "metadata": {},
   "outputs": [
    {
     "data": {
      "text/plain": [
       "0.07914081693129786"
      ]
     },
     "execution_count": 14,
     "metadata": {},
     "output_type": "execute_result"
    }
   ],
   "source": [
    "# Calculate percentage of 'state' value that are not either 'successful' or 'failed'\n",
    "abs(len(data_sh[(data_sh['state'] == 'successful') | (data_sh['state'] == 'failed')]) - len(data_sh)) / len(data_sh)"
   ]
  },
  {
   "cell_type": "markdown",
   "metadata": {},
   "source": [
    "'state' has 5 different values: 'successful', 'failed', 'canceled', 'live', and 'suspended'. If we want binary target class to be binary, we would loose approx 8% of the dataset."
   ]
  },
  {
   "cell_type": "code",
   "execution_count": 15,
   "metadata": {},
   "outputs": [
    {
     "name": "stdout",
     "output_type": "stream",
     "text": [
      "<class 'pandas.core.frame.DataFrame'>\n",
      "Int64Index: 192664 entries, 0 to 964\n",
      "Data columns (total 20 columns):\n",
      "is_backing          0 non-null object\n",
      "is_starrable        192664 non-null bool\n",
      "is_starred          0 non-null object\n",
      "launched_at         192664 non-null int64\n",
      "location            192449 non-null object\n",
      "name                192664 non-null object\n",
      "permissions         0 non-null object\n",
      "photo               192664 non-null object\n",
      "pledged             192664 non-null float64\n",
      "profile             192664 non-null object\n",
      "slug                192664 non-null object\n",
      "source_url          192664 non-null object\n",
      "spotlight           192664 non-null bool\n",
      "staff_pick          192664 non-null bool\n",
      "state               192664 non-null object\n",
      "state_changed_at    192664 non-null int64\n",
      "static_usd_rate     192664 non-null float64\n",
      "urls                192664 non-null object\n",
      "usd_pledged         192664 non-null float64\n",
      "usd_type            192626 non-null object\n",
      "dtypes: bool(3), float64(3), int64(2), object(12)\n",
      "memory usage: 27.0+ MB\n"
     ]
    }
   ],
   "source": [
    "data_sh[(data_sh['state'] == 'successful') | (data_sh['state'] == 'failed')].info()"
   ]
  },
  {
   "cell_type": "code",
   "execution_count": 16,
   "metadata": {},
   "outputs": [],
   "source": [
    "# New dataframe which contains only entries which have the state 'successful' or 'failed'\n",
    "filtered_df = data_sh[(data_sh['state'] == 'successful') | (data_sh['state'] == 'failed')].copy()\n",
    "filtered_df.reset_index(inplace=True)"
   ]
  },
  {
   "cell_type": "code",
   "execution_count": 17,
   "metadata": {},
   "outputs": [
    {
     "data": {
      "text/plain": [
       "Index(['index', 'is_backing', 'is_starrable', 'is_starred', 'launched_at',\n",
       "       'location', 'name', 'permissions', 'photo', 'pledged', 'profile',\n",
       "       'slug', 'source_url', 'spotlight', 'staff_pick', 'state',\n",
       "       'state_changed_at', 'static_usd_rate', 'urls', 'usd_pledged',\n",
       "       'usd_type'],\n",
       "      dtype='object')"
      ]
     },
     "execution_count": 17,
     "metadata": {},
     "output_type": "execute_result"
    }
   ],
   "source": [
    "filtered_df.columns"
   ]
  },
  {
   "cell_type": "markdown",
   "metadata": {},
   "source": [
    "### The 'is_starrable' column\n",
    "is_starrable - whether or not a project can be starred (liked and saved) by users"
   ]
  },
  {
   "cell_type": "code",
   "execution_count": 18,
   "metadata": {},
   "outputs": [],
   "source": [
    "col = 'is_starrable'"
   ]
  },
  {
   "cell_type": "code",
   "execution_count": 19,
   "metadata": {},
   "outputs": [
    {
     "data": {
      "text/plain": [
       "0    False\n",
       "1    False\n",
       "2    False\n",
       "3    False\n",
       "4    False\n",
       "Name: is_starrable, dtype: bool"
      ]
     },
     "execution_count": 19,
     "metadata": {},
     "output_type": "execute_result"
    }
   ],
   "source": [
    "filtered_df[col].head()"
   ]
  },
  {
   "cell_type": "code",
   "execution_count": 20,
   "metadata": {},
   "outputs": [
    {
     "data": {
      "text/plain": [
       "False    192664\n",
       "Name: is_starrable, dtype: int64"
      ]
     },
     "execution_count": 20,
     "metadata": {},
     "output_type": "execute_result"
    }
   ],
   "source": [
    "filtered_df[col].value_counts()"
   ]
  },
  {
   "cell_type": "code",
   "execution_count": 472,
   "metadata": {},
   "outputs": [],
   "source": [
    "filtered_df[col] = filtered_df[col].astype(bool)"
   ]
  },
  {
   "cell_type": "code",
   "execution_count": 473,
   "metadata": {},
   "outputs": [
    {
     "data": {
      "text/plain": [
       "count     192664\n",
       "unique         1\n",
       "top        False\n",
       "freq      192664\n",
       "Name: is_starrable, dtype: object"
      ]
     },
     "execution_count": 473,
     "metadata": {},
     "output_type": "execute_result"
    }
   ],
   "source": [
    "filtered_df[col].describe()"
   ]
  },
  {
   "cell_type": "code",
   "execution_count": 474,
   "metadata": {},
   "outputs": [
    {
     "data": {
      "text/plain": [
       "False    192664\n",
       "Name: is_starrable, dtype: int64"
      ]
     },
     "execution_count": 474,
     "metadata": {},
     "output_type": "execute_result"
    }
   ],
   "source": [
    "filtered_df[col].value_counts()"
   ]
  },
  {
   "cell_type": "code",
   "execution_count": 475,
   "metadata": {},
   "outputs": [
    {
     "data": {
      "text/plain": [
       "0"
      ]
     },
     "execution_count": 475,
     "metadata": {},
     "output_type": "execute_result"
    }
   ],
   "source": [
    "# Any missing values?\n",
    "filtered_df[col].isnull().sum()"
   ]
  },
  {
   "cell_type": "code",
   "execution_count": null,
   "metadata": {},
   "outputs": [],
   "source": [
    "droplist.append(col)"
   ]
  },
  {
   "cell_type": "markdown",
   "metadata": {},
   "source": [
    "### The 'launched_at' column\n",
    "\n",
    "launched_at - date and time of when the project was launched for funding"
   ]
  },
  {
   "cell_type": "code",
   "execution_count": 476,
   "metadata": {},
   "outputs": [
    {
     "data": {
      "text/plain": [
       "0    1388011046\n",
       "1    1550073611\n",
       "2    1478012330\n",
       "3    1540684582\n",
       "4    1425919017\n",
       "Name: launched_at, dtype: int64"
      ]
     },
     "execution_count": 476,
     "metadata": {},
     "output_type": "execute_result"
    }
   ],
   "source": [
    "col = 'launched_at'\n",
    "filtered_df[col].head()"
   ]
  },
  {
   "cell_type": "code",
   "execution_count": 477,
   "metadata": {},
   "outputs": [],
   "source": [
    "# Make human-readable dates out of timestamp\n",
    "filtered_df[col] = pd.to_datetime(filtered_df[col], unit='s')"
   ]
  },
  {
   "cell_type": "code",
   "execution_count": 478,
   "metadata": {},
   "outputs": [
    {
     "data": {
      "text/plain": [
       "dtype('O')"
      ]
     },
     "execution_count": 478,
     "metadata": {},
     "output_type": "execute_result"
    }
   ],
   "source": [
    "#data_sh['launched_at'].iloc[0].dayofweek\n",
    "\n",
    "filtered_df['launch_weekday'] = [x.day_name() for x in filtered_df['launched_at']]\n",
    "filtered_df['launch_weekday'] = filtered_df['launch_weekday'].astype(str)\n",
    "filtered_df['launch_weekday'].dtype"
   ]
  },
  {
   "cell_type": "code",
   "execution_count": 479,
   "metadata": {},
   "outputs": [
    {
     "data": {
      "text/plain": [
       "dtype('int64')"
      ]
     },
     "execution_count": 479,
     "metadata": {},
     "output_type": "execute_result"
    }
   ],
   "source": [
    "filtered_df['launch_year'] = [x.year for x in filtered_df['launched_at']]\n",
    "filtered_df['launch_year'] = filtered_df['launch_year'].astype(int)\n",
    "filtered_df['launch_year'].dtype"
   ]
  },
  {
   "cell_type": "code",
   "execution_count": 480,
   "metadata": {},
   "outputs": [
    {
     "data": {
      "text/plain": [
       "dtype('int64')"
      ]
     },
     "execution_count": 480,
     "metadata": {},
     "output_type": "execute_result"
    }
   ],
   "source": [
    "filtered_df['launch_month'] = [x.month for x in filtered_df['launched_at']]\n",
    "filtered_df['launch_month'] = filtered_df['launch_month'].astype(int)\n",
    "filtered_df['launch_month'].dtype"
   ]
  },
  {
   "cell_type": "code",
   "execution_count": 481,
   "metadata": {},
   "outputs": [
    {
     "data": {
      "text/plain": [
       "dtype('int64')"
      ]
     },
     "execution_count": 481,
     "metadata": {},
     "output_type": "execute_result"
    }
   ],
   "source": [
    "filtered_df['launch_day'] = [x.day for x in filtered_df['launched_at']]\n",
    "filtered_df['launch_day'] = filtered_df['launch_day'].astype(int)\n",
    "filtered_df['launch_day'].dtype"
   ]
  },
  {
   "cell_type": "code",
   "execution_count": 482,
   "metadata": {},
   "outputs": [
    {
     "data": {
      "text/plain": [
       "dtype('int64')"
      ]
     },
     "execution_count": 482,
     "metadata": {},
     "output_type": "execute_result"
    }
   ],
   "source": [
    "# Create a new column for launch hour\n",
    "filtered_df['launch_hour'] = [x.hour for x in filtered_df['launched_at']]\n",
    "filtered_df['launch_hour'] = filtered_df['launch_hour'].astype(int)\n",
    "filtered_df['launch_hour'].dtype"
   ]
  },
  {
   "cell_type": "code",
   "execution_count": 394,
   "metadata": {},
   "outputs": [],
   "source": [
    "# TODO: Create bins for launch time"
   ]
  },
  {
   "cell_type": "code",
   "execution_count": 395,
   "metadata": {},
   "outputs": [
    {
     "data": {
      "text/plain": [
       "(array([ 6601.,  4971.,  3992.,  3068.,  2717.,  2927.,  4324.,  7956.,\n",
       "        10409., 10311.,  9609.,  8314.]),\n",
       " array([ 0.        ,  1.91666667,  3.83333333,  5.75      ,  7.66666667,\n",
       "         9.58333333, 11.5       , 13.41666667, 15.33333333, 17.25      ,\n",
       "        19.16666667, 21.08333333, 23.        ]),\n",
       " <a list of 12 Patch objects>)"
      ]
     },
     "execution_count": 395,
     "metadata": {},
     "output_type": "execute_result"
    },
    {
     "data": {
      "image/png": "[encoded data removed]",
      "text/plain": [
       "<Figure size 432x288 with 1 Axes>"
      ]
     },
     "metadata": {
      "needs_background": "light"
     },
     "output_type": "display_data"
    }
   ],
   "source": [
    "# Compare launch hour of successfull and failed projects\n",
    "plt.hist(filtered_df[filtered_df['state'] == 'successful']['hour'], bins=12, alpha=0.6)\n",
    "plt.hist(filtered_df[filtered_df['state'] == 'failed']['hour'], bins=12, alpha=0.6, color='r')"
   ]
  },
  {
   "cell_type": "code",
   "execution_count": 396,
   "metadata": {},
   "outputs": [
    {
     "data": {
      "text/plain": [
       "array([2013, 2019, 2016, 2018, 2015, 2014, 2012, 2017, 2010, 2011, 2009])"
      ]
     },
     "execution_count": 396,
     "metadata": {},
     "output_type": "execute_result"
    }
   ],
   "source": [
    "filtered_df['year'].unique()"
   ]
  },
  {
   "cell_type": "code",
   "execution_count": 397,
   "metadata": {},
   "outputs": [],
   "source": [
    "# TODO: check whether launch time has changed over years, see whether it changes over the months"
   ]
  },
  {
   "cell_type": "markdown",
   "metadata": {},
   "source": [
    "### The 'location' column"
   ]
  },
  {
   "cell_type": "code",
   "execution_count": 485,
   "metadata": {},
   "outputs": [
    {
     "data": {
      "text/plain": [
       "dtype('O')"
      ]
     },
     "execution_count": 485,
     "metadata": {},
     "output_type": "execute_result"
    }
   ],
   "source": [
    "col = 'location'\n",
    "\n",
    "filtered_df[col].dtype"
   ]
  },
  {
   "cell_type": "code",
   "execution_count": 399,
   "metadata": {},
   "outputs": [
    {
     "data": {
      "text/plain": [
       "0    {\"id\":2379574,\"name\":\"Chicago\",\"slug\":\"chicago...\n",
       "1    {\"id\":2486340,\"name\":\"Sacramento\",\"slug\":\"sacr...\n",
       "2    {\"id\":2383660,\"name\":\"Columbus\",\"slug\":\"columb...\n",
       "3    {\"id\":725746,\"name\":\"Venice\",\"slug\":\"venice-ve...\n",
       "4    {\"id\":2479651,\"name\":\"Redmond\",\"slug\":\"redmond...\n",
       "5    {\"id\":15129,\"name\":\"Cardigan\",\"slug\":\"cardigan...\n",
       "6    {\"id\":2442047,\"name\":\"Los Angeles\",\"slug\":\"los...\n",
       "7    {\"id\":2405641,\"name\":\"Fort Collins\",\"slug\":\"fo...\n",
       "8    {\"id\":2478307,\"name\":\"Raleigh\",\"slug\":\"raleigh...\n",
       "9    {\"id\":2442047,\"name\":\"Los Angeles\",\"slug\":\"los...\n",
       "Name: location, dtype: object"
      ]
     },
     "execution_count": 399,
     "metadata": {},
     "output_type": "execute_result"
    }
   ],
   "source": [
    "filtered_df[col].head(10)"
   ]
  },
  {
   "cell_type": "markdown",
   "metadata": {},
   "source": [
    "Looks like str representantion of a dictionary, turn into dict first."
   ]
  },
  {
   "cell_type": "code",
   "execution_count": 492,
   "metadata": {},
   "outputs": [],
   "source": [
    "#start =time.time()\n",
    "del_idx = []\n",
    "count = 0\n",
    "\n",
    "for idx, x in enumerate(filtered_df[col]):\n",
    "\n",
    "    try:\n",
    "        filtered_df.at[idx, col] = eval(x.replace('false', 'False').replace('true', 'True').replace('null', 'None'))\n",
    "        #eval(x.replace('false', 'False').replace('true', 'True').replace('null', 'None'))\n",
    "\n",
    "    except:\n",
    "        filtered_df.drop(idx, axis=0, inplace=True)\n",
    "        del_idx.append(idx)\n",
    "#end = time.time()\n",
    "#print(end-start)\n",
    "filtered_df.reset_index(inplace=True)"
   ]
  },
  {
   "cell_type": "code",
   "execution_count": 494,
   "metadata": {},
   "outputs": [
    {
     "data": {
      "text/plain": [
       "{'id': 2379574,\n",
       " 'name': 'Chicago',\n",
       " 'slug': 'chicago-il',\n",
       " 'short_name': 'Chicago, IL',\n",
       " 'displayable_name': 'Chicago, IL',\n",
       " 'localized_name': 'Chicago',\n",
       " 'country': 'US',\n",
       " 'state': 'IL',\n",
       " 'type': 'Town',\n",
       " 'is_root': False,\n",
       " 'urls': {'web': {'discover': 'https://www.kickstarter.com/discover/places/chicago-il',\n",
       "   'location': 'https://www.kickstarter.com/locations/chicago-il'},\n",
       "  'api': {'nearby_projects': 'https://api.kickstarter.com/v1/discover?signature=1552595044.c1041c6bca69b0b72738f3b9504ebf921b3e5e0e&woe_id=2379574'}}}"
      ]
     },
     "execution_count": 494,
     "metadata": {},
     "output_type": "execute_result"
    }
   ],
   "source": [
    "filtered_df[col][0]"
   ]
  },
  {
   "cell_type": "code",
   "execution_count": 496,
   "metadata": {},
   "outputs": [],
   "source": [
    "# Count number of unique locations\n",
    "\n",
    "#len(set([x['name'] for x in filtered_df[col]]))\n",
    "\n",
    "filtered_df['city'] = [x['name'] for x in filtered_df[col]]"
   ]
  },
  {
   "cell_type": "code",
   "execution_count": 516,
   "metadata": {},
   "outputs": [
    {
     "data": {
      "text/plain": [
       "<matplotlib.axes._subplots.AxesSubplot at 0x1af9d17668>"
      ]
     },
     "execution_count": 516,
     "metadata": {},
     "output_type": "execute_result"
    },
    {
     "data": {
      "image/png": "[encoded data removed]",
      "text/plain": [
       "<Figure size 432x288 with 1 Axes>"
      ]
     },
     "metadata": {
      "needs_background": "light"
     },
     "output_type": "display_data"
    }
   ],
   "source": [
    "# Top 20 cities by project frequency\n",
    "\n",
    "filtered_df['city'].value_counts().head(20).plot(kind='bar')"
   ]
  },
  {
   "cell_type": "code",
   "execution_count": 521,
   "metadata": {},
   "outputs": [
    {
     "ename": "KeyError",
     "evalue": "'country'",
     "output_type": "error",
     "traceback": [
      "\u001b[0;31m---------------------------------------------------------------------------\u001b[0m",
      "\u001b[0;31mKeyError\u001b[0m                                  Traceback (most recent call last)",
      "\u001b[0;32m<ipython-input-521-fce5a95b8ca9>\u001b[0m in \u001b[0;36m<module>\u001b[0;34m()\u001b[0m\n\u001b[1;32m      1\u001b[0m \u001b[0;31m# Top 20 non-US cities\u001b[0m\u001b[0;34m\u001b[0m\u001b[0;34m\u001b[0m\u001b[0m\n\u001b[1;32m      2\u001b[0m \u001b[0;34m\u001b[0m\u001b[0m\n\u001b[0;32m----> 3\u001b[0;31m \u001b[0mfiltered_df\u001b[0m\u001b[0;34m[\u001b[0m\u001b[0;34m'city'\u001b[0m\u001b[0;34m]\u001b[0m\u001b[0;34m[\u001b[0m\u001b[0mfiltered_df\u001b[0m\u001b[0;34m[\u001b[0m\u001b[0;34m'location'\u001b[0m\u001b[0;34m]\u001b[0m\u001b[0;34m[\u001b[0m\u001b[0;34m'country'\u001b[0m\u001b[0;34m]\u001b[0m \u001b[0;34m!=\u001b[0m \u001b[0;34m'US'\u001b[0m\u001b[0;34m]\u001b[0m\u001b[0;34m.\u001b[0m\u001b[0mvalue_counts\u001b[0m\u001b[0;34m(\u001b[0m\u001b[0;34m)\u001b[0m\u001b[0;34m.\u001b[0m\u001b[0mhead\u001b[0m\u001b[0;34m(\u001b[0m\u001b[0;36m20\u001b[0m\u001b[0;34m)\u001b[0m\u001b[0;34m.\u001b[0m\u001b[0mplot\u001b[0m\u001b[0;34m(\u001b[0m\u001b[0mkind\u001b[0m\u001b[0;34m=\u001b[0m\u001b[0;34m'bar'\u001b[0m\u001b[0;34m)\u001b[0m\u001b[0;34m\u001b[0m\u001b[0m\n\u001b[0m",
      "\u001b[0;32m//anaconda3/envs/nf/lib/python3.6/site-packages/pandas/core/series.py\u001b[0m in \u001b[0;36m__getitem__\u001b[0;34m(self, key)\u001b[0m\n\u001b[1;32m   1069\u001b[0m         \u001b[0mkey\u001b[0m \u001b[0;34m=\u001b[0m \u001b[0mcom\u001b[0m\u001b[0;34m.\u001b[0m\u001b[0mapply_if_callable\u001b[0m\u001b[0;34m(\u001b[0m\u001b[0mkey\u001b[0m\u001b[0;34m,\u001b[0m \u001b[0mself\u001b[0m\u001b[0;34m)\u001b[0m\u001b[0;34m\u001b[0m\u001b[0m\n\u001b[1;32m   1070\u001b[0m         \u001b[0;32mtry\u001b[0m\u001b[0;34m:\u001b[0m\u001b[0;34m\u001b[0m\u001b[0m\n\u001b[0;32m-> 1071\u001b[0;31m             \u001b[0mresult\u001b[0m \u001b[0;34m=\u001b[0m \u001b[0mself\u001b[0m\u001b[0;34m.\u001b[0m\u001b[0mindex\u001b[0m\u001b[0;34m.\u001b[0m\u001b[0mget_value\u001b[0m\u001b[0;34m(\u001b[0m\u001b[0mself\u001b[0m\u001b[0;34m,\u001b[0m \u001b[0mkey\u001b[0m\u001b[0;34m)\u001b[0m\u001b[0;34m\u001b[0m\u001b[0m\n\u001b[0m\u001b[1;32m   1072\u001b[0m \u001b[0;34m\u001b[0m\u001b[0m\n\u001b[1;32m   1073\u001b[0m             \u001b[0;32mif\u001b[0m \u001b[0;32mnot\u001b[0m \u001b[0mis_scalar\u001b[0m\u001b[0;34m(\u001b[0m\u001b[0mresult\u001b[0m\u001b[0;34m)\u001b[0m\u001b[0;34m:\u001b[0m\u001b[0;34m\u001b[0m\u001b[0m\n",
      "\u001b[0;32m//anaconda3/envs/nf/lib/python3.6/site-packages/pandas/core/indexes/base.py\u001b[0m in \u001b[0;36mget_value\u001b[0;34m(self, series, key)\u001b[0m\n\u001b[1;32m   4728\u001b[0m         \u001b[0mk\u001b[0m \u001b[0;34m=\u001b[0m \u001b[0mself\u001b[0m\u001b[0;34m.\u001b[0m\u001b[0m_convert_scalar_indexer\u001b[0m\u001b[0;34m(\u001b[0m\u001b[0mk\u001b[0m\u001b[0;34m,\u001b[0m \u001b[0mkind\u001b[0m\u001b[0;34m=\u001b[0m\u001b[0;34m\"getitem\"\u001b[0m\u001b[0;34m)\u001b[0m\u001b[0;34m\u001b[0m\u001b[0m\n\u001b[1;32m   4729\u001b[0m         \u001b[0;32mtry\u001b[0m\u001b[0;34m:\u001b[0m\u001b[0;34m\u001b[0m\u001b[0m\n\u001b[0;32m-> 4730\u001b[0;31m             \u001b[0;32mreturn\u001b[0m \u001b[0mself\u001b[0m\u001b[0;34m.\u001b[0m\u001b[0m_engine\u001b[0m\u001b[0;34m.\u001b[0m\u001b[0mget_value\u001b[0m\u001b[0;34m(\u001b[0m\u001b[0ms\u001b[0m\u001b[0;34m,\u001b[0m \u001b[0mk\u001b[0m\u001b[0;34m,\u001b[0m \u001b[0mtz\u001b[0m\u001b[0;34m=\u001b[0m\u001b[0mgetattr\u001b[0m\u001b[0;34m(\u001b[0m\u001b[0mseries\u001b[0m\u001b[0;34m.\u001b[0m\u001b[0mdtype\u001b[0m\u001b[0;34m,\u001b[0m \u001b[0;34m\"tz\"\u001b[0m\u001b[0;34m,\u001b[0m \u001b[0;32mNone\u001b[0m\u001b[0;34m)\u001b[0m\u001b[0;34m)\u001b[0m\u001b[0;34m\u001b[0m\u001b[0m\n\u001b[0m\u001b[1;32m   4731\u001b[0m         \u001b[0;32mexcept\u001b[0m \u001b[0mKeyError\u001b[0m \u001b[0;32mas\u001b[0m \u001b[0me1\u001b[0m\u001b[0;34m:\u001b[0m\u001b[0;34m\u001b[0m\u001b[0m\n\u001b[1;32m   4732\u001b[0m             \u001b[0;32mif\u001b[0m \u001b[0mlen\u001b[0m\u001b[0;34m(\u001b[0m\u001b[0mself\u001b[0m\u001b[0;34m)\u001b[0m \u001b[0;34m>\u001b[0m \u001b[0;36m0\u001b[0m \u001b[0;32mand\u001b[0m \u001b[0;34m(\u001b[0m\u001b[0mself\u001b[0m\u001b[0;34m.\u001b[0m\u001b[0mholds_integer\u001b[0m\u001b[0;34m(\u001b[0m\u001b[0;34m)\u001b[0m \u001b[0;32mor\u001b[0m \u001b[0mself\u001b[0m\u001b[0;34m.\u001b[0m\u001b[0mis_boolean\u001b[0m\u001b[0;34m(\u001b[0m\u001b[0;34m)\u001b[0m\u001b[0;34m)\u001b[0m\u001b[0;34m:\u001b[0m\u001b[0;34m\u001b[0m\u001b[0m\n",
      "\u001b[0;32mpandas/_libs/index.pyx\u001b[0m in \u001b[0;36mpandas._libs.index.IndexEngine.get_value\u001b[0;34m()\u001b[0m\n",
      "\u001b[0;32mpandas/_libs/index.pyx\u001b[0m in \u001b[0;36mpandas._libs.index.IndexEngine.get_value\u001b[0;34m()\u001b[0m\n",
      "\u001b[0;32mpandas/_libs/index.pyx\u001b[0m in \u001b[0;36mpandas._libs.index.IndexEngine.get_loc\u001b[0;34m()\u001b[0m\n",
      "\u001b[0;32mpandas/_libs/index_class_helper.pxi\u001b[0m in \u001b[0;36mpandas._libs.index.Int64Engine._check_type\u001b[0;34m()\u001b[0m\n",
      "\u001b[0;31mKeyError\u001b[0m: 'country'"
     ]
    }
   ],
   "source": [
    "# Top 20 non-US cities\n",
    "\n",
    "filtered_df['city'][filtered_df['location']['country'] != 'US'].value_counts().head(20).plot(kind='bar')"
   ]
  },
  {
   "cell_type": "code",
   "execution_count": 522,
   "metadata": {},
   "outputs": [
    {
     "data": {
      "text/plain": [
       "'US'"
      ]
     },
     "execution_count": 522,
     "metadata": {},
     "output_type": "execute_result"
    }
   ],
   "source": [
    "filtered_df['location'][0]['country']"
   ]
  },
  {
   "cell_type": "code",
   "execution_count": 515,
   "metadata": {},
   "outputs": [
    {
     "data": {
      "text/plain": [
       "<matplotlib.axes._subplots.AxesSubplot at 0x1af9c60358>"
      ]
     },
     "execution_count": 515,
     "metadata": {},
     "output_type": "execute_result"
    },
    {
     "data": {
      "image/png": "[encoded data removed]",
      "text/plain": [
       "<Figure size 1080x504 with 1 Axes>"
      ]
     },
     "metadata": {
      "needs_background": "light"
     },
     "output_type": "display_data"
    }
   ],
   "source": [
    "plt.figure(figsize=(15,7))\n",
    "data['country'].value_counts().plot(kind='bar')"
   ]
  },
  {
   "cell_type": "markdown",
   "metadata": {},
   "source": [
    "### The 'name' column"
   ]
  },
  {
   "cell_type": "code",
   "execution_count": 401,
   "metadata": {},
   "outputs": [
    {
     "data": {
      "text/plain": [
       "count                        192449\n",
       "unique                       168248\n",
       "top       A Midsummer Night's Dream\n",
       "freq                              7\n",
       "Name: name, dtype: object"
      ]
     },
     "execution_count": 401,
     "metadata": {},
     "output_type": "execute_result"
    }
   ],
   "source": [
    "col = 'name'\n",
    "filtered_df[col].describe()"
   ]
  },
  {
   "cell_type": "code",
   "execution_count": 402,
   "metadata": {},
   "outputs": [
    {
     "data": {
      "text/plain": [
       "name    0\n",
       "dtype: int64"
      ]
     },
     "execution_count": 402,
     "metadata": {},
     "output_type": "execute_result"
    }
   ],
   "source": [
    "filtered_df[[col]].isna().sum()"
   ]
  },
  {
   "cell_type": "markdown",
   "metadata": {},
   "source": [
    "No missing values but apparently 24000 non-unique entries / names. This certainly requires further addressing."
   ]
  },
  {
   "cell_type": "code",
   "execution_count": 403,
   "metadata": {},
   "outputs": [
    {
     "data": {
      "text/plain": [
       "(array([1.7500e+02, 2.0140e+03, 4.6760e+03, 7.2080e+03, 6.3200e+03,\n",
       "        1.0650e+04, 1.1619e+04, 1.1723e+04, 1.1596e+04, 7.6240e+03,\n",
       "        1.1384e+04, 1.0886e+04, 1.0356e+04, 1.0273e+04, 6.5950e+03,\n",
       "        9.6620e+03, 9.4940e+03, 9.8190e+03, 1.0464e+04, 7.8960e+03,\n",
       "        1.4683e+04, 7.1510e+03, 2.0000e+01, 1.4000e+01, 1.6000e+01,\n",
       "        2.1000e+01, 2.4000e+01, 2.5000e+01, 2.3000e+01, 3.8000e+01]),\n",
       " array([ 1. ,  3.8,  6.6,  9.4, 12.2, 15. , 17.8, 20.6, 23.4, 26.2, 29. ,\n",
       "        31.8, 34.6, 37.4, 40.2, 43. , 45.8, 48.6, 51.4, 54.2, 57. , 59.8,\n",
       "        62.6, 65.4, 68.2, 71. , 73.8, 76.6, 79.4, 82.2, 85. ]),\n",
       " <a list of 30 Patch objects>)"
      ]
     },
     "execution_count": 403,
     "metadata": {},
     "output_type": "execute_result"
    },
    {
     "data": {
      "image/png": "[encoded data removed]",
      "text/plain": [
       "<Figure size 432x288 with 1 Axes>"
      ]
     },
     "metadata": {
      "needs_background": "light"
     },
     "output_type": "display_data"
    }
   ],
   "source": [
    "# Look at the distribution of project name lengths\n",
    "plt.hist([len(x) for x in filtered_df[col]], bins=30)"
   ]
  },
  {
   "cell_type": "code",
   "execution_count": 404,
   "metadata": {},
   "outputs": [],
   "source": [
    "# Look into:\n",
    "# lenght of name vs successful / failed funding\n",
    "# sentiment analysis vs. funding success"
   ]
  },
  {
   "cell_type": "markdown",
   "metadata": {},
   "source": [
    "### The 'photo' column"
   ]
  },
  {
   "cell_type": "code",
   "execution_count": 405,
   "metadata": {},
   "outputs": [
    {
     "data": {
      "text/plain": [
       "count                                                192449\n",
       "unique                                               168766\n",
       "top       {\"key\":\"assets/022/805/714/f48e42a894f1db2ab94...\n",
       "freq                                                      2\n",
       "Name: photo, dtype: object"
      ]
     },
     "execution_count": 405,
     "metadata": {},
     "output_type": "execute_result"
    }
   ],
   "source": [
    "col = 'photo'\n",
    "filtered_df[col].describe()"
   ]
  },
  {
   "cell_type": "code",
   "execution_count": 406,
   "metadata": {},
   "outputs": [
    {
     "data": {
      "text/plain": [
       "0    {\"key\":\"assets/011/625/534/5bea1760d7f20943c4c...\n",
       "1    {\"key\":\"assets/024/033/030/dea4e3901d10195b035...\n",
       "2    {\"key\":\"assets/014/262/672/97944960ba30239051d...\n",
       "3    {\"key\":\"assets/023/008/626/aef53e2f326ad4c8772...\n",
       "4    {\"key\":\"assets/012/061/410/1687a735d5b1316ca47...\n",
       "Name: photo, dtype: object"
      ]
     },
     "execution_count": 406,
     "metadata": {},
     "output_type": "execute_result"
    }
   ],
   "source": [
    "filtered_df[col].head()"
   ]
  },
  {
   "cell_type": "markdown",
   "metadata": {},
   "source": [
    "Another column that looks like str reprensentation of a dict"
   ]
  },
  {
   "cell_type": "code",
   "execution_count": 407,
   "metadata": {},
   "outputs": [
    {
     "data": {
      "text/plain": [
       "0"
      ]
     },
     "execution_count": 407,
     "metadata": {},
     "output_type": "execute_result"
    }
   ],
   "source": [
    "filtered_df[col].isna().sum()"
   ]
  },
  {
   "cell_type": "code",
   "execution_count": 408,
   "metadata": {},
   "outputs": [
    {
     "data": {
      "text/plain": [
       "'https://ksr-ugc.imgix.net/assets/011/625/534/5bea1760d7f20943c4cd5e9b4911c1bd_original.jpg?ixlib=rb-1.1.0&crop=faces&w=1552&h=873&fit=crop&v=1463685705&auto=format&frame=1&q=92&s=90c72b785ef97539099dffb8531dcad3'"
      ]
     },
     "execution_count": 408,
     "metadata": {},
     "output_type": "execute_result"
    }
   ],
   "source": [
    "eval(filtered_df[col][0])['1536x864']"
   ]
  },
  {
   "cell_type": "code",
   "execution_count": 409,
   "metadata": {},
   "outputs": [
    {
     "name": "stdout",
     "output_type": "stream",
     "text": [
      "0\n"
     ]
    }
   ],
   "source": [
    "# Turn strings into dicts and check for exceptions errors\n",
    "\n",
    "del_idx = []\n",
    "count = 0\n",
    "for idx, x in enumerate(filtered_df[col]):\n",
    "\n",
    "    try:\n",
    "        filtered_df.at[idx, col] = eval(x.replace('false', 'False').replace('true', 'True').replace('null', 'None'))\n",
    "        #eval(x.replace('null', 'None'))\n",
    "    except:\n",
    "        count += 1\n",
    "        del_idx.append(idx)\n",
    "print(count)"
   ]
  },
  {
   "cell_type": "markdown",
   "metadata": {},
   "source": [
    "TODO: Analyse 'photos'"
   ]
  },
  {
   "cell_type": "markdown",
   "metadata": {},
   "source": [
    "### The 'pledged' column"
   ]
  },
  {
   "cell_type": "markdown",
   "metadata": {},
   "source": [
    "pledged data is given in native currencies. **So can be dropped in favour of 'usd_pledged' which gives pledged amount in same currency (USD)**"
   ]
  },
  {
   "cell_type": "code",
   "execution_count": 410,
   "metadata": {},
   "outputs": [
    {
     "data": {
      "text/plain": [
       "dtype('float64')"
      ]
     },
     "execution_count": 410,
     "metadata": {},
     "output_type": "execute_result"
    }
   ],
   "source": [
    "col = 'pledged'\n",
    "filtered_df[col].dtypes"
   ]
  },
  {
   "cell_type": "code",
   "execution_count": 411,
   "metadata": {},
   "outputs": [
    {
     "data": {
      "text/plain": [
       "count    1.924490e+05\n",
       "mean     1.971593e+04\n",
       "std      3.352984e+05\n",
       "min      0.000000e+00\n",
       "25%      1.500000e+02\n",
       "50%      1.800000e+03\n",
       "75%      7.471000e+03\n",
       "max      8.103074e+07\n",
       "Name: pledged, dtype: float64"
      ]
     },
     "execution_count": 411,
     "metadata": {},
     "output_type": "execute_result"
    }
   ],
   "source": [
    "filtered_df[col].describe()"
   ]
  },
  {
   "cell_type": "code",
   "execution_count": 412,
   "metadata": {},
   "outputs": [
    {
     "data": {
      "text/plain": [
       "0"
      ]
     },
     "execution_count": 412,
     "metadata": {},
     "output_type": "execute_result"
    }
   ],
   "source": [
    "filtered_df[col].isna().sum()"
   ]
  },
  {
   "cell_type": "markdown",
   "metadata": {},
   "source": [
    "No missing values "
   ]
  },
  {
   "cell_type": "code",
   "execution_count": 413,
   "metadata": {},
   "outputs": [
    {
     "data": {
      "text/plain": [
       "0.00         15003\n",
       "1.00          4971\n",
       "10.00         1679\n",
       "2.00          1341\n",
       "5.00          1229\n",
       "             ...  \n",
       "7455.18          1\n",
       "7182.67          1\n",
       "11609.00         1\n",
       "12477.00         1\n",
       "262143.00        1\n",
       "Name: pledged, Length: 43035, dtype: int64"
      ]
     },
     "execution_count": 413,
     "metadata": {},
     "output_type": "execute_result"
    }
   ],
   "source": [
    "filtered_df[col].value_counts()\n"
   ]
  },
  {
   "cell_type": "markdown",
   "metadata": {},
   "source": [
    "15003 projects that pledged 0 USD?"
   ]
  },
  {
   "cell_type": "code",
   "execution_count": 414,
   "metadata": {},
   "outputs": [],
   "source": [
    "droplist.append(col)\n",
    "#filtered_df.drop('pledged', inplace=True, axis=1)"
   ]
  },
  {
   "cell_type": "markdown",
   "metadata": {},
   "source": [
    "### The 'profile' column"
   ]
  },
  {
   "cell_type": "code",
   "execution_count": 415,
   "metadata": {},
   "outputs": [
    {
     "data": {
      "text/plain": [
       "0    {\"id\":822687,\"project_id\":822687,\"state\":\"inac...\n",
       "1    {\"id\":3665299,\"project_id\":3665299,\"state\":\"in...\n",
       "2    {\"id\":2730508,\"project_id\":2730508,\"state\":\"in...\n",
       "3    {\"id\":3498742,\"project_id\":3498742,\"state\":\"ac...\n",
       "4    {\"id\":1754403,\"project_id\":1754403,\"state\":\"in...\n",
       "Name: profile, dtype: object"
      ]
     },
     "execution_count": 415,
     "metadata": {},
     "output_type": "execute_result"
    }
   ],
   "source": [
    "col = 'profile'\n",
    "\n",
    "filtered_df[col].head()"
   ]
  },
  {
   "cell_type": "markdown",
   "metadata": {},
   "source": [
    "Yet another column with str reprensentation of a dict. Lets look into one entry:"
   ]
  },
  {
   "cell_type": "code",
   "execution_count": 416,
   "metadata": {},
   "outputs": [
    {
     "data": {
      "text/plain": [
       "{'id': 822687,\n",
       " 'project_id': 822687,\n",
       " 'state': 'inactive',\n",
       " 'state_changed_at': 1425915845,\n",
       " 'name': None,\n",
       " 'blurb': None,\n",
       " 'background_color': None,\n",
       " 'text_color': None,\n",
       " 'link_background_color': None,\n",
       " 'link_text_color': None,\n",
       " 'link_text': None,\n",
       " 'link_url': None,\n",
       " 'show_feature_image': False,\n",
       " 'background_image_opacity': 0.8,\n",
       " 'should_show_feature_image_section': True,\n",
       " 'feature_image_attributes': {'image_urls': {'default': 'https://ksr-ugc.imgix.net/assets/011/625/534/5bea1760d7f20943c4cd5e9b4911c1bd_original.jpg?ixlib=rb-1.1.0&crop=faces&w=1552&h=873&fit=crop&v=1463685705&auto=format&frame=1&q=92&s=90c72b785ef97539099dffb8531dcad3',\n",
       "   'baseball_card': 'https://ksr-ugc.imgix.net/assets/011/625/534/5bea1760d7f20943c4cd5e9b4911c1bd_original.jpg?ixlib=rb-1.1.0&crop=faces&w=560&h=315&fit=crop&v=1463685705&auto=format&frame=1&q=92&s=883b3ff098e5fc4cf6fec280665f5fd0'}}}"
      ]
     },
     "execution_count": 416,
     "metadata": {},
     "output_type": "execute_result"
    }
   ],
   "source": [
    "entry = eval(filtered_df[col][0].replace('null', 'None').replace('false', 'False').replace('true', 'True'))\n",
    "entry"
   ]
  },
  {
   "cell_type": "code",
   "execution_count": 417,
   "metadata": {},
   "outputs": [
    {
     "data": {
      "text/plain": [
       "['id',\n",
       " 'project_id',\n",
       " 'state',\n",
       " 'state_changed_at',\n",
       " 'name',\n",
       " 'blurb',\n",
       " 'background_color',\n",
       " 'text_color',\n",
       " 'link_background_color',\n",
       " 'link_text_color',\n",
       " 'link_text',\n",
       " 'link_url',\n",
       " 'show_feature_image',\n",
       " 'background_image_opacity',\n",
       " 'should_show_feature_image_section',\n",
       " 'feature_image_attributes']"
      ]
     },
     "execution_count": 417,
     "metadata": {},
     "output_type": "execute_result"
    }
   ],
   "source": [
    "list(entry.keys())"
   ]
  },
  {
   "cell_type": "code",
   "execution_count": 418,
   "metadata": {},
   "outputs": [
    {
     "name": "stdout",
     "output_type": "stream",
     "text": [
      "blurb\n",
      "id\n",
      "name\n",
      "state\n",
      "state_changed_at\n"
     ]
    }
   ],
   "source": [
    "# Check which of the entries of the 'profile' column already exist as separate column s\n",
    "\n",
    "for e in list(data.columns):\n",
    "    if e in list(entry.keys()):\n",
    "        print(e)"
   ]
  },
  {
   "cell_type": "code",
   "execution_count": 419,
   "metadata": {},
   "outputs": [],
   "source": [
    "## TODO: Check whether contents also match"
   ]
  },
  {
   "cell_type": "markdown",
   "metadata": {},
   "source": [
    "Seems like a repetition of other columns. And some additional information. Well drop the column for now."
   ]
  },
  {
   "cell_type": "code",
   "execution_count": 420,
   "metadata": {},
   "outputs": [],
   "source": [
    "droplist.append(col)"
   ]
  },
  {
   "cell_type": "markdown",
   "metadata": {},
   "source": [
    "### The 'slug' column"
   ]
  },
  {
   "cell_type": "code",
   "execution_count": 421,
   "metadata": {},
   "outputs": [
    {
     "data": {
      "text/plain": [
       "0                                new-final-round-album\n",
       "1                      princess-pals-enamel-pin-series\n",
       "2    their-life-through-their-lens-the-amish-and-me...\n",
       "3                             wao-the-eco-effect-shoes\n",
       "4                       apple-watch-development-course\n",
       "Name: slug, dtype: object"
      ]
     },
     "execution_count": 421,
     "metadata": {},
     "output_type": "execute_result"
    }
   ],
   "source": [
    "col = 'slug'\n",
    "filtered_df[col].head()"
   ]
  },
  {
   "cell_type": "code",
   "execution_count": 422,
   "metadata": {},
   "outputs": [
    {
     "data": {
      "text/plain": [
       "0                                New Final Round Album\n",
       "1                      Princess Pals Enamel Pin Series\n",
       "2    Their Life Through Their Lens-the Amish and Me...\n",
       "3                            WAO: THE ECO EFFECT SHOES\n",
       "4                       Apple Watch Development Course\n",
       "Name: name, dtype: object"
      ]
     },
     "execution_count": 422,
     "metadata": {},
     "output_type": "execute_result"
    }
   ],
   "source": [
    "filtered_df['name'].head()"
   ]
  },
  {
   "cell_type": "markdown",
   "metadata": {},
   "source": [
    "At first glance, this looks like the 'name' column in all lower case and with hyphens instead of whitespaces."
   ]
  },
  {
   "cell_type": "code",
   "execution_count": 423,
   "metadata": {},
   "outputs": [
    {
     "data": {
      "text/plain": [
       "count                               192449\n",
       "unique                              168766\n",
       "top       murderbait-releases-a-new-record\n",
       "freq                                     2\n",
       "Name: slug, dtype: object"
      ]
     },
     "execution_count": 423,
     "metadata": {},
     "output_type": "execute_result"
    }
   ],
   "source": [
    "filtered_df[col].describe()"
   ]
  },
  {
   "cell_type": "code",
   "execution_count": 424,
   "metadata": {},
   "outputs": [
    {
     "data": {
      "text/plain": [
       "[0         False\n",
       " 1         False\n",
       " 2         False\n",
       " 3         False\n",
       " 4         False\n",
       "           ...  \n",
       " 192444    False\n",
       " 192445    False\n",
       " 192446    False\n",
       " 192447    False\n",
       " 192448    False\n",
       " Length: 192449, dtype: bool]"
      ]
     },
     "execution_count": 424,
     "metadata": {},
     "output_type": "execute_result"
    }
   ],
   "source": [
    "[filtered_df['name'].str.lower().replace(' ', '-').replace(':', '') == filtered_df[col]]"
   ]
  },
  {
   "cell_type": "code",
   "execution_count": 425,
   "metadata": {},
   "outputs": [],
   "source": [
    "li = []\n",
    "for i in range(10):\n",
    "    \n",
    "    li.append(filtered_df['name'][i].lower().replace(' ', '-').replace(':', '') == filtered_df['slug'][i])\n",
    "    "
   ]
  },
  {
   "cell_type": "code",
   "execution_count": 426,
   "metadata": {},
   "outputs": [
    {
     "data": {
      "text/plain": [
       "53"
      ]
     },
     "execution_count": 426,
     "metadata": {},
     "output_type": "execute_result"
    }
   ],
   "source": [
    "filtered_df[col].str.len().max()"
   ]
  },
  {
   "cell_type": "code",
   "execution_count": 427,
   "metadata": {},
   "outputs": [
    {
     "data": {
      "text/plain": [
       "'their-life-through-their-lens-the-amish-and-mennon'"
      ]
     },
     "execution_count": 427,
     "metadata": {},
     "output_type": "execute_result"
    }
   ],
   "source": [
    "filtered_df[col][2]"
   ]
  },
  {
   "cell_type": "code",
   "execution_count": 428,
   "metadata": {},
   "outputs": [
    {
     "data": {
      "text/plain": [
       "'their-life-through-their-lens-the-amish-and-mennonite-people'"
      ]
     },
     "execution_count": 428,
     "metadata": {},
     "output_type": "execute_result"
    }
   ],
   "source": [
    "filtered_df['name'][2].lower().replace(' ', '-').replace(':', '')"
   ]
  },
  {
   "cell_type": "code",
   "execution_count": 429,
   "metadata": {},
   "outputs": [
    {
     "data": {
      "text/plain": [
       "0                                     new-final-round-album\n",
       "1                           princess-pals-enamel-pin-series\n",
       "2         their-life-through-their-lens-the-amish-and-me...\n",
       "3                                  wao-the-eco-effect-shoes\n",
       "4                            apple-watch-development-course\n",
       "                                ...                        \n",
       "192444                              steam-hollow-brewing-co\n",
       "192445    fusion-detox-chef-alan-wichert-creates-the-health\n",
       "192446                 gorgeous-princess-cheetah-collection\n",
       "192447    the-lion-and-the-lyceum-childrens-book-based-o...\n",
       "192448                   philip-e-west-aviation-masterworks\n",
       "Name: slug, Length: 192449, dtype: object"
      ]
     },
     "execution_count": 429,
     "metadata": {},
     "output_type": "execute_result"
    }
   ],
   "source": [
    "filtered_df[col].str.lower().replace(' ', '-').replace(':', '')"
   ]
  },
  {
   "cell_type": "raw",
   "metadata": {},
   "source": [
    "droplist.append(col)"
   ]
  },
  {
   "cell_type": "markdown",
   "metadata": {},
   "source": [
    "### The 'source_url' column"
   ]
  },
  {
   "cell_type": "code",
   "execution_count": 430,
   "metadata": {},
   "outputs": [
    {
     "data": {
      "text/plain": [
       "'https://www.kickstarter.com/discover/categories/fashion'"
      ]
     },
     "execution_count": 430,
     "metadata": {},
     "output_type": "execute_result"
    }
   ],
   "source": [
    "col = 'source_url'\n",
    "filtered_df[col][1000]"
   ]
  },
  {
   "cell_type": "markdown",
   "metadata": {},
   "source": [
    "This is just an url to the category of the project, drop."
   ]
  },
  {
   "cell_type": "code",
   "execution_count": 431,
   "metadata": {},
   "outputs": [],
   "source": [
    "droplist.append(col)"
   ]
  },
  {
   "cell_type": "markdown",
   "metadata": {},
   "source": [
    "### The 'staff_pick' column"
   ]
  },
  {
   "cell_type": "markdown",
   "metadata": {},
   "source": [
    "staff_pick - whether a project was highlighted as a staff_pick when it was launched/live\n",
    "\n",
    "Seems like an interesting variable. "
   ]
  },
  {
   "cell_type": "code",
   "execution_count": 432,
   "metadata": {},
   "outputs": [
    {
     "data": {
      "text/plain": [
       "0    False\n",
       "1    False\n",
       "2     True\n",
       "3    False\n",
       "4    False\n",
       "Name: staff_pick, dtype: bool"
      ]
     },
     "execution_count": 432,
     "metadata": {},
     "output_type": "execute_result"
    }
   ],
   "source": [
    "col = 'staff_pick'\n",
    "\n",
    "filtered_df[col].head()"
   ]
  },
  {
   "cell_type": "code",
   "execution_count": 433,
   "metadata": {},
   "outputs": [
    {
     "data": {
      "text/plain": [
       "False    166509\n",
       "True      25940\n",
       "Name: staff_pick, dtype: int64"
      ]
     },
     "execution_count": 433,
     "metadata": {},
     "output_type": "execute_result"
    }
   ],
   "source": [
    "filtered_df[col].value_counts()"
   ]
  },
  {
   "cell_type": "code",
   "execution_count": 434,
   "metadata": {},
   "outputs": [
    {
     "data": {
      "text/plain": [
       "13.48"
      ]
     },
     "execution_count": 434,
     "metadata": {},
     "output_type": "execute_result"
    }
   ],
   "source": [
    "round(25940/(25940+166509)*100, 2)"
   ]
  },
  {
   "cell_type": "markdown",
   "metadata": {},
   "source": [
    "13.48 % of projects where highlighted as staff_pick, when they were launched/live."
   ]
  },
  {
   "cell_type": "markdown",
   "metadata": {},
   "source": [
    "### The 'state_changed_at' column\n",
    "state_changed_at - date and time of when a project's status was changed (same as the deadline for successful and failed projects)"
   ]
  },
  {
   "cell_type": "code",
   "execution_count": 435,
   "metadata": {},
   "outputs": [
    {
     "data": {
      "text/plain": [
       "0    1391899046\n",
       "1    1551801611\n",
       "2    1480607932\n",
       "3    1544309940\n",
       "4    1428511019\n",
       "Name: state_changed_at, dtype: int64"
      ]
     },
     "execution_count": 435,
     "metadata": {},
     "output_type": "execute_result"
    }
   ],
   "source": [
    "col = 'state_changed_at'\n",
    "\n",
    "filtered_df[col].head()"
   ]
  },
  {
   "cell_type": "code",
   "execution_count": 436,
   "metadata": {},
   "outputs": [],
   "source": [
    "# Conver to datetime object\n",
    "filtered_df[col] = pd.to_datetime(filtered_df[col], unit='s')"
   ]
  },
  {
   "cell_type": "markdown",
   "metadata": {},
   "source": [
    "### The 'static_usd_rate' column\n",
    "\n",
    "static_usd_rate - conversion rate between the original currency and USD"
   ]
  },
  {
   "cell_type": "code",
   "execution_count": 437,
   "metadata": {},
   "outputs": [
    {
     "data": {
      "text/plain": [
       "0    1.000000\n",
       "1    1.000000\n",
       "2    1.000000\n",
       "3    1.136525\n",
       "4    1.000000\n",
       "Name: static_usd_rate, dtype: float64"
      ]
     },
     "execution_count": 437,
     "metadata": {},
     "output_type": "execute_result"
    }
   ],
   "source": [
    "col = 'static_usd_rate'\n",
    "\n",
    "filtered_df[col].head()"
   ]
  },
  {
   "cell_type": "markdown",
   "metadata": {},
   "source": [
    "Assume column is just a mulitplier to convert 'pledge' to 'usd_plegded', drop."
   ]
  },
  {
   "cell_type": "code",
   "execution_count": 438,
   "metadata": {},
   "outputs": [],
   "source": [
    "droplist.append(col)"
   ]
  },
  {
   "cell_type": "markdown",
   "metadata": {},
   "source": [
    "### The 'urls' columns\n",
    "urls - url to the project's page"
   ]
  },
  {
   "cell_type": "code",
   "execution_count": 439,
   "metadata": {},
   "outputs": [
    {
     "data": {
      "text/plain": [
       "0    {\"web\":{\"project\":\"https://www.kickstarter.com...\n",
       "1    {\"web\":{\"project\":\"https://www.kickstarter.com...\n",
       "2    {\"web\":{\"project\":\"https://www.kickstarter.com...\n",
       "3    {\"web\":{\"project\":\"https://www.kickstarter.com...\n",
       "4    {\"web\":{\"project\":\"https://www.kickstarter.com...\n",
       "Name: urls, dtype: object"
      ]
     },
     "execution_count": 439,
     "metadata": {},
     "output_type": "execute_result"
    }
   ],
   "source": [
    "col = 'urls'\n",
    "\n",
    "filtered_df[col].head()"
   ]
  },
  {
   "cell_type": "code",
   "execution_count": 440,
   "metadata": {},
   "outputs": [
    {
     "data": {
      "text/plain": [
       "{'web': {'project': 'https://www.kickstarter.com/projects/1495925645/new-final-round-album?ref=discovery_category_newest',\n",
       "  'rewards': 'https://www.kickstarter.com/projects/1495925645/new-final-round-album/rewards'}}"
      ]
     },
     "execution_count": 440,
     "metadata": {},
     "output_type": "execute_result"
    }
   ],
   "source": [
    "eval(filtered_df[col][0])"
   ]
  },
  {
   "cell_type": "markdown",
   "metadata": {},
   "source": [
    "Just links to the project page, drop."
   ]
  },
  {
   "cell_type": "code",
   "execution_count": 441,
   "metadata": {},
   "outputs": [],
   "source": [
    "droplist.append(col)"
   ]
  },
  {
   "cell_type": "markdown",
   "metadata": {},
   "source": [
    "### The 'usd_pledged' column\n",
    "usd_pledged - amount pledged in USD"
   ]
  },
  {
   "cell_type": "code",
   "execution_count": 23,
   "metadata": {},
   "outputs": [
    {
     "data": {
      "text/plain": [
       "0      802.00000\n",
       "1     2259.00000\n",
       "2    29638.00000\n",
       "3    49075.15252\n",
       "4      549.00000\n",
       "Name: usd_pledged, dtype: float64"
      ]
     },
     "execution_count": 23,
     "metadata": {},
     "output_type": "execute_result"
    }
   ],
   "source": [
    "col = 'usd_pledged'\n",
    "\n",
    "filtered_df[col].head()"
   ]
  },
  {
   "cell_type": "code",
   "execution_count": 443,
   "metadata": {},
   "outputs": [
    {
     "data": {
      "text/plain": [
       "count    1.924490e+05\n",
       "mean     1.352750e+04\n",
       "std      8.923302e+04\n",
       "min      0.000000e+00\n",
       "25%      1.500000e+02\n",
       "50%      1.771000e+03\n",
       "75%      7.100000e+03\n",
       "max      8.596475e+06\n",
       "Name: usd_pledged, dtype: float64"
      ]
     },
     "execution_count": 443,
     "metadata": {},
     "output_type": "execute_result"
    }
   ],
   "source": [
    "filtered_df[col].describe()"
   ]
  },
  {
   "cell_type": "code",
   "execution_count": 444,
   "metadata": {},
   "outputs": [
    {
     "data": {
      "text/plain": [
       "0"
      ]
     },
     "execution_count": 444,
     "metadata": {},
     "output_type": "execute_result"
    }
   ],
   "source": [
    "filtered_df[col].isna().sum()"
   ]
  },
  {
   "cell_type": "code",
   "execution_count": 24,
   "metadata": {},
   "outputs": [
    {
     "data": {
      "text/plain": [
       "0.000000       15009\n",
       "1.000000        3561\n",
       "10.000000       1116\n",
       "25.000000        972\n",
       "2.000000         917\n",
       "               ...  \n",
       "207.592866         1\n",
       "1101.160000        1\n",
       "952.907287         1\n",
       "2.389871           1\n",
       "313.456542         1\n",
       "Name: usd_pledged, Length: 75218, dtype: int64"
      ]
     },
     "execution_count": 24,
     "metadata": {},
     "output_type": "execute_result"
    }
   ],
   "source": [
    "filtered_df[col].value_counts()"
   ]
  },
  {
   "cell_type": "code",
   "execution_count": 31,
   "metadata": {},
   "outputs": [
    {
     "data": {
      "text/plain": [
       "failed    15009\n",
       "Name: state, dtype: int64"
      ]
     },
     "execution_count": 31,
     "metadata": {},
     "output_type": "execute_result"
    }
   ],
   "source": [
    "filtered_df[filtered_df[col] == np.float(0)]['state'].value_counts()"
   ]
  },
  {
   "cell_type": "code",
   "execution_count": null,
   "metadata": {},
   "outputs": [],
   "source": [
    "col = 'usd_pledged'\n",
    "\n",
    "for idx, x in enumerate(filtered_df[col]):\n",
    "    if x == np.float(0):\n",
    "        filtered_df.drop(idx, axis=0, inplace=True)\n",
    "\n",
    "filtered_df.reset_index(inplace=True)"
   ]
  },
  {
   "cell_type": "markdown",
   "metadata": {},
   "source": [
    "### The 'usd_type' column\n",
    "usd_type - domestic or international"
   ]
  },
  {
   "cell_type": "code",
   "execution_count": 21,
   "metadata": {},
   "outputs": [
    {
     "data": {
      "text/plain": [
       "0    international\n",
       "1    international\n",
       "2    international\n",
       "3    international\n",
       "4         domestic\n",
       "Name: usd_type, dtype: object"
      ]
     },
     "execution_count": 21,
     "metadata": {},
     "output_type": "execute_result"
    }
   ],
   "source": [
    "col = 'usd_type'\n",
    "\n",
    "filtered_df[col].head()"
   ]
  },
  {
   "cell_type": "code",
   "execution_count": 447,
   "metadata": {},
   "outputs": [
    {
     "data": {
      "text/plain": [
       "array(['international', 'domestic', nan], dtype=object)"
      ]
     },
     "execution_count": 447,
     "metadata": {},
     "output_type": "execute_result"
    }
   ],
   "source": [
    "filtered_df[col].unique()"
   ]
  },
  {
   "cell_type": "code",
   "execution_count": 448,
   "metadata": {},
   "outputs": [
    {
     "data": {
      "text/plain": [
       "38"
      ]
     },
     "execution_count": 448,
     "metadata": {},
     "output_type": "execute_result"
    }
   ],
   "source": [
    "filtered_df[col].isna().sum()"
   ]
  },
  {
   "cell_type": "markdown",
   "metadata": {},
   "source": [
    "38 missing values, but can be ignored as columns will be dropped anyways."
   ]
  },
  {
   "cell_type": "code",
   "execution_count": 449,
   "metadata": {},
   "outputs": [],
   "source": [
    "droplist.append(col)"
   ]
  },
  {
   "cell_type": "code",
   "execution_count": 450,
   "metadata": {},
   "outputs": [
    {
     "data": {
      "text/plain": [
       "['is_backing',\n",
       " 'is_starred',\n",
       " 'permissions',\n",
       " 'pledged',\n",
       " 'profile',\n",
       " 'source_url',\n",
       " 'static_usd_rate',\n",
       " 'urls',\n",
       " 'usd_type']"
      ]
     },
     "execution_count": 450,
     "metadata": {},
     "output_type": "execute_result"
    }
   ],
   "source": [
    "droplist"
   ]
  },
  {
   "cell_type": "code",
   "execution_count": 452,
   "metadata": {},
   "outputs": [
    {
     "data": {
      "text/plain": [
       "(192449, 27)"
      ]
     },
     "execution_count": 452,
     "metadata": {},
     "output_type": "execute_result"
    }
   ],
   "source": [
    "filtered_df.shape"
   ]
  },
  {
   "cell_type": "code",
   "execution_count": 453,
   "metadata": {},
   "outputs": [],
   "source": [
    "filtered_df.drop(droplist, axis=1, inplace=True)"
   ]
  },
  {
   "cell_type": "code",
   "execution_count": 454,
   "metadata": {},
   "outputs": [
    {
     "data": {
      "text/plain": [
       "(192449, 18)"
      ]
     },
     "execution_count": 454,
     "metadata": {},
     "output_type": "execute_result"
    }
   ],
   "source": [
    "filtered_df.shape"
   ]
  },
  {
   "cell_type": "code",
   "execution_count": 455,
   "metadata": {},
   "outputs": [
    {
     "data": {
      "text/plain": [
       "Index(['level_0', 'index', 'is_starrable', 'launched_at', 'location', 'name',\n",
       "       'photo', 'slug', 'spotlight', 'staff_pick', 'state', 'state_changed_at',\n",
       "       'usd_pledged', 'weekday', 'year', 'month', 'day', 'hour'],\n",
       "      dtype='object')"
      ]
     },
     "execution_count": 455,
     "metadata": {},
     "output_type": "execute_result"
    }
   ],
   "source": [
    "filtered_df.columns"
   ]
  },
  {
   "cell_type": "code",
   "execution_count": null,
   "metadata": {},
   "outputs": [],
   "source": []
  }
 ],
 "metadata": {
  "kernelspec": {
   "display_name": "Python 3",
   "language": "python",
   "name": "python3"
  },
  "language_info": {
   "codemirror_mode": {
    "name": "ipython",
    "version": 3
   },
   "file_extension": ".py",
   "mimetype": "text/x-python",
   "name": "python",
   "nbconvert_exporter": "python",
   "pygments_lexer": "ipython3",
   "version": "3.6.6"
  },
  "toc-autonumbering": true
 },
 "nbformat": 4,
 "nbformat_minor": 4
}
