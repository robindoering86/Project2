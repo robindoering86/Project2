{
 "cells": [
  {
   "cell_type": "code",
   "execution_count": null,
   "metadata": {},
   "outputs": [],
   "source": [
    "# Numpy\n",
    "\n",
    "start =time.time()\n",
    "del_idx = []\n",
    "count = 0\n",
    "loc_np = filtered_df['location'].to_numpy()\n",
    "for idx, x in enumerate(loc_np):\n",
    "\n",
    "    try:\n",
    "        loc_np[idx] = eval(x.replace('false', 'False').replace('true', 'True').replace('null', 'None'))\n",
    "        #eval(x.replace('false', 'False').replace('true', 'True').replace('null', 'None'))\n",
    "\n",
    "    except:\n",
    "        #filtered_df.drop(idx, axis=0, inplace=True)\n",
    "        del_idx.append(idx)\n",
    "end = time.time()\n",
    "filtered_df.drop(filtered_df.index(del_idx), inplace=True)\n",
    "filtered_df.reset_index(inplace=True)\n",
    "filtered_df['location'] = loc_np\n",
    "print(end-start)\n"
   ]
  },
  {
   "cell_type": "code",
   "execution_count": null,
   "metadata": {},
   "outputs": [],
   "source": []
  },
  {
   "cell_type": "code",
   "execution_count": null,
   "metadata": {},
   "outputs": [],
   "source": [
    "del_idx = []\n",
    "count = 0\n",
    "\n",
    "for idx, x in enumerate(filtered_df['location']):\n",
    "\n",
    "    try:\n",
    "        filtered_df.at[idx, 'location'] = eval(x.replace('false', 'False').replace('true', 'True').replace('null', 'None'))\n",
    "        #eval(x.replace('false', 'False').replace('true', 'True').replace('null', 'None'))\n",
    "\n",
    "    except:\n",
    "        filtered_df.drop(idx, axis=0, inplace=True)\n",
    "        del_idx.append(idx)"
   ]
  },
  {
   "cell_type": "code",
   "execution_count": null,
   "metadata": {},
   "outputs": [],
   "source": [
    "del_idx = []\n",
    "count = 0\n",
    "\n",
    "for idx, x in enumerate(filtered_df['location']):\n",
    "\n",
    "    try:\n",
    "        #filtered_df.at[idx, 'location'] = eval(x.replace('false', 'False').replace('true', 'True').replace('null', 'None'))\n",
    "        eval(x.replace('false', 'False').replace('true', 'True').replace('null', 'None'))\n",
    "\n",
    "    except:\n",
    "        count += 1\n",
    "        del_idx.append(idx)\n",
    "print(count)"
   ]
  }
 ],
 "metadata": {
  "kernelspec": {
   "display_name": "Python 3",
   "language": "python",
   "name": "python3"
  },
  "language_info": {
   "codemirror_mode": {
    "name": "ipython",
    "version": 3
   },
   "file_extension": ".py",
   "mimetype": "text/x-python",
   "name": "python",
   "nbconvert_exporter": "python",
   "pygments_lexer": "ipython3",
   "version": "3.6.6"
  }
 },
 "nbformat": 4,
 "nbformat_minor": 4
}
